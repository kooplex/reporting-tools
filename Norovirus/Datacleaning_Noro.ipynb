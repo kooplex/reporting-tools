{
 "cells": [
  {
   "cell_type": "code",
   "execution_count": 112,
   "metadata": {},
   "outputs": [],
   "source": [
    "import pandas as pd\n",
    "import numpy as np\n",
    "import datetime\n",
    "import json\n",
    "import pivottablejs\n",
    "from IPython.display import HTML\n",
    "import IPython.core.display as di\n",
    "from IPython.display import display\n",
    "from IPython.display import Markdown as md"
   ]
  },
  {
   "cell_type": "code",
   "execution_count": 113,
   "metadata": {},
   "outputs": [],
   "source": [
    "#!pip install --user pyarrow"
   ]
  },
  {
   "cell_type": "code",
   "execution_count": 114,
   "metadata": {},
   "outputs": [],
   "source": [
    "#df = pd.read_csv('metadata/Results-20180101.csv', low_memory=False, sep=',')\n",
    "df = pd.read_csv('metadata/noronet_metadata.csv', low_memory=False, sep=',')#, index_col=0)"
   ]
  },
  {
   "cell_type": "markdown",
   "metadata": {},
   "source": [
    "We should group sequences based on their Genogroups, and there are 4 columns for this info"
   ]
  },
  {
   "cell_type": "code",
   "execution_count": 115,
   "metadata": {},
   "outputs": [
    {
     "data": {
      "text/plain": [
       "{'Caliciviridae Norovirus GI',\n",
       " 'Caliciviridae Norovirus GII',\n",
       " 'Caliciviridae Norovirus GIII',\n",
       " 'Caliciviridae Norovirus GIV',\n",
       " 'Caliciviridae Norovirus GV',\n",
       " 'Caliciviridae Norovirus GVII',\n",
       " 'Caliciviridae Sapovirus GI',\n",
       " 'Caliciviridae Sapovirus GII',\n",
       " 'Unassigned',\n",
       " nan}"
      ]
     },
     "execution_count": 115,
     "metadata": {},
     "output_type": "execute_result"
    }
   ],
   "source": [
    "s = set()\n",
    "for i in range(1,5):\n",
    "    s = s.union(set(df['seq %d: Genus / Genogroup'%i].unique()))\n",
    "s"
   ]
  },
  {
   "cell_type": "code",
   "execution_count": 116,
   "metadata": {},
   "outputs": [
    {
     "data": {
      "text/plain": [
       "['Caliciviridae Norovirus GV',\n",
       " 'Caliciviridae Sapovirus GI',\n",
       " 'Caliciviridae Norovirus GII',\n",
       " 'Caliciviridae Sapovirus GII',\n",
       " 'Caliciviridae Norovirus GVII',\n",
       " 'Caliciviridae Norovirus GIV',\n",
       " 'Caliciviridae Norovirus GI',\n",
       " 'Caliciviridae Norovirus GIII']"
      ]
     },
     "execution_count": 116,
     "metadata": {},
     "output_type": "execute_result"
    }
   ],
   "source": [
    "available_genogroups = list(s)\n",
    "available_genogroups.remove(np.nan)\n",
    "available_genogroups.remove('Unassigned')\n",
    "available_genogroups"
   ]
  },
  {
   "cell_type": "code",
   "execution_count": 117,
   "metadata": {},
   "outputs": [
    {
     "name": "stderr",
     "output_type": "stream",
     "text": [
      "/opt/conda/lib/python3.7/site-packages/ipykernel_launcher.py:4: SettingWithCopyWarning: \n",
      "A value is trying to be set on a copy of a slice from a DataFrame.\n",
      "Try using .loc[row_indexer,col_indexer] = value instead\n",
      "\n",
      "See the caveats in the documentation: https://pandas.pydata.org/pandas-docs/stable/user_guide/indexing.html#returning-a-view-versus-a-copy\n",
      "  after removing the cwd from sys.path.\n"
     ]
    }
   ],
   "source": [
    "for i in range(1,5):\n",
    "    gengroup = 'seq %d: Genus / Genogroup'%i\n",
    "    #print(df[gengroup].fillna().sum())\n",
    "    df[df[gengroup].isna()][gengroup] = 'Unassigned'"
   ]
  },
  {
   "cell_type": "markdown",
   "metadata": {},
   "source": [
    "#### We will create a new DataFrame, but each seqX will be in a separate row\n",
    "For that we need to determine, which columns/metadata will be copied along"
   ]
  },
  {
   "cell_type": "code",
   "execution_count": 118,
   "metadata": {},
   "outputs": [],
   "source": [
    "#df.columns"
   ]
  },
  {
   "cell_type": "code",
   "execution_count": 119,
   "metadata": {},
   "outputs": [],
   "source": [
    "#First get rid of the columns that contain a summary of other columns\n",
    "drop_cols = ['ORF1', 'ORF1 variant', 'ORF2', 'ORF2 variant', 'Genus / Genogroup' ]\n",
    "df = df.drop(drop_cols, axis=1)"
   ]
  },
  {
   "cell_type": "code",
   "execution_count": 120,
   "metadata": {},
   "outputs": [],
   "source": [
    "copycols = list(df.columns)\n",
    "#print(copycols)\n",
    "copycols = ['User', 'Institute', 'Database ID', 'Country', 'Submission Date','Last Update', 'Outbreak Nr', 'Sample Date', 'Dutch lab Y/N', 'Nosocomial infection Y/N (sampledate > 2days after date of hospitalization)', 'Outbreak or sporadic case O/S',\n",
    " 'Source of the sample', 'Specify source', 'Specify animal', 'Suspected country of infection', 'Date of first disease', 'Geo-coded location', 'Suspected mode of transmission',\n",
    " 'Specify other mode of transmission', 'Food item', 'Specify food item', 'Setting of the outbreak', 'Specify setting', 'Point source transmission Y/N', 'Date of point source transmission',\n",
    " 'Nr of persons affected', 'Nr of persons at risk', 'Nr of cases deceased', 'Nr of cases hospitalized due to infection', 'Nr of cases of ages 0 to 4', 'Nr of cases of ages 5 to 14',\n",
    " 'Nr of cases of ages 15 to 64', 'Nr of cases of age 65 or older', 'Nr of cases with vomiting', 'Nr of cases with diarrhea', 'Nr of cases with vomiting AND diarrhea',\n",
    " 'Mixed infection Y/N', 'Specify other pathogen(s)', 'Nr of samples tested', 'Nr of PCR positive samples', 'Nr of PCR negative samples', 'Included in II.4 P2 capsid surveillance',\n",
    " 'fasta_id', 'reference_id', 'fragment_begin', 'Genus-Genogroup', 'ORF1', 'ORF1_variant', 'ORF2', 'ORF2_variant', 'Reference_sequence_for_positions', 'Cluster']"
   ]
  },
  {
   "cell_type": "code",
   "execution_count": 121,
   "metadata": {},
   "outputs": [],
   "source": [
    "tdfs = []\n",
    "for si in range(1,5):\n",
    "    rename_dict = {'seq %d: fasta id'%(si): 'fasta_id',\n",
    "                   'seq %d: reference id'%(si): 'reference_id',\n",
    "                   'seq %d: fragment begin'%(si): 'fragment_begin',\n",
    "                   'seq %d: fragment end'%(si): 'fragment_end',\n",
    "                   'seq %d: Genus / Genogroup'%(si): 'Genus-Genogroup',\n",
    "                   'seq %d: ORF1'%(si): 'ORF1',\n",
    "                   'seq %d: ORF1 variant'%(si): 'ORF1_variant',\n",
    "                   'seq %d: ORF2'%(si): 'ORF2',\n",
    "                   'seq %d: ORF2 variant'%(si): 'ORF2_variant',\n",
    "                   'seq %d: Reference sequence for positions'%(si): 'Reference_sequence_for_positions',\n",
    "                   'seq %d: Cluster'%(si): 'Cluster'}\n",
    "    tdfs.append(df.rename(rename_dict, axis=1)[copycols])\n",
    "#     for ir, r in tdf.iterrows():\n",
    "#         gengroup = 'Genus-Genogroup'\n",
    "#         if r[gengroup] in available_genogroups:\n",
    "#             ndf.append(r, ignore_index=True)\n",
    "\n",
    "ndf = pd.concat(tdfs)"
   ]
  },
  {
   "cell_type": "code",
   "execution_count": 122,
   "metadata": {},
   "outputs": [
    {
     "name": "stdout",
     "output_type": "stream",
     "text": [
      "(82912, 52)\n",
      "(26527, 52)\n",
      "(201, 52)\n"
     ]
    }
   ],
   "source": [
    "print(ndf.shape)\n",
    "ndf = ndf[ndf['Genus-Genogroup'].notna()]\n",
    "ndf = ndf.reset_index(level=0, drop=True)\n",
    "print(ndf.shape)\n",
    "print(ndf[ndf['Genus-Genogroup']=='Unassigned'].shape)"
   ]
  },
  {
   "cell_type": "markdown",
   "metadata": {},
   "source": [
    "## Data cleaning\n",
    "drop columns with irrelevant data"
   ]
  },
  {
   "cell_type": "markdown",
   "metadata": {},
   "source": [
    "Get rid of columns with no value"
   ]
  },
  {
   "cell_type": "code",
   "execution_count": 123,
   "metadata": {},
   "outputs": [
    {
     "name": "stdout",
     "output_type": "stream",
     "text": [
      "Dropping column: Nosocomial infection Y/N (sampledate > 2days after date of hospitalization)\n"
     ]
    }
   ],
   "source": [
    "for c in ndf.columns:\n",
    "    if ndf[c].notna().sum()==0:\n",
    "        print(\"Dropping column: %s\"%c)\n",
    "        ndf.drop(c, axis=1, inplace=True)\n",
    "    "
   ]
  },
  {
   "cell_type": "code",
   "execution_count": 124,
   "metadata": {},
   "outputs": [],
   "source": [
    "drop_irrelevant_cols = ['Dutch lab Y/N',  'Nr of cases with vomiting AND diarrhea']\n",
    "ndf.drop(drop_irrelevant_cols, axis=1, inplace=True)"
   ]
  },
  {
   "cell_type": "code",
   "execution_count": 125,
   "metadata": {},
   "outputs": [
    {
     "name": "stderr",
     "output_type": "stream",
     "text": [
      "/opt/conda/lib/python3.7/site-packages/ipykernel_launcher.py:3: SettingWithCopyWarning: \n",
      "A value is trying to be set on a copy of a slice from a DataFrame.\n",
      "Try using .loc[row_indexer,col_indexer] = value instead\n",
      "\n",
      "See the caveats in the documentation: https://pandas.pydata.org/pandas-docs/stable/user_guide/indexing.html#returning-a-view-versus-a-copy\n",
      "  This is separate from the ipykernel package so we can avoid doing imports until\n"
     ]
    }
   ],
   "source": [
    "# Looks better this way\n",
    "colname = 'Suspected country of infection'\n",
    "ndf[ndf[colname]=='Same as reporting country'][colname] = ndf[ndf[colname]=='Same as reporting country']['Country']"
   ]
  },
  {
   "cell_type": "markdown",
   "metadata": {},
   "source": [
    "#### split ORFs into main and subtype"
   ]
  },
  {
   "cell_type": "code",
   "execution_count": 126,
   "metadata": {},
   "outputs": [
    {
     "data": {
      "text/plain": [
       "array([nan, 'GII.P7', 'GII.P4', 'GII.Pa', 'GII.P3', 'GII.P1', 'GII.P12',\n",
       "       'GII.P2', 'GI.Pb', 'Could not assign', 'GI.P2', 'GII.P5', 'GI.P4',\n",
       "       'GI.P3', 'GII.Pg', 'GII.P6', 'GII.Pf', 'GII.P21', 'GII.Ph',\n",
       "       'GI.P5', 'GII.P16', 'GII.Pr', 'GII.P8', 'GII.Pj', 'GII.Pe',\n",
       "       'GI.P7', 'GII.P13', 'GI.Pd', 'GI.Pa', 'GI.P1', 'GI.Pf', 'GII.P22',\n",
       "       'GI.P9', 'GII.P17', 'GI.P6', 'GII.Pm', 'GI.P8', 'GII.P20',\n",
       "       'GII.Pc', 'GII.Pq', 'GII.P11', 'GII.P30 (GII.Pc)',\n",
       "       'GI.P13 (GI.Pd)', 'GII.P31 (GII.Pe)', 'GI.P14 (GI.Pf)',\n",
       "       'GII.P21 (GII.Pb)', 'GI.P11 (GI.Pb)', 'GII.P15'], dtype=object)"
      ]
     },
     "execution_count": 126,
     "metadata": {},
     "output_type": "execute_result"
    }
   ],
   "source": [
    "ndf['ORF1'].unique()"
   ]
  },
  {
   "cell_type": "code",
   "execution_count": 127,
   "metadata": {},
   "outputs": [],
   "source": [
    "ndf.loc[ndf['ORF1']=='Could not assign', 'ORF1'] = 'Unknown'\n",
    "ndf.loc[ndf['ORF2']=='Could not assign', 'ORF2'] = 'Unknown'"
   ]
  },
  {
   "cell_type": "code",
   "execution_count": 128,
   "metadata": {},
   "outputs": [],
   "source": [
    "ndf['ORF1_sub'] = ndf['ORF1'].apply(lambda x: x.split(\".\")[-1] if type(x) != np.float else 'Unknown')\n",
    "ndf['ORF1'] = ndf['ORF1'].apply(lambda x: x.split(\".\")[0] if type(x) != np.float else 'Unknown')\n",
    "ndf['ORF2_sub'] = ndf['ORF2'].apply(lambda x: x.split(\".\")[-1] if type(x) != np.float else 'Unknown')\n",
    "ndf['ORF2'] = ndf['ORF2'].apply(lambda x: x.split(\".\")[0] if type(x) != np.float else 'Unknown')"
   ]
  },
  {
   "cell_type": "code",
   "execution_count": 129,
   "metadata": {},
   "outputs": [],
   "source": [
    "# Correct Typos\n",
    "ndf.loc[ndf['ORF1_sub']=='Pd)', 'ORF1_sub'] = 'Pd'\n",
    "ndf.loc[ndf['ORF1_sub']=='Pc)', 'ORF1_sub'] = 'Pc'\n",
    "ndf.loc[ndf['ORF1_sub']=='Pe)', 'ORF1_sub'] = 'Pe'"
   ]
  },
  {
   "cell_type": "markdown",
   "metadata": {},
   "source": [
    "### Sort out columns depending on their type of data\n",
    "* with boolean (e.g. yes/no)\n",
    "* with only strings\n",
    "* with few integers\n",
    "* with a range of numbers\n",
    "* with datetime data\n",
    "\n",
    "Then we could put columns with fewer unique values in the columns of the pivottable"
   ]
  },
  {
   "cell_type": "code",
   "execution_count": 130,
   "metadata": {},
   "outputs": [],
   "source": [
    "booleans = ['Outbreak or sporadic case O/S', 'Point source transmission Y/N', 'Mixed infection Y/N', 'Included in II.4 P2 capsid surveillance']\n",
    "numbers = [ 'Nr of persons affected', 'Nr of persons at risk', 'Nr of cases deceased', 'Nr of cases hospitalized due to infection', 'Nr of cases of ages 0 to 4',\n",
    "           'Nr of cases of ages 5 to 14', 'Nr of cases of ages 15 to 64', 'Nr of cases of age 65 or older', 'Nr of cases with vomiting', 'Nr of cases with diarrhea',\n",
    "            'Nr of samples tested', 'Nr of PCR positive samples', 'Nr of PCR negative samples']\n",
    "geo = [ 'Institute', 'Country', 'Suspected country of infection']\n",
    "dates = ['Submission Date', 'Last Update', 'Sample Date','Date of first disease','Date of point source transmission',]\n",
    "ids = ['User', 'Database ID', 'Outbreak Nr']\n",
    "pathological = ['Source of the sample', 'Specify source', 'Suspected mode of transmission', 'Specify other mode of transmission', 'Food item', 'Specify food item',\n",
    " 'Setting of the outbreak', 'Specify setting', 'Specify other pathogen(s)']\n",
    "seq_data =['fasta_id', 'reference_id', 'fragment_begin', 'Genus-Genogroup', 'ORF1', 'ORF1_sub', 'ORF1_variant', 'ORF2', 'ORF2_sub', 'ORF2_variant', 'Reference_sequence_for_positions', 'Cluster']\n",
    "etc = ['Geo-coded location']"
   ]
  },
  {
   "cell_type": "markdown",
   "metadata": {},
   "source": [
    "### Convert some columns into categorycal type"
   ]
  },
  {
   "cell_type": "code",
   "execution_count": 131,
   "metadata": {},
   "outputs": [],
   "source": [
    "for c in ['Country', 'ORF1_sub', 'ORF2_sub', 'Genus-Genogroup', 'Setting of the outbreak']:\n",
    "    ndf[c] = ndf[c].astype('category')"
   ]
  },
  {
   "cell_type": "markdown",
   "metadata": {},
   "source": [
    "### convert date to datetime"
   ]
  },
  {
   "cell_type": "code",
   "execution_count": 132,
   "metadata": {},
   "outputs": [
    {
     "data": {
      "text/plain": [
       "['Submission Date',\n",
       " 'Last Update',\n",
       " 'Sample Date',\n",
       " 'Date of first disease',\n",
       " 'Date of point source transmission']"
      ]
     },
     "execution_count": 132,
     "metadata": {},
     "output_type": "execute_result"
    }
   ],
   "source": [
    "dates"
   ]
  },
  {
   "cell_type": "code",
   "execution_count": 133,
   "metadata": {},
   "outputs": [],
   "source": [
    " a = pd.to_datetime(ndf['Sample Date'], errors='coerce')"
   ]
  },
  {
   "cell_type": "code",
   "execution_count": 134,
   "metadata": {},
   "outputs": [
    {
     "data": {
      "text/plain": [
       "Series([], Name: Sample Date, dtype: datetime64[ns])"
      ]
     },
     "execution_count": 134,
     "metadata": {},
     "output_type": "execute_result"
    }
   ],
   "source": [
    "a[a==a.isna()]\n"
   ]
  },
  {
   "cell_type": "code",
   "execution_count": 135,
   "metadata": {},
   "outputs": [
    {
     "name": "stdout",
     "output_type": "stream",
     "text": [
      "0\n",
      "1\n",
      "2\n",
      "3\n",
      "4\n"
     ]
    }
   ],
   "source": [
    "for i in range(len(dates)):\n",
    "    print(i)\n",
    "    ndf.loc[:, dates[i]] = pd.to_datetime(ndf[dates[i]], errors='coerce')"
   ]
  },
  {
   "cell_type": "code",
   "execution_count": 136,
   "metadata": {},
   "outputs": [
    {
     "data": {
      "text/html": [
       "<div>\n",
       "<style scoped>\n",
       "    .dataframe tbody tr th:only-of-type {\n",
       "        vertical-align: middle;\n",
       "    }\n",
       "\n",
       "    .dataframe tbody tr th {\n",
       "        vertical-align: top;\n",
       "    }\n",
       "\n",
       "    .dataframe thead th {\n",
       "        text-align: right;\n",
       "    }\n",
       "</style>\n",
       "<table border=\"1\" class=\"dataframe\">\n",
       "  <thead>\n",
       "    <tr style=\"text-align: right;\">\n",
       "      <th></th>\n",
       "      <th>Submission Date</th>\n",
       "      <th>Last Update</th>\n",
       "      <th>Sample Date</th>\n",
       "      <th>Date of first disease</th>\n",
       "      <th>Date of point source transmission</th>\n",
       "    </tr>\n",
       "  </thead>\n",
       "  <tbody>\n",
       "    <tr>\n",
       "      <th>0</th>\n",
       "      <td>1992-01-01</td>\n",
       "      <td>NaT</td>\n",
       "      <td>1992-01-01</td>\n",
       "      <td>1992-01-01</td>\n",
       "      <td>NaT</td>\n",
       "    </tr>\n",
       "    <tr>\n",
       "      <th>1</th>\n",
       "      <td>1994-01-01</td>\n",
       "      <td>NaT</td>\n",
       "      <td>1994-01-01</td>\n",
       "      <td>1994-01-01</td>\n",
       "      <td>NaT</td>\n",
       "    </tr>\n",
       "    <tr>\n",
       "      <th>2</th>\n",
       "      <td>1994-01-01</td>\n",
       "      <td>NaT</td>\n",
       "      <td>1994-01-01</td>\n",
       "      <td>1994-01-01</td>\n",
       "      <td>NaT</td>\n",
       "    </tr>\n",
       "    <tr>\n",
       "      <th>3</th>\n",
       "      <td>1997-01-01</td>\n",
       "      <td>NaT</td>\n",
       "      <td>1997-01-01</td>\n",
       "      <td>1997-01-01</td>\n",
       "      <td>NaT</td>\n",
       "    </tr>\n",
       "    <tr>\n",
       "      <th>4</th>\n",
       "      <td>1997-01-01</td>\n",
       "      <td>NaT</td>\n",
       "      <td>1997-01-01</td>\n",
       "      <td>1997-01-01</td>\n",
       "      <td>NaT</td>\n",
       "    </tr>\n",
       "  </tbody>\n",
       "</table>\n",
       "</div>"
      ],
      "text/plain": [
       "  Submission Date Last Update Sample Date Date of first disease  \\\n",
       "0      1992-01-01         NaT  1992-01-01            1992-01-01   \n",
       "1      1994-01-01         NaT  1994-01-01            1994-01-01   \n",
       "2      1994-01-01         NaT  1994-01-01            1994-01-01   \n",
       "3      1997-01-01         NaT  1997-01-01            1997-01-01   \n",
       "4      1997-01-01         NaT  1997-01-01            1997-01-01   \n",
       "\n",
       "  Date of point source transmission  \n",
       "0                               NaT  \n",
       "1                               NaT  \n",
       "2                               NaT  \n",
       "3                               NaT  \n",
       "4                               NaT  "
      ]
     },
     "execution_count": 136,
     "metadata": {},
     "output_type": "execute_result"
    }
   ],
   "source": [
    "ndf[dates].head()"
   ]
  },
  {
   "cell_type": "code",
   "execution_count": 137,
   "metadata": {},
   "outputs": [],
   "source": [
    "ndf = ndf[ndf['Sample Date'].notna()]"
   ]
  },
  {
   "cell_type": "code",
   "execution_count": 142,
   "metadata": {},
   "outputs": [],
   "source": [
    "ndf = ndf.reset_index(drop=True)"
   ]
  },
  {
   "cell_type": "markdown",
   "metadata": {},
   "source": [
    "### Saving data"
   ]
  },
  {
   "cell_type": "code",
   "execution_count": 143,
   "metadata": {},
   "outputs": [],
   "source": [
    "# dataframe\n",
    "#output = \"noronet_clean.fr\"\n",
    "output = \"noronet_all_clean.fr\"\n",
    "#output_categories = \"categories.json\"\n",
    "output_categories = \"categories_all.json\"\n",
    "ndf.to_feather(output)\n",
    "\n",
    "# categories\n",
    "dict_categories = {'geo':geo,\n",
    "                  'booleans':booleans,\n",
    "                  'numbers': numbers,\n",
    "                  'dates': dates,\n",
    "                   'ids': ids,\n",
    "                   'pathological': pathological,\n",
    "                   'seq_data': seq_data,\n",
    "                   'etc': etc\n",
    "                  }\n",
    "\n",
    "with open(output_categories, 'w') as f:\n",
    "    f.write(json.dumps(dict_categories))\n"
   ]
  },
  {
   "cell_type": "markdown",
   "metadata": {},
   "source": [
    "### Lets see each categories in detail, and check if we didn't miss any detail"
   ]
  },
  {
   "cell_type": "code",
   "execution_count": null,
   "metadata": {},
   "outputs": [],
   "source": [
    "#booleans\n",
    "for c in booleans:\n",
    "    print(ndf[c].unique())\n",
    "ndf[booleans].info()"
   ]
  },
  {
   "cell_type": "code",
   "execution_count": null,
   "metadata": {},
   "outputs": [],
   "source": [
    "#numbers\n",
    "dict_numbers_unique_values = { c: len(ndf[c].unique()) for c in numbers}\n",
    "print(\"Number of unique values for each column\")\n",
    "for k in dict_numbers_unique_values.keys():\n",
    "    print(k, \"\\t\",dict_numbers_unique_values[k])\n",
    "\n",
    "print(\"\\nInformations about the numbers category\")\n",
    "ndf[numbers].info()"
   ]
  },
  {
   "cell_type": "code",
   "execution_count": null,
   "metadata": {},
   "outputs": [],
   "source": [
    "#geo\n",
    "dict_unique_values = { c: len(ndf[c].unique()) for c in geo}\n",
    "print(\"Number of unique values for each column\")\n",
    "for k in dict_unique_values.keys():\n",
    "    print(k, \"\\t\",dict_unique_values[k])\n",
    "\n",
    "print(\"\\nInformations about the geo data\")\n",
    "ndf[geo].info()"
   ]
  },
  {
   "cell_type": "code",
   "execution_count": null,
   "metadata": {},
   "outputs": [],
   "source": [
    "#dates\n",
    "dict_unique_values = { c: len(ndf[c].unique()) for c in dates}\n",
    "print(\"Number of unique values for each column\")\n",
    "for k in dict_unique_values.keys():\n",
    "    print(k, \"\\t\",dict_unique_values[k])\n",
    "\n",
    "print(\"\\nInformations about the numbers category\")\n",
    "ndf[dates].info()"
   ]
  },
  {
   "cell_type": "code",
   "execution_count": null,
   "metadata": {},
   "outputs": [],
   "source": [
    "#pathological\n",
    "dict_unique_values = { c: len(ndf[c].unique()) for c in pathological}\n",
    "print(\"Number of unique values for each column\")\n",
    "for k in dict_unique_values.keys():\n",
    "    print(k, \"\\t\",dict_unique_values[k])\n",
    "\n",
    "print(\"\\nInformations about the pathological category\")\n",
    "ndf[pathological].info()"
   ]
  },
  {
   "cell_type": "code",
   "execution_count": null,
   "metadata": {},
   "outputs": [],
   "source": [
    "#seq\n",
    "print(\"\\nInformations about the the sequences\")\n",
    "ndf[seq_data].info()"
   ]
  },
  {
   "cell_type": "code",
   "execution_count": null,
   "metadata": {},
   "outputs": [],
   "source": []
  }
 ],
 "metadata": {
  "kernelspec": {
   "display_name": "Python 3",
   "language": "python",
   "name": "python3"
  },
  "language_info": {
   "codemirror_mode": {
    "name": "ipython",
    "version": 3
   },
   "file_extension": ".py",
   "mimetype": "text/x-python",
   "name": "python",
   "nbconvert_exporter": "python",
   "pygments_lexer": "ipython3",
   "version": "3.7.3"
  }
 },
 "nbformat": 4,
 "nbformat_minor": 4
}
