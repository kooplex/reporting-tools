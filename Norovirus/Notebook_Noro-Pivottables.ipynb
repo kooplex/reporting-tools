{
 "cells": [
  {
   "cell_type": "code",
   "execution_count": 2,
   "metadata": {},
   "outputs": [],
   "source": [
    "import pandas as pd\n",
    "import numpy as np\n",
    "import datetime\n",
    "import json\n",
    "import pivottablejs\n",
    "from IPython.display import HTML\n",
    "import IPython.core.display as di\n",
    "from IPython.display import display\n",
    "from IPython.display import Markdown as md"
   ]
  },
  {
   "cell_type": "code",
   "execution_count": 17,
   "metadata": {},
   "outputs": [],
   "source": [
    "# dataframe\n",
    "df = pd.read_json('noronet_clean.json')"
   ]
  },
  {
   "cell_type": "code",
   "execution_count": 26,
   "metadata": {},
   "outputs": [],
   "source": [
    "# categories\n",
    "dict_categories = {}\n",
    "\n",
    "with open(\"categories.json\", 'r') as f:\n",
    "    dict_categories = json.loads(f.read())"
   ]
  },
  {
   "cell_type": "code",
   "execution_count": 31,
   "metadata": {},
   "outputs": [],
   "source": [
    "rows = dict_categories['pathological'].copy()\n",
    "cols = dict_categories['numbers'].copy()\n",
    "tt = rows\n",
    "tt.extend(cols)"
   ]
  },
  {
   "cell_type": "code",
   "execution_count": 32,
   "metadata": {},
   "outputs": [
    {
     "data": {
      "text/html": [
       "\n",
       "        <iframe\n",
       "            width=\"100%\"\n",
       "            height=\"500\"\n",
       "            src=\"T1.html\"\n",
       "            frameborder=\"0\"\n",
       "            allowfullscreen\n",
       "        ></iframe>\n",
       "        "
      ],
      "text/plain": [
       "<IPython.lib.display.IFrame at 0x7f846a6a7810>"
      ]
     },
     "metadata": {},
     "output_type": "display_data"
    }
   ],
   "source": [
    "display(pivottablejs.pivot_ui(df[tt], rows=rows, cols=cols, rendererName='Table', outfile_path='T1.html'))"
   ]
  },
  {
   "cell_type": "code",
   "execution_count": 30,
   "metadata": {},
   "outputs": [
    {
     "data": {
      "text/plain": [
       "{'geo': ['Institute', 'Country', 'Suspected country of infection'],\n",
       " 'booleans': ['Outbreak or sporadic case O/S',\n",
       "  'Point source transmission Y/N',\n",
       "  'Mixed infection Y/N',\n",
       "  'Included in II.4 P2 capsid surveillance'],\n",
       " 'numbers': ['Nr of persons affected',\n",
       "  'Nr of persons at risk',\n",
       "  'Nr of cases deceased',\n",
       "  'Nr of cases hospitalized due to infection',\n",
       "  'Nr of cases of ages 0 to 4',\n",
       "  'Nr of cases of ages 5 to 14',\n",
       "  'Nr of cases of ages 15 to 64',\n",
       "  'Nr of cases of age 65 or older',\n",
       "  'Nr of cases with vomiting',\n",
       "  'Nr of cases with diarrhea',\n",
       "  'Nr of samples tested',\n",
       "  'Nr of PCR positive samples',\n",
       "  'Nr of PCR negative samples'],\n",
       " 'dates': ['Submission Date',\n",
       "  'Last Update',\n",
       "  'Sample Date',\n",
       "  'Date of first disease',\n",
       "  'Date of point source transmission'],\n",
       " 'ids': ['User', 'Database ID', 'Outbreak Nr'],\n",
       " 'pathological': ['Source of the sample',\n",
       "  'Specify source',\n",
       "  'Suspected mode of transmission',\n",
       "  'Specify other mode of transmission',\n",
       "  'Food item',\n",
       "  'Specify food item',\n",
       "  'Setting of the outbreak',\n",
       "  'Specify setting',\n",
       "  'Specify other pathogen(s)'],\n",
       " 'seq_data': ['fasta_id',\n",
       "  'reference_id',\n",
       "  'fragment_begin',\n",
       "  'Genus-Genogroup',\n",
       "  'ORF1',\n",
       "  'ORF1_variant',\n",
       "  'ORF2',\n",
       "  'ORF2_variant',\n",
       "  'Reference_sequence_for_positions',\n",
       "  'Cluster'],\n",
       " 'etc': ['Geo-coded location']}"
      ]
     },
     "execution_count": 30,
     "metadata": {},
     "output_type": "execute_result"
    }
   ],
   "source": [
    "dict_categories"
   ]
  },
  {
   "cell_type": "code",
   "execution_count": null,
   "metadata": {},
   "outputs": [],
   "source": []
  }
 ],
 "metadata": {
  "kernelspec": {
   "display_name": "Python 3",
   "language": "python",
   "name": "python3"
  },
  "language_info": {
   "codemirror_mode": {
    "name": "ipython",
    "version": 3
   },
   "file_extension": ".py",
   "mimetype": "text/x-python",
   "name": "python",
   "nbconvert_exporter": "python",
   "pygments_lexer": "ipython3",
   "version": "3.7.6"
  }
 },
 "nbformat": 4,
 "nbformat_minor": 4
}
