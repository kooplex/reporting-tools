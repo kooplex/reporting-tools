{
 "cells": [
  {
   "cell_type": "code",
   "execution_count": null,
   "metadata": {},
   "outputs": [],
   "source": [
    "from bokeh.models import ColumnDataSource, Plot, LinearAxis, Grid, Circle, HoverTool, BoxSelectTool,\\\n",
    "    SaveTool, CustomJS, DatetimeAxis, LinearAxis, NumeralTickFormatter, FactorRange, CategoricalColorMapper,\\\n",
    "    Legend\n",
    "from bokeh.models.widgets.tables import (\n",
    "    DataTable, TableColumn, IntEditor\n",
    ")\n",
    "from bokeh.models.widgets import DataTable, TableColumn, StringFormatter,\\\n",
    "        NumberFormatter, StringEditor, IntEditor, NumberEditor, SelectEditor,\\\n",
    "        CheckboxButtonGroup, CheckboxGroup, MultiSelect, RadioButtonGroup,\\\n",
    "        Select, Slider, Panel, Tabs, TextInput, Paragraph, Div, Button, Dropdown,\\\n",
    "        DateRangeSlider\n",
    "\n",
    "from bokeh.models.annotations import Label, LabelSet\n",
    "\n",
    "\n",
    "from bokeh.palettes import Magma9, Category20b, Category20c\n",
    "from bokeh.transform import factor_cmap\n",
    "\n",
    "from bokeh.models.glyphs import Circle\n",
    "from bokeh.io import curdoc, output_notebook, show as showio\n",
    "from bokeh.plotting import show, figure\n",
    "from bokeh.document import Document\n",
    "from bokeh.models.layouts import Column, Row\n",
    "from bokeh.layouts import gridplot\n",
    "from bokeh.embed import file_html\n",
    "from bokeh.resources import INLINE\n",
    "from bokeh.util.browser import view\n",
    "from bokeh.transform import cumsum\n",
    "\n",
    "import copy, json\n",
    "import pandas as pd\n",
    "import numpy as np\n",
    "from datetime import date, datetime as dt"
   ]
  },
  {
   "cell_type": "code",
   "execution_count": null,
   "metadata": {},
   "outputs": [],
   "source": [
    "#dates = dict_categories['dates']"
   ]
  },
  {
   "cell_type": "markdown",
   "metadata": {},
   "source": [
    "Global values"
   ]
  },
  {
   "cell_type": "code",
   "execution_count": null,
   "metadata": {},
   "outputs": [],
   "source": [
    "CIRCLE_RADIUS = 0.48"
   ]
  },
  {
   "cell_type": "markdown",
   "metadata": {},
   "source": [
    "### Create color palette globally for GI and GII subtypes"
   ]
  },
  {
   "cell_type": "code",
   "execution_count": null,
   "metadata": {},
   "outputs": [],
   "source": [
    "def create_palettes(data_df, col, palette_type):\n",
    "    uniques = data_df[data_df[col].notna()][col].unique()\n",
    "    uniques.sort()\n",
    "    color_map = {'field': col,\n",
    "                      'transform': CategoricalColorMapper(palette=palette_type[len(uniques)],\n",
    "                                                          factors=uniques)\n",
    "                     }\n",
    "    return color_map"
   ]
  },
  {
   "cell_type": "markdown",
   "metadata": {},
   "source": [
    "### Select data with a slider"
   ]
  },
  {
   "cell_type": "code",
   "execution_count": null,
   "metadata": {},
   "outputs": [],
   "source": [
    "# min_date = df[dates[0]].min()\n",
    "# max_date = df[dates[0]].max()\n",
    "\n",
    "# date_range_slider = DateRangeSlider(title=\"Date Range: \", start=min_date, end=max_date, value=(min_date, max_date), step=1)\n",
    "# show(date_range_slider)\n",
    "\n",
    "# date_range_slider.value "
   ]
  },
  {
   "cell_type": "markdown",
   "metadata": {},
   "source": [
    "### Simple countrywise pie chart for GI"
   ]
  },
  {
   "cell_type": "markdown",
   "metadata": {},
   "source": [
    "#### Figure 5. GI polymerase genotypes per country (>10 submitted sequences)"
   ]
  },
  {
   "cell_type": "code",
   "execution_count": null,
   "metadata": {},
   "outputs": [],
   "source": [
    "def create_orf1_country_pie(data_df, country, color_map):\n",
    "    \"\"\"\n",
    "    Creates a pie chart for \n",
    "    :param country: one selected country\n",
    "    :param color_map: \n",
    "    \"\"\"\n",
    "    # Get data for that country\n",
    "    c_tdf = data_df.loc[country].copy()\n",
    "    \n",
    "    # add angles for the slices\n",
    "    c_tdf['angle'] = c_tdf['ORF1']/c_tdf['ORF1'].sum() * 2*np.pi\n",
    "    \n",
    "    # add labels for the slices\n",
    "    c_tdf['wedge_label_ORF1'] = c_tdf['ORF1'].astype('str').str.pad(18, side = \"left\")\n",
    "    \n",
    "    # create DataSource\n",
    "    source = ColumnDataSource(c_tdf)\n",
    "    \n",
    "    # create figure, with hover tool\n",
    "    p = figure( plot_height=270, plot_width=300, title=\"%s\"%country, toolbar_location=None,\n",
    "               tools=\"hover\", tooltips=\"@ORF1_sub: @ORF1\", x_range=(-0.5, 1.0))\n",
    "    \n",
    "    # create slices\n",
    "    p.wedge(x=0, y=0, radius=CIRCLE_RADIUS,\n",
    "            start_angle=cumsum('angle', include_zero=True), end_angle=cumsum('angle'),\n",
    "            line_color=\"white\", fill_color=color_map, source=source)\n",
    "    \n",
    "    # create slice labels\n",
    "    labels = LabelSet(x=0, y=0, text='wedge_label_ORF1',\n",
    "        angle=cumsum('angle', include_zero=True), source=source,\n",
    "                      #background_fill_color='green', background_fill_alpha=0.2,\n",
    "                      render_mode='canvas')\n",
    "    p.add_layout(labels)\n",
    "    \n",
    "    # create sum label\n",
    "    label = Label(x=CIRCLE_RADIUS, y=CIRCLE_RADIUS, x_offset=0, text=\"Sum: %d\"%c_tdf['ORF1'].sum())\n",
    "    p.add_layout(label) \n",
    "\n",
    "    p.axis.axis_label=None;\n",
    "    p.axis.visible=False;\n",
    "    p.grid.grid_line_color = None\n",
    "    \n",
    "    return p\n",
    "\n",
    "def create_orf1_country_all_pie(data_df, color_map):\n",
    "    total_df = data_df.reset_index(level=0).reset_index(level=0).groupby('ORF1_sub').count()\n",
    "    total_df['angle'] = total_df['ORF1']/total_df['ORF1'].sum() * 2*np.pi\n",
    "    source = ColumnDataSource(total_df)\n",
    "    total = figure( plot_width=260, title=\"All Countries\", toolbar_location=None,\n",
    "           tools=\"hover\", tooltips=\"@ORF1_sub: @ORF1\", x_range=(-0.5, 1.0))\n",
    "    total.wedge(x=0, y=0, radius=CIRCLE_RADIUS,\n",
    "        start_angle=cumsum('angle', include_zero=True), end_angle=cumsum('angle'),\n",
    "        line_color=\"white\", fill_color=color_map, legend_field='ORF1_sub', source=source)\n",
    "\n",
    "    total.axis.axis_label=None;\n",
    "    total.axis.visible=False;\n",
    "    total.grid.grid_line_color = None\n",
    "    \n",
    "    return total\n",
    "\n",
    "def create_country_pie(df, countries=[], genotype=\"gi\", orf_type='ORF1_sub'):\n",
    "    \"\"\"\n",
    "     The input DataFrame is plotted for \n",
    "     :param countries: for each country\n",
    "     :param genotype: GI or GII genotypes: \n",
    "     :param orf_type: ORF types ORF1_sub, ORF2_sub\n",
    "    \"\"\"\n",
    "    tdf = df.copy()\n",
    "    \n",
    "    # Filter for Genotype\n",
    "    if genotype==\"gi\":\n",
    "        tdf = tdf[tdf['Genus-Genogroup']=='Caliciviridae Norovirus GI']\n",
    "    else:\n",
    "        tdf = tdf[tdf['Genus-Genogroup']=='Caliciviridae Norovirus GII']    \n",
    "        \n",
    "    #Create an absolut color map first for this genotype\n",
    "    palette_type = Category20b if genotype == 'gi' else Category20c\n",
    "    color_map = create_palettes(tdf, orf_type , palette_type)\n",
    "    \n",
    "    # Filter for countries\n",
    "    if countries!=[]:\n",
    "        tdf = tdf[tdf['Country'].apply(lambda x: True if x in countries else False)]   \n",
    "    else:\n",
    "        countries = list(tdf['Country'].unique())\n",
    "        \n",
    "    tdf = tdf.groupby(['Country', orf_type]).count() #\n",
    "    tdf = tdf[['Sample Date', 'ORF1',  'ORF2', 'ORF2_sub']]\n",
    "        \n",
    "    num_cols = 3\n",
    "    lay = Column()\n",
    "    for ic, c in enumerate(countries):\n",
    "        if ic%num_cols==0:\n",
    "            lay.children.append(Row())\n",
    "        p = create_orf1_country_pie(tdf, c, color_map)\n",
    "        lay.children[-1].children.append(p)\n",
    "\n",
    "    total = create_orf1_country_all_pie(tdf, color_map)\n",
    "\n",
    "    min_date = df['Sample Date'].min()\n",
    "    max_date = df['Sample Date'].max()\n",
    "    #Title = Div(text=\"\"\"<h2>Data between %s and %s</h2>\"\"\"%(min_date.strftime(\"%d/%m/%Y\"), max_date.strftime(\"%d/%m/%Y\")))\n",
    "\n",
    "    #return Column(Title,Row(lay, total))\n",
    "    return Column(Row(lay, total))"
   ]
  },
  {
   "cell_type": "code",
   "execution_count": null,
   "metadata": {},
   "outputs": [],
   "source": [
    "# output_notebook()\n",
    "# # dataframe\n",
    "# #df = pd.read_json('noronet_clean.json')\n",
    "# df = pd.read_feather('noronet_clean.fr')\n",
    "\n",
    "# # categories\n",
    "# dict_categories = {}\n",
    "\n",
    "# with open(\"categories.json\", 'r') as f:\n",
    "#     dict_categories = json.loads(f.read())\n",
    "\n",
    "# # del unknown rows\n",
    "# df = df[df['ORF1_sub']!='Unknown']\n",
    "\n",
    "# ### Split DataFrame to GI and GII\n",
    "\n",
    "# gi_df = df[df['Genus-Genogroup']=='Caliciviridae Norovirus GI']\n",
    "# gii_df = df[df['Genus-Genogroup']=='Caliciviridae Norovirus GII']\n",
    "\n",
    "# cc = ['AUSTRIA', 'BELGIUM']\n",
    "# lay = create_country_pie(gi_df, [], genotype=\"gii\", orf_type=\"ORF1_sub\")\n",
    "\n",
    "# #show(create_country_pie(gi_df, g_type=\"gii\"))\n",
    "# show(lay)"
   ]
  },
  {
   "cell_type": "markdown",
   "metadata": {},
   "source": [
    "### Hierarchic pie chart\n",
    "https://stackoverflow.com/questions/33019879/hierarchic-pie-donut-chart-from-pandas-dataframe-using-bokeh-or-matplotlib\n",
    "\n",
    "<img src=\"http://i.stack.imgur.com/YKbzU.png\" width=\"300\" />"
   ]
  },
  {
   "cell_type": "markdown",
   "metadata": {},
   "source": [
    "### Figure 8 Outbreak settings for GI, GII.2, GII.4, GII.6 and GII.17."
   ]
  },
  {
   "cell_type": "markdown",
   "metadata": {},
   "source": [
    "## How to create easily\n",
    "* choose an ORF1_sub type"
   ]
  },
  {
   "cell_type": "code",
   "execution_count": null,
   "metadata": {},
   "outputs": [],
   "source": [
    "def create_outbreaksetting_pie(data_df):\n",
    "    #split into GI and GII\n",
    "#     gi_df = data_df[data_df['Genus-Genogroup']=='Caliciviridae Norovirus GI']\n",
    "#     gii_df = data_df[data_df['Genus-Genogroup']=='Caliciviridae Norovirus GII']\n",
    "#     gii_2 = gii_df[gii_df['ORF1_sub']=='2']\n",
    "#     gii_4 = gii_df[gii_df['ORF1_sub']=='4']\n",
    "#     gii_6 = gii_df[gii_df['ORF1_sub']=='6']\n",
    "#     gii_17 = gii_df[gii_df['ORF1_sub']=='17']\n",
    "\n",
    "    gi = data_df.groupby(['Setting of the outbreak']).count() \n",
    "    color_map = create_palettes(df, 'Setting of the outbreak' , Category20b)\n",
    "    \n",
    "    gi['angle'] = gi['ORF1']/gi['ORF1'].sum() * 2*np.pi\n",
    "    source = ColumnDataSource(gi)\n",
    "    \n",
    "    # figure for the plot\n",
    "    p = figure(plot_height=520, plot_width=620, title=\"Setting for the outbreak for all countries and all types\", toolbar_location=None,\n",
    "           tools=\"hover\", tooltips=\"@{Setting of the outbreak}: @ORF1\", x_range=(-0.5, 1.0))\n",
    "    \n",
    "    # wedge plot\n",
    "    p.wedge(x=0, y=1, radius=CIRCLE_RADIUS,\n",
    "        start_angle=cumsum('angle', include_zero=True), end_angle=cumsum('angle'),\n",
    "        line_color=\"white\", legend_field='Setting of the outbreak', fill_color=color_map, source=source)\n",
    "\n",
    "    #legend = Legend(items=, location=(0, -60))\n",
    "    legend = Legend( location=(0, -60))\n",
    "    #legend.click_policy=\"mute\"\n",
    "\n",
    "    p.add_layout(legend, 'below')\n",
    "\n",
    "    p.axis.axis_label=None; p.axis.visible=False; p.grid.grid_line_color = None\n",
    "    p.legend.click_policy=\"hide\"\n",
    "    return p"
   ]
  },
  {
   "cell_type": "code",
   "execution_count": null,
   "metadata": {},
   "outputs": [],
   "source": [
    "#p = create_outbreaksetting_pie(df)\n",
    "#show(p)"
   ]
  },
  {
   "cell_type": "markdown",
   "metadata": {},
   "source": [
    "### Multiple charts\n",
    "* Use Multichoice or multiselect\n",
    "* generate all"
   ]
  },
  {
   "cell_type": "code",
   "execution_count": null,
   "metadata": {},
   "outputs": [],
   "source": [
    "def create_outbreaksetting_g_type_pie(data_df, g_type, g_sub_type, color_map):\n",
    "    g_df = data_df[(data_df['Genus-Genogroup']==g_type) & (data_df['ORF1_sub']==g_sub_type)]\n",
    "    g_df = g_df.groupby(['Setting of the outbreak']).count() \n",
    "    \n",
    "    g_df['angle'] = g_df['ORF1']/g_df['ORF1'].sum() * 2*np.pi\n",
    "    source = ColumnDataSource(g_df)\n",
    "    p = figure(plot_width=220,plot_height=220, title=\"{0} {1}\".format(g_type, g_sub_type), toolbar_location=None,\n",
    "           tools=\"hover\", tooltips=\"@{Setting of the outbreak}: @ORF1\", x_range=(-0.5, 1.0))\n",
    "    p.wedge(x=0, y=0, radius=CIRCLE_RADIUS,\n",
    "        start_angle=cumsum('angle', include_zero=True), end_angle=cumsum('angle'),\n",
    "        #line_color=\"white\", legend_field='Setting of the outbreak', fill_color=color_map, source=source)\n",
    "        line_color=\"white\", fill_color=color_map, source=source)\n",
    "    \n",
    "    p.axis.axis_label=None; p.axis.visible=False; p.grid.grid_line_color = None\n",
    "    return p"
   ]
  },
  {
   "cell_type": "code",
   "execution_count": null,
   "metadata": {},
   "outputs": [],
   "source": [
    "def create_outbreaksetting_g_types_pie(data_df, choices):\n",
    "    num_cols = 4\n",
    "    \n",
    "    color_map = create_palettes(data_df, 'Setting of the outbreak' , Category20b)\n",
    "    lay = Column()\n",
    "    for ic, c in enumerate(choices):\n",
    "        if ic%num_cols==0:\n",
    "            lay.children.append(Row())\n",
    "            \n",
    "        \n",
    "        p = create_outbreaksetting_g_type_pie(data_df, c[0], c[1], color_map)\n",
    "        #p.legend.visible = False\n",
    "        #if ic == len(choices)-1:\n",
    "            #p.legend.visible = True\n",
    "            #p.plot_width = p.plot_width+200\n",
    "            #p.aspect_ratio=2\n",
    "        lay.children[-1].children.append(p)\n",
    "\n",
    "    #plast = lay.children[-1].children[-1]\n",
    "    #l = Legend(location=(0,-60))\n",
    "    #plast.add_layout(l, 'below')\n",
    "    return Row(lay)\n",
    "\n",
    "# chosen = [('Caliciviridae Norovirus GI','P3'), ('Caliciviridae Norovirus GII','P4'), ('Caliciviridae Norovirus GI','P3'), ('Caliciviridae Norovirus GII','P17')]\n",
    "# ll = create_outbreaksetting_g_types_pie(df, chosen)\n",
    "# show(ll)"
   ]
  },
  {
   "cell_type": "code",
   "execution_count": null,
   "metadata": {},
   "outputs": [],
   "source": []
  }
 ],
 "metadata": {
  "kernelspec": {
   "display_name": "Python 3",
   "language": "python",
   "name": "python3"
  },
  "language_info": {
   "codemirror_mode": {
    "name": "ipython",
    "version": 3
   },
   "file_extension": ".py",
   "mimetype": "text/x-python",
   "name": "python",
   "nbconvert_exporter": "python",
   "pygments_lexer": "ipython3",
   "version": "3.7.3"
  }
 },
 "nbformat": 4,
 "nbformat_minor": 4
}
