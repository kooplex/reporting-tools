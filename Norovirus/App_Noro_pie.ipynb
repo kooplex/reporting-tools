{
 "cells": [
  {
   "cell_type": "code",
   "execution_count": 2,
   "metadata": {},
   "outputs": [
    {
     "ename": "NameError",
     "evalue": "name 'tabs' is not defined",
     "output_type": "error",
     "traceback": [
      "\u001b[0;31m---------------------------------------------------------------------------\u001b[0m",
      "\u001b[0;31mNameError\u001b[0m                                 Traceback (most recent call last)",
      "\u001b[0;32m<ipython-input-2-61a08f03c6e1>\u001b[0m in \u001b[0;36m<module>\u001b[0;34m\u001b[0m\n\u001b[0;32m----> 1\u001b[0;31m \u001b[0;32mfrom\u001b[0m \u001b[0mipynb\u001b[0m\u001b[0;34m.\u001b[0m\u001b[0mfs\u001b[0m\u001b[0;34m.\u001b[0m\u001b[0mfull\u001b[0m\u001b[0;34m.\u001b[0m\u001b[0mDash_Noro_tools\u001b[0m \u001b[0;32mimport\u001b[0m \u001b[0;34m*\u001b[0m\u001b[0;34m\u001b[0m\u001b[0;34m\u001b[0m\u001b[0m\n\u001b[0m",
      "\u001b[0;32m/home/report/_prepare/Norovirus/Dash_Noro_tools.ipynb\u001b[0m in \u001b[0;36m<module>\u001b[0;34m\u001b[0m\n\u001b[1;32m    411\u001b[0m     \u001b[0;34m\"# # D2.init_plot()\\n\"\u001b[0m\u001b[0;34m,\u001b[0m\u001b[0;34m\u001b[0m\u001b[0;34m\u001b[0m\u001b[0m\n\u001b[1;32m    412\u001b[0m     \u001b[0;34m\"\\n\"\u001b[0m\u001b[0;34m,\u001b[0m\u001b[0;34m\u001b[0m\u001b[0;34m\u001b[0m\u001b[0m\n\u001b[0;32m--> 413\u001b[0;31m     \u001b[0;34m\"# # D2.create_api_url()\\n\"\u001b[0m\u001b[0;34m,\u001b[0m\u001b[0;34m\u001b[0m\u001b[0;34m\u001b[0m\u001b[0m\n\u001b[0m\u001b[1;32m    414\u001b[0m     \u001b[0;34m\"# # D2.set_layout('dashboard')\\n\"\u001b[0m\u001b[0;34m,\u001b[0m\u001b[0;34m\u001b[0m\u001b[0;34m\u001b[0m\u001b[0m\n\u001b[1;32m    415\u001b[0m     \u001b[0;34m\"# # #D.set_layout('api')\\n\"\u001b[0m\u001b[0;34m,\u001b[0m\u001b[0;34m\u001b[0m\u001b[0;34m\u001b[0m\u001b[0m\n",
      "\u001b[0;31mNameError\u001b[0m: name 'tabs' is not defined"
     ]
    }
   ],
   "source": [
    "from ipynb.fs.full.Dash_Noro_tools import *"
   ]
  },
  {
   "cell_type": "code",
   "execution_count": 4,
   "metadata": {},
   "outputs": [],
   "source": [
    "import pandas as pd\n",
    "import json\n",
    "from bokeh.resources import CDN\n",
    "from bokeh.embed import file_html, json_item\n",
    "from bokeh.plotting import figure\n",
    "from bokeh.io import curdoc, output_notebook, show \n",
    "from bokeh.document import Document\n",
    "from bokeh.resources import INLINE\n",
    "from bokeh.util.browser import view\n"
   ]
  },
  {
   "cell_type": "code",
   "execution_count": null,
   "metadata": {},
   "outputs": [],
   "source": [
    "# GET /help\n",
    "req = json.loads(REQUEST)\n",
    "args = req['args']\n",
    "\n",
    "help_text = \"\"\"\n",
    "/country_pie\n",
    "\n",
    "/outbreak_pie\n",
    "\n",
    "/factor_bar\n",
    "\n",
    "/orftype_bar\n",
    "\"\"\"\n",
    "\n",
    "print(help_text)"
   ]
  },
  {
   "cell_type": "markdown",
   "metadata": {},
   "source": [
    "### Simple pie chart for all data"
   ]
  },
  {
   "cell_type": "markdown",
   "metadata": {},
   "source": [
    "#### Figure 5. GI polymerase genotypes per country (>10 submitted sequences)"
   ]
  },
  {
   "cell_type": "code",
   "execution_count": 6,
   "metadata": {
    "collapsed": true,
    "jupyter": {
     "outputs_hidden": true
    }
   },
   "outputs": [
    {
     "name": "stderr",
     "output_type": "stream",
     "text": [
      "WARNING:bokeh.embed.util:\n",
      "You are generating standalone HTML/JS output, but trying to use real Python\n",
      "callbacks (i.e. with on_change or on_event). This combination cannot work.\n",
      "\n",
      "Only JavaScript callbacks may be used with standalone output. For more\n",
      "information on JavaScript callbacks with Bokeh, see:\n",
      "\n",
      "    https://docs.bokeh.org/en/latest/docs/user_guide/interaction/callbacks.html\n",
      "\n",
      "Alternatively, to use real Python callbacks, a Bokeh server application may\n",
      "be used. For more information on building and running Bokeh applications, see:\n",
      "\n",
      "    https://docs.bokeh.org/en/latest/docs/user_guide/server.html\n",
      "\n"
     ]
    },
    {
     "name": "stdout",
     "output_type": "stream",
     "text": [
      "{\"target_id\": \"myplot\", \"root_id\": \"1452\", \"doc\": {\"roots\": {\"references\": [{\"attributes\": {\"children\": [{\"id\": \"1004\", \"type\": \"Column\"}]}, \"id\": \"1005\", \"type\": \"Row\"}, {\"attributes\": {\"below\": [{\"id\": \"1242\", \"type\": \"LinearAxis\"}], \"center\": [{\"id\": \"1246\", \"type\": \"Grid\"}, {\"id\": \"1251\", \"type\": \"Grid\"}, {\"id\": \"1263\", \"type\": \"LabelSet\"}, {\"id\": \"1265\", \"type\": \"Label\"}], \"left\": [{\"id\": \"1247\", \"type\": \"LinearAxis\"}], \"plot_height\": 270, \"plot_width\": 300, \"renderers\": [{\"id\": \"1260\", \"type\": \"GlyphRenderer\"}], \"title\": {\"id\": \"1232\", \"type\": \"Title\"}, \"toolbar\": {\"id\": \"1253\", \"type\": \"Toolbar\"}, \"toolbar_location\": null, \"x_range\": {\"id\": \"1234\", \"type\": \"Range1d\"}, \"x_scale\": {\"id\": \"1238\", \"type\": \"LinearScale\"}, \"y_range\": {\"id\": \"1236\", \"type\": \"DataRange1d\"}, \"y_scale\": {\"id\": \"1240\", \"type\": \"LinearScale\"}}, \"id\": \"1231\", \"subtype\": \"Figure\", \"type\": \"Plot\"}, {\"attributes\": {\"active_drag\": \"auto\", \"active_inspect\": \"auto\", \"active_multi\": null, \"active_scroll\": \"auto\", \"active_tap\": \"auto\", \"tools\": [{\"id\": \"1143\", \"type\": \"HoverTool\"}]}, \"id\": \"1144\", \"type\": \"Toolbar\"}, {\"attributes\": {}, \"id\": \"1449\", \"type\": \"UnionRenderers\"}, {\"attributes\": {\"text\": \"Sum: 6\", \"x\": 0.48, \"y\": 0.48}, \"id\": \"1228\", \"type\": \"Label\"}, {\"attributes\": {\"axis_label\": null, \"formatter\": {\"id\": \"1423\", \"type\": \"BasicTickFormatter\"}, \"ticker\": {\"id\": \"1248\", \"type\": \"BasicTicker\"}, \"visible\": false}, \"id\": \"1247\", \"type\": \"LinearAxis\"}, {\"attributes\": {\"angle\": {\"expr\": {\"id\": \"1334\", \"type\": \"CumSum\"}, \"units\": \"rad\"}, \"source\": {\"id\": \"1302\", \"type\": \"ColumnDataSource\"}, \"text\": {\"field\": \"wedge_label_ORF1\"}, \"x\": {\"value\": 0}, \"y\": {\"value\": 0}}, \"id\": \"1335\", \"type\": \"LabelSet\"}, {\"attributes\": {}, \"id\": \"1450\", \"type\": \"Selection\"}, {\"attributes\": {}, \"id\": \"1312\", \"type\": \"LinearScale\"}, {\"attributes\": {\"callback\": null, \"data\": {\"ORF1\": [1, 1, 1], \"ORF1_sub\": [\"P1\", \"P2\", \"P3\"], \"ORF2\": [1, 1, 1], \"ORF2_sub\": [1, 1, 1], \"Sample Date\": [1, 1, 1], \"angle\": {\"__ndarray__\": \"ZXMtOFLBAEBlcy04UsEAQGVzLThSwQBA\", \"dtype\": \"float64\", \"shape\": [3]}, \"wedge_label_ORF1\": [\"                 1\", \"                 1\", \"                 1\"]}, \"selected\": {\"id\": \"1446\", \"type\": \"Selection\"}, \"selection_policy\": {\"id\": \"1445\", \"type\": \"UnionRenderers\"}}, \"id\": \"1230\", \"type\": \"ColumnDataSource\"}, {\"attributes\": {\"callback\": null, \"data\": {\"Country\": [4, 7, 8, 7, 3, 3, 4, 1, 1, 5, 4], \"ORF1\": [4, 7, 8, 7, 3, 3, 4, 1, 1, 5, 4], \"ORF1_sub\": [\"P1\", \"P2\", \"P3\", \"P4\", \"P5\", \"P6\", \"P7\", \"P9\", \"Pa\", \"Pb\", \"Pd\"], \"ORF2\": [4, 7, 8, 7, 3, 3, 4, 1, 1, 5, 4], \"ORF2_sub\": [4, 7, 8, 7, 3, 3, 4, 1, 1, 5, 4], \"Sample Date\": [4, 7, 8, 7, 3, 3, 4, 1, 1, 5, 4], \"angle\": {\"__ndarray__\": \"nlqbVJUc4T+U3g9UBfLtP55am1SVHPE/lN4PVAXy7T/sB+n+36rZP+wH6f7fqtk/nlqbVJUc4T+eWptUlRzBP55am1SVHME/RTHCqbpj5T+eWptUlRzhPw==\", \"dtype\": \"float64\", \"shape\": [11]}}, \"selected\": {\"id\": \"1396\", \"type\": \"Selection\"}, \"selection_policy\": {\"id\": \"1395\", \"type\": \"UnionRenderers\"}}, \"id\": \"1338\", \"type\": \"ColumnDataSource\"}, {\"attributes\": {\"axis_label\": null, \"formatter\": {\"id\": \"1411\", \"type\": \"BasicTickFormatter\"}, \"ticker\": {\"id\": \"1139\", \"type\": \"BasicTicker\"}, \"visible\": false}, \"id\": \"1138\", \"type\": \"LinearAxis\"}, {\"attributes\": {\"callback\": null, \"tooltips\": \"@ORF1_sub: @ORF1\"}, \"id\": \"1143\", \"type\": \"HoverTool\"}, {\"attributes\": {\"axis_label\": null, \"formatter\": {\"id\": \"1429\", \"type\": \"BasicTickFormatter\"}, \"ticker\": {\"id\": \"1315\", \"type\": \"BasicTicker\"}, \"visible\": false}, \"id\": \"1314\", \"type\": \"LinearAxis\"}, {\"attributes\": {\"data_source\": {\"id\": \"1302\", \"type\": \"ColumnDataSource\"}, \"glyph\": {\"id\": \"1330\", \"type\": \"Wedge\"}, \"hover_glyph\": null, \"muted_glyph\": null, \"nonselection_glyph\": {\"id\": \"1331\", \"type\": \"Wedge\"}, \"selection_glyph\": null, \"view\": {\"id\": \"1333\", \"type\": \"CDSView\"}}, \"id\": \"1332\", \"type\": \"GlyphRenderer\"}, {\"attributes\": {}, \"id\": \"1056\", \"type\": \"LinearScale\"}, {\"attributes\": {}, \"id\": \"1129\", \"type\": \"LinearScale\"}, {\"attributes\": {}, \"id\": \"1315\", \"type\": \"BasicTicker\"}, {\"attributes\": {\"children\": [{\"id\": \"1378\", \"type\": \"Column\"}], \"name\": \"pie_div\", \"tags\": [\"plott\"]}, \"id\": \"1379\", \"type\": \"Row\"}, {\"attributes\": {\"callback\": null, \"data\": {\"ORF1\": [1], \"ORF1_sub\": [\"P4\"], \"ORF2\": [1], \"ORF2_sub\": [1], \"Sample Date\": [1], \"angle\": {\"__ndarray__\": \"GC1EVPshGUA=\", \"dtype\": \"float64\", \"shape\": [1]}, \"wedge_label_ORF1\": [\"                 1\"]}, \"selected\": {\"id\": \"1448\", \"type\": \"Selection\"}, \"selection_policy\": {\"id\": \"1447\", \"type\": \"UnionRenderers\"}}, \"id\": \"1266\", \"type\": \"ColumnDataSource\"}, {\"attributes\": {}, \"id\": \"1320\", \"type\": \"BasicTicker\"}, {\"attributes\": {\"children\": [{\"id\": \"1380\", \"type\": \"Column\"}, {\"id\": \"1451\", \"type\": \"Div\"}]}, \"id\": \"1452\", \"type\": \"Column\"}, {\"attributes\": {\"grid_line_color\": null, \"ticker\": {\"id\": \"1315\", \"type\": \"BasicTicker\"}}, \"id\": \"1318\", \"type\": \"Grid\"}, {\"attributes\": {\"end_angle\": {\"expr\": {\"id\": \"1147\", \"type\": \"CumSum\"}, \"units\": \"rad\"}, \"fill_color\": {\"field\": \"ORF1_sub\", \"transform\": {\"id\": \"1009\", \"type\": \"CategoricalColorMapper\"}}, \"line_color\": {\"value\": \"white\"}, \"radius\": {\"units\": \"data\", \"value\": 0.48}, \"start_angle\": {\"expr\": {\"id\": \"1146\", \"type\": \"CumSum\"}, \"units\": \"rad\"}, \"x\": {\"value\": 0}, \"y\": {\"value\": 0}}, \"id\": \"1149\", \"type\": \"Wedge\"}, {\"attributes\": {}, \"id\": \"1092\", \"type\": \"LinearScale\"}, {\"attributes\": {\"field\": \"angle\"}, \"id\": \"1147\", \"type\": \"CumSum\"}, {\"attributes\": {\"callback\": null}, \"id\": \"1054\", \"type\": \"DataRange1d\"}, {\"attributes\": {}, \"id\": \"1396\", \"type\": \"Selection\"}, {\"attributes\": {}, \"id\": \"1058\", \"type\": \"LinearScale\"}, {\"attributes\": {\"end_angle\": {\"expr\": {\"id\": \"1147\", \"type\": \"CumSum\"}, \"units\": \"rad\"}, \"fill_alpha\": {\"value\": 0.1}, \"fill_color\": {\"value\": \"#1f77b4\"}, \"line_alpha\": {\"value\": 0.1}, \"line_color\": {\"value\": \"#1f77b4\"}, \"radius\": {\"units\": \"data\", \"value\": 0.48}, \"start_angle\": {\"expr\": {\"id\": \"1146\", \"type\": \"CumSum\"}, \"units\": \"rad\"}, \"x\": {\"value\": 0}, \"y\": {\"value\": 0}}, \"id\": \"1150\", \"type\": \"Wedge\"}, {\"attributes\": {}, \"id\": \"1346\", \"type\": \"LinearScale\"}, {\"attributes\": {\"callback\": null}, \"id\": \"1090\", \"type\": \"DataRange1d\"}, {\"attributes\": {\"field\": \"angle\", \"include_zero\": true}, \"id\": \"1153\", \"type\": \"CumSum\"}, {\"attributes\": {\"axis_label\": null, \"formatter\": {\"id\": \"1401\", \"type\": \"BasicTickFormatter\"}, \"ticker\": {\"id\": \"1061\", \"type\": \"BasicTicker\"}, \"visible\": false}, \"id\": \"1060\", \"type\": \"LinearAxis\"}, {\"attributes\": {}, \"id\": \"1348\", \"type\": \"LinearScale\"}, {\"attributes\": {}, \"id\": \"1094\", \"type\": \"LinearScale\"}, {\"attributes\": {\"data_source\": {\"id\": \"1121\", \"type\": \"ColumnDataSource\"}, \"glyph\": {\"id\": \"1149\", \"type\": \"Wedge\"}, \"hover_glyph\": null, \"muted_glyph\": null, \"nonselection_glyph\": {\"id\": \"1150\", \"type\": \"Wedge\"}, \"selection_glyph\": null, \"view\": {\"id\": \"1152\", \"type\": \"CDSView\"}}, \"id\": \"1151\", \"type\": \"GlyphRenderer\"}, {\"attributes\": {\"axis_label\": null, \"formatter\": {\"id\": \"1373\", \"type\": \"BasicTickFormatter\"}, \"ticker\": {\"id\": \"1356\", \"type\": \"BasicTicker\"}, \"visible\": false}, \"id\": \"1355\", \"type\": \"LinearAxis\"}, {\"attributes\": {}, \"id\": \"1061\", \"type\": \"BasicTicker\"}, {\"attributes\": {\"axis_label\": null, \"formatter\": {\"id\": \"1405\", \"type\": \"BasicTickFormatter\"}, \"ticker\": {\"id\": \"1097\", \"type\": \"BasicTicker\"}, \"visible\": false}, \"id\": \"1096\", \"type\": \"LinearAxis\"}, {\"attributes\": {}, \"id\": \"1066\", \"type\": \"BasicTicker\"}, {\"attributes\": {\"source\": {\"id\": \"1121\", \"type\": \"ColumnDataSource\"}}, \"id\": \"1152\", \"type\": \"CDSView\"}, {\"attributes\": {\"grid_line_color\": null, \"ticker\": {\"id\": \"1061\", \"type\": \"BasicTicker\"}}, \"id\": \"1064\", \"type\": \"Grid\"}, {\"attributes\": {\"angle\": {\"expr\": {\"id\": \"1153\", \"type\": \"CumSum\"}, \"units\": \"rad\"}, \"source\": {\"id\": \"1121\", \"type\": \"ColumnDataSource\"}, \"text\": {\"field\": \"wedge_label_ORF1\"}, \"x\": {\"value\": 0}, \"y\": {\"value\": 0}}, \"id\": \"1154\", \"type\": \"LabelSet\"}, {\"attributes\": {\"callback\": null}, \"id\": \"1344\", \"type\": \"DataRange1d\"}, {\"attributes\": {}, \"id\": \"1097\", \"type\": \"BasicTicker\"}, {\"attributes\": {\"field\": \"angle\", \"include_zero\": true}, \"id\": \"1037\", \"type\": \"CumSum\"}, {\"attributes\": {\"active_drag\": \"auto\", \"active_inspect\": \"auto\", \"active_multi\": null, \"active_scroll\": \"auto\", \"active_tap\": \"auto\", \"tools\": [{\"id\": \"1070\", \"type\": \"HoverTool\"}]}, \"id\": \"1071\", \"type\": \"Toolbar\"}, {\"attributes\": {}, \"id\": \"1102\", \"type\": \"BasicTicker\"}, {\"attributes\": {\"field\": \"angle\", \"include_zero\": true}, \"id\": \"1182\", \"type\": \"CumSum\"}, {\"attributes\": {\"children\": [{\"id\": \"1231\", \"subtype\": \"Figure\", \"type\": \"Plot\"}, {\"id\": \"1267\", \"subtype\": \"Figure\", \"type\": \"Plot\"}, {\"id\": \"1303\", \"subtype\": \"Figure\", \"type\": \"Plot\"}]}, \"id\": \"1229\", \"type\": \"Row\"}, {\"attributes\": {\"grid_line_color\": null, \"ticker\": {\"id\": \"1097\", \"type\": \"BasicTicker\"}}, \"id\": \"1100\", \"type\": \"Grid\"}, {\"attributes\": {\"dimension\": 1, \"grid_line_color\": null, \"ticker\": {\"id\": \"1066\", \"type\": \"BasicTicker\"}}, \"id\": \"1069\", \"type\": \"Grid\"}, {\"attributes\": {\"active_drag\": \"auto\", \"active_inspect\": \"auto\", \"active_multi\": null, \"active_scroll\": \"auto\", \"active_tap\": \"auto\", \"tools\": [{\"id\": \"1106\", \"type\": \"HoverTool\"}]}, \"id\": \"1107\", \"type\": \"Toolbar\"}, {\"attributes\": {\"axis_label\": null, \"formatter\": {\"id\": \"1371\", \"type\": \"BasicTickFormatter\"}, \"ticker\": {\"id\": \"1351\", \"type\": \"BasicTicker\"}, \"visible\": false}, \"id\": \"1350\", \"type\": \"LinearAxis\"}, {\"attributes\": {\"children\": [{\"id\": \"1003\", \"type\": \"Div\"}, {\"id\": \"1008\", \"type\": \"DateRangeSlider\"}, {\"id\": \"1007\", \"type\": \"Button\"}, {\"id\": \"1006\", \"type\": \"Column\"}, {\"id\": \"1379\", \"type\": \"Row\"}], \"name\": \"main\"}, \"id\": \"1380\", \"type\": \"Column\"}, {\"attributes\": {}, \"id\": \"1351\", \"type\": \"BasicTicker\"}, {\"attributes\": {\"dimension\": 1, \"grid_line_color\": null, \"ticker\": {\"id\": \"1102\", \"type\": \"BasicTicker\"}}, \"id\": \"1105\", \"type\": \"Grid\"}, {\"attributes\": {}, \"id\": \"1356\", \"type\": \"BasicTicker\"}, {\"attributes\": {\"text\": \"Sum: 34\", \"x\": 0.48, \"y\": 0.48}, \"id\": \"1156\", \"type\": \"Label\"}, {\"attributes\": {\"callback\": null, \"tooltips\": \"@ORF1_sub: @ORF1\"}, \"id\": \"1070\", \"type\": \"HoverTool\"}, {\"attributes\": {\"grid_line_color\": null, \"ticker\": {\"id\": \"1351\", \"type\": \"BasicTicker\"}}, \"id\": \"1354\", \"type\": \"Grid\"}, {\"attributes\": {\"active_drag\": \"auto\", \"active_inspect\": \"auto\", \"active_multi\": null, \"active_scroll\": \"auto\", \"active_tap\": \"auto\", \"tools\": [{\"id\": \"1360\", \"type\": \"HoverTool\"}]}, \"id\": \"1361\", \"type\": \"Toolbar\"}, {\"attributes\": {}, \"id\": \"1165\", \"type\": \"LinearScale\"}, {\"attributes\": {\"callback\": null, \"tooltips\": \"@ORF1_sub: @ORF1\"}, \"id\": \"1106\", \"type\": \"HoverTool\"}, {\"attributes\": {\"dimension\": 1, \"grid_line_color\": null, \"ticker\": {\"id\": \"1356\", \"type\": \"BasicTicker\"}}, \"id\": \"1359\", \"type\": \"Grid\"}, {\"attributes\": {\"angle\": {\"expr\": {\"id\": \"1225\", \"type\": \"CumSum\"}, \"units\": \"rad\"}, \"source\": {\"id\": \"1193\", \"type\": \"ColumnDataSource\"}, \"text\": {\"field\": \"wedge_label_ORF1\"}, \"x\": {\"value\": 0}, \"y\": {\"value\": 0}}, \"id\": \"1226\", \"type\": \"LabelSet\"}, {\"attributes\": {\"end_angle\": {\"expr\": {\"id\": \"1074\", \"type\": \"CumSum\"}, \"units\": \"rad\"}, \"fill_color\": {\"field\": \"ORF1_sub\", \"transform\": {\"id\": \"1009\", \"type\": \"CategoricalColorMapper\"}}, \"line_color\": {\"value\": \"white\"}, \"radius\": {\"units\": \"data\", \"value\": 0.48}, \"start_angle\": {\"expr\": {\"id\": \"1073\", \"type\": \"CumSum\"}, \"units\": \"rad\"}, \"x\": {\"value\": 0}, \"y\": {\"value\": 0}}, \"id\": \"1076\", \"type\": \"Wedge\"}, {\"attributes\": {\"field\": \"angle\"}, \"id\": \"1074\", \"type\": \"CumSum\"}, {\"attributes\": {\"callback\": null, \"start\": -0.5}, \"id\": \"1161\", \"type\": \"Range1d\"}, {\"attributes\": {\"end_angle\": {\"expr\": {\"id\": \"1110\", \"type\": \"CumSum\"}, \"units\": \"rad\"}, \"fill_color\": {\"field\": \"ORF1_sub\", \"transform\": {\"id\": \"1009\", \"type\": \"CategoricalColorMapper\"}}, \"line_color\": {\"value\": \"white\"}, \"radius\": {\"units\": \"data\", \"value\": 0.48}, \"start_angle\": {\"expr\": {\"id\": \"1109\", \"type\": \"CumSum\"}, \"units\": \"rad\"}, \"x\": {\"value\": 0}, \"y\": {\"value\": 0}}, \"id\": \"1112\", \"type\": \"Wedge\"}, {\"attributes\": {\"field\": \"angle\", \"include_zero\": true}, \"id\": \"1225\", \"type\": \"CumSum\"}, {\"attributes\": {\"callback\": null, \"tooltips\": \"@ORF1_sub: @ORF1\"}, \"id\": \"1360\", \"type\": \"HoverTool\"}, {\"attributes\": {\"end_angle\": {\"expr\": {\"id\": \"1074\", \"type\": \"CumSum\"}, \"units\": \"rad\"}, \"fill_alpha\": {\"value\": 0.1}, \"fill_color\": {\"value\": \"#1f77b4\"}, \"line_alpha\": {\"value\": 0.1}, \"line_color\": {\"value\": \"#1f77b4\"}, \"radius\": {\"units\": \"data\", \"value\": 0.48}, \"start_angle\": {\"expr\": {\"id\": \"1073\", \"type\": \"CumSum\"}, \"units\": \"rad\"}, \"x\": {\"value\": 0}, \"y\": {\"value\": 0}}, \"id\": \"1077\", \"type\": \"Wedge\"}, {\"attributes\": {\"field\": \"angle\"}, \"id\": \"1110\", \"type\": \"CumSum\"}, {\"attributes\": {\"text\": \"ITALY\"}, \"id\": \"1159\", \"type\": \"Title\"}, {\"attributes\": {\"field\": \"angle\", \"include_zero\": true}, \"id\": \"1080\", \"type\": \"CumSum\"}, {\"attributes\": {\"field\": \"angle\", \"include_zero\": true}, \"id\": \"1146\", \"type\": \"CumSum\"}, {\"attributes\": {\"callback\": null, \"start\": -0.5}, \"id\": \"1088\", \"type\": \"Range1d\"}, {\"attributes\": {\"axis_label\": null, \"formatter\": {\"id\": \"1415\", \"type\": \"BasicTickFormatter\"}, \"ticker\": {\"id\": \"1175\", \"type\": \"BasicTicker\"}, \"visible\": false}, \"id\": \"1174\", \"type\": \"LinearAxis\"}, {\"attributes\": {\"data_source\": {\"id\": \"1048\", \"type\": \"ColumnDataSource\"}, \"glyph\": {\"id\": \"1076\", \"type\": \"Wedge\"}, \"hover_glyph\": null, \"muted_glyph\": null, \"nonselection_glyph\": {\"id\": \"1077\", \"type\": \"Wedge\"}, \"selection_glyph\": null, \"view\": {\"id\": \"1079\", \"type\": \"CDSView\"}}, \"id\": \"1078\", \"type\": \"GlyphRenderer\"}, {\"attributes\": {\"callback\": null, \"data\": {\"ORF1\": [1, 2, 2, 1], \"ORF1_sub\": [\"P3\", \"P4\", \"P7\", \"Pb\"], \"ORF2\": [1, 2, 2, 1], \"ORF2_sub\": [1, 2, 2, 1], \"Sample Date\": [1, 2, 2, 1], \"angle\": {\"__ndarray__\": \"ZXMtOFLB8D9lcy04UsEAQGVzLThSwQBAZXMtOFLB8D8=\", \"dtype\": \"float64\", \"shape\": [4]}, \"wedge_label_ORF1\": [\"                 1\", \"                 2\", \"                 2\", \"                 1\"]}, \"selected\": {\"id\": \"1444\", \"type\": \"Selection\"}, \"selection_policy\": {\"id\": \"1443\", \"type\": \"UnionRenderers\"}}, \"id\": \"1193\", \"type\": \"ColumnDataSource\"}, {\"attributes\": {\"field\": \"angle\", \"include_zero\": true}, \"id\": \"1255\", \"type\": \"CumSum\"}, {\"attributes\": {\"below\": [{\"id\": \"1205\", \"type\": \"LinearAxis\"}], \"center\": [{\"id\": \"1209\", \"type\": \"Grid\"}, {\"id\": \"1214\", \"type\": \"Grid\"}, {\"id\": \"1226\", \"type\": \"LabelSet\"}, {\"id\": \"1228\", \"type\": \"Label\"}], \"left\": [{\"id\": \"1210\", \"type\": \"LinearAxis\"}], \"plot_height\": 270, \"plot_width\": 300, \"renderers\": [{\"id\": \"1223\", \"type\": \"GlyphRenderer\"}], \"title\": {\"id\": \"1195\", \"type\": \"Title\"}, \"toolbar\": {\"id\": \"1216\", \"type\": \"Toolbar\"}, \"toolbar_location\": null, \"x_range\": {\"id\": \"1197\", \"type\": \"Range1d\"}, \"x_scale\": {\"id\": \"1201\", \"type\": \"LinearScale\"}, \"y_range\": {\"id\": \"1199\", \"type\": \"DataRange1d\"}, \"y_scale\": {\"id\": \"1203\", \"type\": \"LinearScale\"}}, \"id\": \"1194\", \"subtype\": \"Figure\", \"type\": \"Plot\"}, {\"attributes\": {\"end_angle\": {\"expr\": {\"id\": \"1364\", \"type\": \"CumSum\"}, \"units\": \"rad\"}, \"fill_color\": {\"field\": \"ORF1_sub\", \"transform\": {\"id\": \"1009\", \"type\": \"CategoricalColorMapper\"}}, \"line_color\": {\"value\": \"white\"}, \"radius\": {\"units\": \"data\", \"value\": 0.48}, \"start_angle\": {\"expr\": {\"id\": \"1363\", \"type\": \"CumSum\"}, \"units\": \"rad\"}, \"x\": {\"value\": 0}, \"y\": {\"value\": 0}}, \"id\": \"1366\", \"type\": \"Wedge\"}, {\"attributes\": {\"source\": {\"id\": \"1048\", \"type\": \"ColumnDataSource\"}}, \"id\": \"1079\", \"type\": \"CDSView\"}, {\"attributes\": {\"field\": \"angle\", \"include_zero\": true}, \"id\": \"1334\", \"type\": \"CumSum\"}, {\"attributes\": {\"angle\": {\"expr\": {\"id\": \"1080\", \"type\": \"CumSum\"}, \"units\": \"rad\"}, \"source\": {\"id\": \"1048\", \"type\": \"ColumnDataSource\"}, \"text\": {\"field\": \"wedge_label_ORF1\"}, \"x\": {\"value\": 0}, \"y\": {\"value\": 0}}, \"id\": \"1081\", \"type\": \"LabelSet\"}, {\"attributes\": {\"text\": \"AUSTRIA\"}, \"id\": \"1232\", \"type\": \"Title\"}, {\"attributes\": {\"field\": \"angle\"}, \"id\": \"1364\", \"type\": \"CumSum\"}, {\"attributes\": {\"callback\": null, \"start\": -0.5}, \"id\": \"1125\", \"type\": \"Range1d\"}, {\"attributes\": {}, \"id\": \"1395\", \"type\": \"UnionRenderers\"}, {\"attributes\": {\"below\": [{\"id\": \"1169\", \"type\": \"LinearAxis\"}], \"center\": [{\"id\": \"1173\", \"type\": \"Grid\"}, {\"id\": \"1178\", \"type\": \"Grid\"}, {\"id\": \"1190\", \"type\": \"LabelSet\"}, {\"id\": \"1192\", \"type\": \"Label\"}], \"left\": [{\"id\": \"1174\", \"type\": \"LinearAxis\"}], \"plot_height\": 270, \"plot_width\": 300, \"renderers\": [{\"id\": \"1187\", \"type\": \"GlyphRenderer\"}], \"title\": {\"id\": \"1159\", \"type\": \"Title\"}, \"toolbar\": {\"id\": \"1180\", \"type\": \"Toolbar\"}, \"toolbar_location\": null, \"x_range\": {\"id\": \"1161\", \"type\": \"Range1d\"}, \"x_scale\": {\"id\": \"1165\", \"type\": \"LinearScale\"}, \"y_range\": {\"id\": \"1163\", \"type\": \"DataRange1d\"}, \"y_scale\": {\"id\": \"1167\", \"type\": \"LinearScale\"}}, \"id\": \"1158\", \"subtype\": \"Figure\", \"type\": \"Plot\"}, {\"attributes\": {\"end_angle\": {\"expr\": {\"id\": \"1364\", \"type\": \"CumSum\"}, \"units\": \"rad\"}, \"fill_alpha\": {\"value\": 0.1}, \"fill_color\": {\"value\": \"#1f77b4\"}, \"line_alpha\": {\"value\": 0.1}, \"line_color\": {\"value\": \"#1f77b4\"}, \"radius\": {\"units\": \"data\", \"value\": 0.48}, \"start_angle\": {\"expr\": {\"id\": \"1363\", \"type\": \"CumSum\"}, \"units\": \"rad\"}, \"x\": {\"value\": 0}, \"y\": {\"value\": 0}}, \"id\": \"1367\", \"type\": \"Wedge\"}, {\"attributes\": {\"axis_label\": null, \"formatter\": {\"id\": \"1399\", \"type\": \"BasicTickFormatter\"}, \"ticker\": {\"id\": \"1030\", \"type\": \"BasicTicker\"}, \"visible\": false}, \"id\": \"1029\", \"type\": \"LinearAxis\"}, {\"attributes\": {\"angle\": {\"expr\": {\"id\": \"1116\", \"type\": \"CumSum\"}, \"units\": \"rad\"}, \"source\": {\"id\": \"1084\", \"type\": \"ColumnDataSource\"}, \"text\": {\"field\": \"wedge_label_ORF1\"}, \"x\": {\"value\": 0}, \"y\": {\"value\": 0}}, \"id\": \"1117\", \"type\": \"LabelSet\"}, {\"attributes\": {\"callback\": null}, \"id\": \"1163\", \"type\": \"DataRange1d\"}, {\"attributes\": {\"source\": {\"id\": \"1084\", \"type\": \"ColumnDataSource\"}}, \"id\": \"1115\", \"type\": \"CDSView\"}, {\"attributes\": {\"data_source\": {\"id\": \"1338\", \"type\": \"ColumnDataSource\"}, \"glyph\": {\"id\": \"1366\", \"type\": \"Wedge\"}, \"hover_glyph\": null, \"muted_glyph\": null, \"nonselection_glyph\": {\"id\": \"1367\", \"type\": \"Wedge\"}, \"selection_glyph\": null, \"view\": {\"id\": \"1369\", \"type\": \"CDSView\"}}, \"id\": \"1368\", \"type\": \"GlyphRenderer\"}, {\"attributes\": {\"callback\": null}, \"id\": \"1018\", \"type\": \"DataRange1d\"}, {\"attributes\": {}, \"id\": \"1167\", \"type\": \"LinearScale\"}, {\"attributes\": {\"text\": \"FRANCE\"}, \"id\": \"1123\", \"type\": \"Title\"}, {\"attributes\": {\"source\": {\"id\": \"1338\", \"type\": \"ColumnDataSource\"}}, \"id\": \"1369\", \"type\": \"CDSView\"}, {\"attributes\": {\"text\": \"Sum: 21\", \"x\": 0.48, \"y\": 0.48}, \"id\": \"1083\", \"type\": \"Label\"}, {\"attributes\": {\"axis_label\": null, \"formatter\": {\"id\": \"1413\", \"type\": \"BasicTickFormatter\"}, \"ticker\": {\"id\": \"1170\", \"type\": \"BasicTicker\"}, \"visible\": false}, \"id\": \"1169\", \"type\": \"LinearAxis\"}, {\"attributes\": {\"callback\": null, \"inline\": true, \"labels\": [\"AUSTRIA\", \"BELGIUM\", \"FINLAND\", \"FRANCE\", \"GERMANY\", \"HONG KONG\", \"HUNGARY\", \"ITALY\", \"NETHERLANDS\", \"NEW ZEALAND\", \"RUSSIAN FEDERATION\", \"SOUTH AFRICA\"], \"name\": \"country_checkbox\"}, \"id\": \"1002\", \"type\": \"CheckboxGroup\"}, {\"attributes\": {}, \"id\": \"1371\", \"type\": \"BasicTickFormatter\"}, {\"attributes\": {\"callback\": null}, \"id\": \"1127\", \"type\": \"DataRange1d\"}, {\"attributes\": {}, \"id\": \"1170\", \"type\": \"BasicTicker\"}, {\"attributes\": {\"items\": [{\"id\": \"1376\", \"type\": \"LegendItem\"}]}, \"id\": \"1375\", \"type\": \"Legend\"}, {\"attributes\": {}, \"id\": \"1131\", \"type\": \"LinearScale\"}, {\"attributes\": {\"source\": {\"id\": \"1012\", \"type\": \"ColumnDataSource\"}}, \"id\": \"1043\", \"type\": \"CDSView\"}, {\"attributes\": {\"field\": \"angle\", \"include_zero\": true}, \"id\": \"1116\", \"type\": \"CumSum\"}, {\"attributes\": {\"grid_line_color\": null, \"ticker\": {\"id\": \"1170\", \"type\": \"BasicTicker\"}}, \"id\": \"1173\", \"type\": \"Grid\"}, {\"attributes\": {}, \"id\": \"1175\", \"type\": \"BasicTicker\"}, {\"attributes\": {}, \"id\": \"1373\", \"type\": \"BasicTickFormatter\"}, {\"attributes\": {\"axis_label\": null, \"formatter\": {\"id\": \"1409\", \"type\": \"BasicTickFormatter\"}, \"ticker\": {\"id\": \"1134\", \"type\": \"BasicTicker\"}, \"visible\": false}, \"id\": \"1133\", \"type\": \"LinearAxis\"}, {\"attributes\": {\"active_drag\": \"auto\", \"active_inspect\": \"auto\", \"active_multi\": null, \"active_scroll\": \"auto\", \"active_tap\": \"auto\", \"tools\": [{\"id\": \"1179\", \"type\": \"HoverTool\"}]}, \"id\": \"1180\", \"type\": \"Toolbar\"}, {\"attributes\": {\"field\": \"angle\", \"include_zero\": true}, \"id\": \"1109\", \"type\": \"CumSum\"}, {\"attributes\": {\"text\": \"NETHERLANDS\"}, \"id\": \"1086\", \"type\": \"Title\"}, {\"attributes\": {\"label\": {\"field\": \"ORF1_sub\"}, \"renderers\": [{\"id\": \"1368\", \"type\": \"GlyphRenderer\"}]}, \"id\": \"1376\", \"type\": \"LegendItem\"}, {\"attributes\": {\"data_source\": {\"id\": \"1084\", \"type\": \"ColumnDataSource\"}, \"glyph\": {\"id\": \"1112\", \"type\": \"Wedge\"}, \"hover_glyph\": null, \"muted_glyph\": null, \"nonselection_glyph\": {\"id\": \"1113\", \"type\": \"Wedge\"}, \"selection_glyph\": null, \"view\": {\"id\": \"1115\", \"type\": \"CDSView\"}}, \"id\": \"1114\", \"type\": \"GlyphRenderer\"}, {\"attributes\": {}, \"id\": \"1134\", \"type\": \"BasicTicker\"}, {\"attributes\": {\"dimension\": 1, \"grid_line_color\": null, \"ticker\": {\"id\": \"1175\", \"type\": \"BasicTicker\"}}, \"id\": \"1178\", \"type\": \"Grid\"}, {\"attributes\": {}, \"id\": \"1139\", \"type\": \"BasicTicker\"}, {\"attributes\": {\"grid_line_color\": null, \"ticker\": {\"id\": \"1134\", \"type\": \"BasicTicker\"}}, \"id\": \"1137\", \"type\": \"Grid\"}, {\"attributes\": {\"callback\": null, \"data\": {\"ORF1\": [10, 7, 1, 6, 3, 2, 1, 2, 2], \"ORF1_sub\": [\"P1\", \"P2\", \"P3\", \"P4\", \"P5\", \"P6\", \"P7\", \"Pb\", \"Pd\"], \"ORF2\": [10, 7, 1, 6, 3, 2, 1, 2, 2], \"ORF2_sub\": [10, 7, 1, 6, 3, 2, 1, 2, 2], \"Sample Date\": [10, 7, 1, 6, 3, 2, 1, 2, 2], \"angle\": {\"__ndarray__\": \"aI+q6mOR/T/Iyt29krL0P1MMIiKDp8c/PomZWaK98T8+iZlZor3hP1MMIiKDp9c/UwwiIoOnxz9TDCIig6fXP1MMIiKDp9c/\", \"dtype\": \"float64\", \"shape\": [9]}, \"wedge_label_ORF1\": [\"                10\", \"                 7\", \"                 1\", \"                 6\", \"                 3\", \"                 2\", \"                 1\", \"                 2\", \"                 2\"]}, \"selected\": {\"id\": \"1440\", \"type\": \"Selection\"}, \"selection_policy\": {\"id\": \"1439\", \"type\": \"UnionRenderers\"}}, \"id\": \"1121\", \"type\": \"ColumnDataSource\"}, {\"attributes\": {\"children\": [{\"id\": \"1003\", \"type\": \"Div\"}, {\"id\": \"1005\", \"type\": \"Row\"}]}, \"id\": \"1006\", \"type\": \"Column\"}, {\"attributes\": {\"below\": [{\"id\": \"1096\", \"type\": \"LinearAxis\"}], \"center\": [{\"id\": \"1100\", \"type\": \"Grid\"}, {\"id\": \"1105\", \"type\": \"Grid\"}, {\"id\": \"1117\", \"type\": \"LabelSet\"}, {\"id\": \"1119\", \"type\": \"Label\"}], \"left\": [{\"id\": \"1101\", \"type\": \"LinearAxis\"}], \"plot_height\": 270, \"plot_width\": 300, \"renderers\": [{\"id\": \"1114\", \"type\": \"GlyphRenderer\"}], \"title\": {\"id\": \"1086\", \"type\": \"Title\"}, \"toolbar\": {\"id\": \"1107\", \"type\": \"Toolbar\"}, \"toolbar_location\": null, \"x_range\": {\"id\": \"1088\", \"type\": \"Range1d\"}, \"x_scale\": {\"id\": \"1092\", \"type\": \"LinearScale\"}, \"y_range\": {\"id\": \"1090\", \"type\": \"DataRange1d\"}, \"y_scale\": {\"id\": \"1094\", \"type\": \"LinearScale\"}}, \"id\": \"1085\", \"subtype\": \"Figure\", \"type\": \"Plot\"}, {\"attributes\": {\"children\": [{\"id\": \"1377\", \"type\": \"Row\"}]}, \"id\": \"1378\", \"type\": \"Column\"}, {\"attributes\": {\"dimension\": 1, \"grid_line_color\": null, \"ticker\": {\"id\": \"1139\", \"type\": \"BasicTicker\"}}, \"id\": \"1142\", \"type\": \"Grid\"}, {\"attributes\": {\"axis_label\": null, \"formatter\": {\"id\": \"1407\", \"type\": \"BasicTickFormatter\"}, \"ticker\": {\"id\": \"1102\", \"type\": \"BasicTicker\"}, \"visible\": false}, \"id\": \"1101\", \"type\": \"LinearAxis\"}, {\"attributes\": {\"callback\": null, \"tooltips\": \"@ORF1_sub: @ORF1\"}, \"id\": \"1179\", \"type\": \"HoverTool\"}, {\"attributes\": {}, \"id\": \"1403\", \"type\": \"BasicTickFormatter\"}, {\"attributes\": {}, \"id\": \"1405\", \"type\": \"BasicTickFormatter\"}, {\"attributes\": {}, \"id\": \"1407\", \"type\": \"BasicTickFormatter\"}, {\"attributes\": {\"end_angle\": {\"expr\": {\"id\": \"1183\", \"type\": \"CumSum\"}, \"units\": \"rad\"}, \"fill_color\": {\"field\": \"ORF1_sub\", \"transform\": {\"id\": \"1009\", \"type\": \"CategoricalColorMapper\"}}, \"line_color\": {\"value\": \"white\"}, \"radius\": {\"units\": \"data\", \"value\": 0.48}, \"start_angle\": {\"expr\": {\"id\": \"1182\", \"type\": \"CumSum\"}, \"units\": \"rad\"}, \"x\": {\"value\": 0}, \"y\": {\"value\": 0}}, \"id\": \"1185\", \"type\": \"Wedge\"}, {\"attributes\": {\"field\": \"angle\"}, \"id\": \"1183\", \"type\": \"CumSum\"}, {\"attributes\": {}, \"id\": \"1409\", \"type\": \"BasicTickFormatter\"}, {\"attributes\": {\"source\": {\"id\": \"1193\", \"type\": \"ColumnDataSource\"}}, \"id\": \"1224\", \"type\": \"CDSView\"}, {\"attributes\": {\"children\": [{\"id\": \"1122\", \"subtype\": \"Figure\", \"type\": \"Plot\"}, {\"id\": \"1158\", \"subtype\": \"Figure\", \"type\": \"Plot\"}, {\"id\": \"1194\", \"subtype\": \"Figure\", \"type\": \"Plot\"}]}, \"id\": \"1120\", \"type\": \"Row\"}, {\"attributes\": {}, \"id\": \"1411\", \"type\": \"BasicTickFormatter\"}, {\"attributes\": {\"end_angle\": {\"expr\": {\"id\": \"1183\", \"type\": \"CumSum\"}, \"units\": \"rad\"}, \"fill_alpha\": {\"value\": 0.1}, \"fill_color\": {\"value\": \"#1f77b4\"}, \"line_alpha\": {\"value\": 0.1}, \"line_color\": {\"value\": \"#1f77b4\"}, \"radius\": {\"units\": \"data\", \"value\": 0.48}, \"start_angle\": {\"expr\": {\"id\": \"1182\", \"type\": \"CumSum\"}, \"units\": \"rad\"}, \"x\": {\"value\": 0}, \"y\": {\"value\": 0}}, \"id\": \"1186\", \"type\": \"Wedge\"}, {\"attributes\": {\"field\": \"angle\", \"include_zero\": true}, \"id\": \"1189\", \"type\": \"CumSum\"}, {\"attributes\": {}, \"id\": \"1413\", \"type\": \"BasicTickFormatter\"}, {\"attributes\": {\"data_source\": {\"id\": \"1157\", \"type\": \"ColumnDataSource\"}, \"glyph\": {\"id\": \"1185\", \"type\": \"Wedge\"}, \"hover_glyph\": null, \"muted_glyph\": null, \"nonselection_glyph\": {\"id\": \"1186\", \"type\": \"Wedge\"}, \"selection_glyph\": null, \"view\": {\"id\": \"1188\", \"type\": \"CDSView\"}}, \"id\": \"1187\", \"type\": \"GlyphRenderer\"}, {\"attributes\": {}, \"id\": \"1415\", \"type\": \"BasicTickFormatter\"}, {\"attributes\": {\"source\": {\"id\": \"1157\", \"type\": \"ColumnDataSource\"}}, \"id\": \"1188\", \"type\": \"CDSView\"}, {\"attributes\": {\"angle\": {\"expr\": {\"id\": \"1189\", \"type\": \"CumSum\"}, \"units\": \"rad\"}, \"source\": {\"id\": \"1157\", \"type\": \"ColumnDataSource\"}, \"text\": {\"field\": \"wedge_label_ORF1\"}, \"x\": {\"value\": 0}, \"y\": {\"value\": 0}}, \"id\": \"1190\", \"type\": \"LabelSet\"}, {\"attributes\": {}, \"id\": \"1417\", \"type\": \"BasicTickFormatter\"}, {\"attributes\": {}, \"id\": \"1419\", \"type\": \"BasicTickFormatter\"}, {\"attributes\": {\"end_angle\": {\"expr\": {\"id\": \"1219\", \"type\": \"CumSum\"}, \"units\": \"rad\"}, \"fill_alpha\": {\"value\": 0.1}, \"fill_color\": {\"value\": \"#1f77b4\"}, \"line_alpha\": {\"value\": 0.1}, \"line_color\": {\"value\": \"#1f77b4\"}, \"radius\": {\"units\": \"data\", \"value\": 0.48}, \"start_angle\": {\"expr\": {\"id\": \"1218\", \"type\": \"CumSum\"}, \"units\": \"rad\"}, \"x\": {\"value\": 0}, \"y\": {\"value\": 0}}, \"id\": \"1222\", \"type\": \"Wedge\"}, {\"attributes\": {}, \"id\": \"1421\", \"type\": \"BasicTickFormatter\"}, {\"attributes\": {}, \"id\": \"1423\", \"type\": \"BasicTickFormatter\"}, {\"attributes\": {\"text\": \"Sum: 14\", \"x\": 0.48, \"y\": 0.48}, \"id\": \"1337\", \"type\": \"Label\"}, {\"attributes\": {\"text\": \"Sum: 2\", \"x\": 0.48, \"y\": 0.48}, \"id\": \"1192\", \"type\": \"Label\"}, {\"attributes\": {}, \"id\": \"1425\", \"type\": \"BasicTickFormatter\"}, {\"attributes\": {}, \"id\": \"1427\", \"type\": \"BasicTickFormatter\"}, {\"attributes\": {\"data_source\": {\"id\": \"1193\", \"type\": \"ColumnDataSource\"}, \"glyph\": {\"id\": \"1221\", \"type\": \"Wedge\"}, \"hover_glyph\": null, \"muted_glyph\": null, \"nonselection_glyph\": {\"id\": \"1222\", \"type\": \"Wedge\"}, \"selection_glyph\": null, \"view\": {\"id\": \"1224\", \"type\": \"CDSView\"}}, \"id\": \"1223\", \"type\": \"GlyphRenderer\"}, {\"attributes\": {}, \"id\": \"1429\", \"type\": \"BasicTickFormatter\"}, {\"attributes\": {\"end_angle\": {\"expr\": {\"id\": \"1219\", \"type\": \"CumSum\"}, \"units\": \"rad\"}, \"fill_color\": {\"field\": \"ORF1_sub\", \"transform\": {\"id\": \"1009\", \"type\": \"CategoricalColorMapper\"}}, \"line_color\": {\"value\": \"white\"}, \"radius\": {\"units\": \"data\", \"value\": 0.48}, \"start_angle\": {\"expr\": {\"id\": \"1218\", \"type\": \"CumSum\"}, \"units\": \"rad\"}, \"x\": {\"value\": 0}, \"y\": {\"value\": 0}}, \"id\": \"1221\", \"type\": \"Wedge\"}, {\"attributes\": {}, \"id\": \"1431\", \"type\": \"BasicTickFormatter\"}, {\"attributes\": {\"callback\": null, \"start\": -0.5}, \"id\": \"1197\", \"type\": \"Range1d\"}, {\"attributes\": {\"callback\": null, \"start\": -0.5}, \"id\": \"1234\", \"type\": \"Range1d\"}, {\"attributes\": {}, \"id\": \"1433\", \"type\": \"UnionRenderers\"}, {\"attributes\": {\"text\": \"BELGIUM\"}, \"id\": \"1195\", \"type\": \"Title\"}, {\"attributes\": {\"callback\": null, \"data\": {\"ORF1\": [7, 2, 1, 1, 1], \"ORF1_sub\": [\"P2\", \"P3\", \"P4\", \"P7\", \"Pb\"], \"ORF2\": [7, 2, 1, 1, 1], \"ORF2_sub\": [7, 2, 1, 1, 1], \"Sample Date\": [7, 2, 1, 1, 1], \"angle\": {\"__ndarray__\": \"8olP4k9SDUBlcy04UsHwP2VzLThSweA/ZXMtOFLB4D9lcy04UsHgPw==\", \"dtype\": \"float64\", \"shape\": [5]}, \"wedge_label_ORF1\": [\"                 7\", \"                 2\", \"                 1\", \"                 1\", \"                 1\"]}, \"selected\": {\"id\": \"1434\", \"type\": \"Selection\"}, \"selection_policy\": {\"id\": \"1433\", \"type\": \"UnionRenderers\"}}, \"id\": \"1012\", \"type\": \"ColumnDataSource\"}, {\"attributes\": {}, \"id\": \"1434\", \"type\": \"Selection\"}, {\"attributes\": {\"axis_label\": null, \"formatter\": {\"id\": \"1419\", \"type\": \"BasicTickFormatter\"}, \"ticker\": {\"id\": \"1211\", \"type\": \"BasicTicker\"}, \"visible\": false}, \"id\": \"1210\", \"type\": \"LinearAxis\"}, {\"attributes\": {}, \"id\": \"1435\", \"type\": \"UnionRenderers\"}, {\"attributes\": {\"field\": \"angle\", \"include_zero\": true}, \"id\": \"1218\", \"type\": \"CumSum\"}, {\"attributes\": {}, \"id\": \"1201\", \"type\": \"LinearScale\"}, {\"attributes\": {}, \"id\": \"1436\", \"type\": \"Selection\"}, {\"attributes\": {\"below\": [{\"id\": \"1024\", \"type\": \"LinearAxis\"}], \"center\": [{\"id\": \"1028\", \"type\": \"Grid\"}, {\"id\": \"1033\", \"type\": \"Grid\"}, {\"id\": \"1045\", \"type\": \"LabelSet\"}, {\"id\": \"1047\", \"type\": \"Label\"}], \"left\": [{\"id\": \"1029\", \"type\": \"LinearAxis\"}], \"plot_height\": 270, \"plot_width\": 300, \"renderers\": [{\"id\": \"1042\", \"type\": \"GlyphRenderer\"}], \"title\": {\"id\": \"1014\", \"type\": \"Title\"}, \"toolbar\": {\"id\": \"1035\", \"type\": \"Toolbar\"}, \"toolbar_location\": null, \"x_range\": {\"id\": \"1016\", \"type\": \"Range1d\"}, \"x_scale\": {\"id\": \"1020\", \"type\": \"LinearScale\"}, \"y_range\": {\"id\": \"1018\", \"type\": \"DataRange1d\"}, \"y_scale\": {\"id\": \"1022\", \"type\": \"LinearScale\"}}, \"id\": \"1013\", \"subtype\": \"Figure\", \"type\": \"Plot\"}, {\"attributes\": {}, \"id\": \"1437\", \"type\": \"UnionRenderers\"}, {\"attributes\": {\"below\": [{\"id\": \"1060\", \"type\": \"LinearAxis\"}], \"center\": [{\"id\": \"1064\", \"type\": \"Grid\"}, {\"id\": \"1069\", \"type\": \"Grid\"}, {\"id\": \"1081\", \"type\": \"LabelSet\"}, {\"id\": \"1083\", \"type\": \"Label\"}], \"left\": [{\"id\": \"1065\", \"type\": \"LinearAxis\"}], \"plot_height\": 270, \"plot_width\": 300, \"renderers\": [{\"id\": \"1078\", \"type\": \"GlyphRenderer\"}], \"title\": {\"id\": \"1050\", \"type\": \"Title\"}, \"toolbar\": {\"id\": \"1071\", \"type\": \"Toolbar\"}, \"toolbar_location\": null, \"x_range\": {\"id\": \"1052\", \"type\": \"Range1d\"}, \"x_scale\": {\"id\": \"1056\", \"type\": \"LinearScale\"}, \"y_range\": {\"id\": \"1054\", \"type\": \"DataRange1d\"}, \"y_scale\": {\"id\": \"1058\", \"type\": \"LinearScale\"}}, \"id\": \"1049\", \"subtype\": \"Figure\", \"type\": \"Plot\"}, {\"attributes\": {}, \"id\": \"1399\", \"type\": \"BasicTickFormatter\"}, {\"attributes\": {}, \"id\": \"1438\", \"type\": \"Selection\"}, {\"attributes\": {}, \"id\": \"1439\", \"type\": \"UnionRenderers\"}, {\"attributes\": {\"callback\": null}, \"id\": \"1199\", \"type\": \"DataRange1d\"}, {\"attributes\": {}, \"id\": \"1440\", \"type\": \"Selection\"}, {\"attributes\": {\"button_type\": \"success\", \"callback\": null, \"icon\": null, \"label\": \"Plot\", \"subscribed_events\": [\"button_click\"]}, \"id\": \"1007\", \"type\": \"Button\"}, {\"attributes\": {}, \"id\": \"1203\", \"type\": \"LinearScale\"}, {\"attributes\": {}, \"id\": \"1441\", \"type\": \"UnionRenderers\"}, {\"attributes\": {\"axis_label\": null, \"formatter\": {\"id\": \"1417\", \"type\": \"BasicTickFormatter\"}, \"ticker\": {\"id\": \"1206\", \"type\": \"BasicTicker\"}, \"visible\": false}, \"id\": \"1205\", \"type\": \"LinearAxis\"}, {\"attributes\": {\"end_angle\": {\"expr\": {\"id\": \"1038\", \"type\": \"CumSum\"}, \"units\": \"rad\"}, \"fill_color\": {\"field\": \"ORF1_sub\", \"transform\": {\"id\": \"1009\", \"type\": \"CategoricalColorMapper\"}}, \"line_color\": {\"value\": \"white\"}, \"radius\": {\"units\": \"data\", \"value\": 0.48}, \"start_angle\": {\"expr\": {\"id\": \"1037\", \"type\": \"CumSum\"}, \"units\": \"rad\"}, \"x\": {\"value\": 0}, \"y\": {\"value\": 0}}, \"id\": \"1040\", \"type\": \"Wedge\"}, {\"attributes\": {}, \"id\": \"1442\", \"type\": \"Selection\"}, {\"attributes\": {\"callback\": null, \"start\": -0.5}, \"id\": \"1016\", \"type\": \"Range1d\"}, {\"attributes\": {}, \"id\": \"1206\", \"type\": \"BasicTicker\"}, {\"attributes\": {}, \"id\": \"1211\", \"type\": \"BasicTicker\"}, {\"attributes\": {}, \"id\": \"1443\", \"type\": \"UnionRenderers\"}, {\"attributes\": {\"grid_line_color\": null, \"ticker\": {\"id\": \"1206\", \"type\": \"BasicTicker\"}}, \"id\": \"1209\", \"type\": \"Grid\"}, {\"attributes\": {}, \"id\": \"1444\", \"type\": \"Selection\"}, {\"attributes\": {\"callback\": null, \"end\": 1575244800000.0, \"name\": \"dateslider\", \"start\": 1514851200000.0, \"title\": \"Date Range: \", \"value\": [1514851200000.0, 1575244800000.0]}, \"id\": \"1008\", \"type\": \"DateRangeSlider\"}, {\"attributes\": {\"active_drag\": \"auto\", \"active_inspect\": \"auto\", \"active_multi\": null, \"active_scroll\": \"auto\", \"active_tap\": \"auto\", \"tools\": [{\"id\": \"1215\", \"type\": \"HoverTool\"}]}, \"id\": \"1216\", \"type\": \"Toolbar\"}, {\"attributes\": {}, \"id\": \"1445\", \"type\": \"UnionRenderers\"}, {\"attributes\": {\"dimension\": 1, \"grid_line_color\": null, \"ticker\": {\"id\": \"1211\", \"type\": \"BasicTicker\"}}, \"id\": \"1214\", \"type\": \"Grid\"}, {\"attributes\": {}, \"id\": \"1446\", \"type\": \"Selection\"}, {\"attributes\": {\"data_source\": {\"id\": \"1012\", \"type\": \"ColumnDataSource\"}, \"glyph\": {\"id\": \"1040\", \"type\": \"Wedge\"}, \"hover_glyph\": null, \"muted_glyph\": null, \"nonselection_glyph\": {\"id\": \"1041\", \"type\": \"Wedge\"}, \"selection_glyph\": null, \"view\": {\"id\": \"1043\", \"type\": \"CDSView\"}}, \"id\": \"1042\", \"type\": \"GlyphRenderer\"}, {\"attributes\": {\"field\": \"angle\"}, \"id\": \"1219\", \"type\": \"CumSum\"}, {\"attributes\": {}, \"id\": \"1447\", \"type\": \"UnionRenderers\"}, {\"attributes\": {}, \"id\": \"1401\", \"type\": \"BasicTickFormatter\"}, {\"attributes\": {\"callback\": null, \"tooltips\": \"@ORF1_sub: @ORF1\"}, \"id\": \"1215\", \"type\": \"HoverTool\"}, {\"attributes\": {}, \"id\": \"1448\", \"type\": \"Selection\"}, {\"attributes\": {\"end_angle\": {\"expr\": {\"id\": \"1110\", \"type\": \"CumSum\"}, \"units\": \"rad\"}, \"fill_alpha\": {\"value\": 0.1}, \"fill_color\": {\"value\": \"#1f77b4\"}, \"line_alpha\": {\"value\": 0.1}, \"line_color\": {\"value\": \"#1f77b4\"}, \"radius\": {\"units\": \"data\", \"value\": 0.48}, \"start_angle\": {\"expr\": {\"id\": \"1109\", \"type\": \"CumSum\"}, \"units\": \"rad\"}, \"x\": {\"value\": 0}, \"y\": {\"value\": 0}}, \"id\": \"1113\", \"type\": \"Wedge\"}, {\"attributes\": {\"children\": [{\"id\": \"1013\", \"subtype\": \"Figure\", \"type\": \"Plot\"}, {\"id\": \"1049\", \"subtype\": \"Figure\", \"type\": \"Plot\"}, {\"id\": \"1085\", \"subtype\": \"Figure\", \"type\": \"Plot\"}]}, \"id\": \"1011\", \"type\": \"Row\"}, {\"attributes\": {}, \"id\": \"1238\", \"type\": \"LinearScale\"}, {\"attributes\": {}, \"id\": \"1276\", \"type\": \"LinearScale\"}, {\"attributes\": {\"field\": \"angle\", \"include_zero\": true}, \"id\": \"1291\", \"type\": \"CumSum\"}, {\"attributes\": {\"axis_label\": null, \"formatter\": {\"id\": \"1425\", \"type\": \"BasicTickFormatter\"}, \"ticker\": {\"id\": \"1279\", \"type\": \"BasicTicker\"}, \"visible\": false}, \"id\": \"1278\", \"type\": \"LinearAxis\"}, {\"attributes\": {\"callback\": null}, \"id\": \"1236\", \"type\": \"DataRange1d\"}, {\"attributes\": {}, \"id\": \"1279\", \"type\": \"BasicTicker\"}, {\"attributes\": {}, \"id\": \"1284\", \"type\": \"BasicTicker\"}, {\"attributes\": {}, \"id\": \"1240\", \"type\": \"LinearScale\"}, {\"attributes\": {\"grid_line_color\": null, \"ticker\": {\"id\": \"1279\", \"type\": \"BasicTicker\"}}, \"id\": \"1282\", \"type\": \"Grid\"}, {\"attributes\": {\"axis_label\": null, \"formatter\": {\"id\": \"1421\", \"type\": \"BasicTickFormatter\"}, \"ticker\": {\"id\": \"1243\", \"type\": \"BasicTicker\"}, \"visible\": false}, \"id\": \"1242\", \"type\": \"LinearAxis\"}, {\"attributes\": {\"active_drag\": \"auto\", \"active_inspect\": \"auto\", \"active_multi\": null, \"active_scroll\": \"auto\", \"active_tap\": \"auto\", \"tools\": [{\"id\": \"1288\", \"type\": \"HoverTool\"}]}, \"id\": \"1289\", \"type\": \"Toolbar\"}, {\"attributes\": {\"dimension\": 1, \"grid_line_color\": null, \"ticker\": {\"id\": \"1284\", \"type\": \"BasicTicker\"}}, \"id\": \"1287\", \"type\": \"Grid\"}, {\"attributes\": {}, \"id\": \"1243\", \"type\": \"BasicTicker\"}, {\"attributes\": {}, \"id\": \"1248\", \"type\": \"BasicTicker\"}, {\"attributes\": {\"grid_line_color\": null, \"ticker\": {\"id\": \"1243\", \"type\": \"BasicTicker\"}}, \"id\": \"1246\", \"type\": \"Grid\"}, {\"attributes\": {\"active_drag\": \"auto\", \"active_inspect\": \"auto\", \"active_multi\": null, \"active_scroll\": \"auto\", \"active_tap\": \"auto\", \"tools\": [{\"id\": \"1252\", \"type\": \"HoverTool\"}]}, \"id\": \"1253\", \"type\": \"Toolbar\"}, {\"attributes\": {\"callback\": null, \"tooltips\": \"@ORF1_sub: @ORF1\"}, \"id\": \"1288\", \"type\": \"HoverTool\"}, {\"attributes\": {\"dimension\": 1, \"grid_line_color\": null, \"ticker\": {\"id\": \"1248\", \"type\": \"BasicTicker\"}}, \"id\": \"1251\", \"type\": \"Grid\"}, {\"attributes\": {\"end_angle\": {\"expr\": {\"id\": \"1292\", \"type\": \"CumSum\"}, \"units\": \"rad\"}, \"fill_color\": {\"field\": \"ORF1_sub\", \"transform\": {\"id\": \"1009\", \"type\": \"CategoricalColorMapper\"}}, \"line_color\": {\"value\": \"white\"}, \"radius\": {\"units\": \"data\", \"value\": 0.48}, \"start_angle\": {\"expr\": {\"id\": \"1291\", \"type\": \"CumSum\"}, \"units\": \"rad\"}, \"x\": {\"value\": 0}, \"y\": {\"value\": 0}}, \"id\": \"1294\", \"type\": \"Wedge\"}, {\"attributes\": {\"factors\": [\"P1\", \"P2\", \"P3\", \"P4\", \"P5\", \"P6\", \"P7\", \"P9\", \"Pa\", \"Pb\", \"Pd\"], \"palette\": [\"#393b79\", \"#5254a3\", \"#6b6ecf\", \"#9c9ede\", \"#637939\", \"#8ca252\", \"#b5cf6b\", \"#cedb9c\", \"#8c6d31\", \"#bd9e39\", \"#e7ba52\"]}, \"id\": \"1009\", \"type\": \"CategoricalColorMapper\"}, {\"attributes\": {\"callback\": null, \"tooltips\": \"@ORF1_sub: @ORF1\"}, \"id\": \"1252\", \"type\": \"HoverTool\"}, {\"attributes\": {\"field\": \"angle\"}, \"id\": \"1292\", \"type\": \"CumSum\"}, {\"attributes\": {}, \"id\": \"1397\", \"type\": \"BasicTickFormatter\"}, {\"attributes\": {\"end_angle\": {\"expr\": {\"id\": \"1328\", \"type\": \"CumSum\"}, \"units\": \"rad\"}, \"fill_color\": {\"field\": \"ORF1_sub\", \"transform\": {\"id\": \"1009\", \"type\": \"CategoricalColorMapper\"}}, \"line_color\": {\"value\": \"white\"}, \"radius\": {\"units\": \"data\", \"value\": 0.48}, \"start_angle\": {\"expr\": {\"id\": \"1327\", \"type\": \"CumSum\"}, \"units\": \"rad\"}, \"x\": {\"value\": 0}, \"y\": {\"value\": 0}}, \"id\": \"1330\", \"type\": \"Wedge\"}, {\"attributes\": {\"text\": \"FINLAND\"}, \"id\": \"1014\", \"type\": \"Title\"}, {\"attributes\": {\"end_angle\": {\"expr\": {\"id\": \"1292\", \"type\": \"CumSum\"}, \"units\": \"rad\"}, \"fill_alpha\": {\"value\": 0.1}, \"fill_color\": {\"value\": \"#1f77b4\"}, \"line_alpha\": {\"value\": 0.1}, \"line_color\": {\"value\": \"#1f77b4\"}, \"radius\": {\"units\": \"data\", \"value\": 0.48}, \"start_angle\": {\"expr\": {\"id\": \"1291\", \"type\": \"CumSum\"}, \"units\": \"rad\"}, \"x\": {\"value\": 0}, \"y\": {\"value\": 0}}, \"id\": \"1295\", \"type\": \"Wedge\"}, {\"attributes\": {\"field\": \"angle\", \"include_zero\": true}, \"id\": \"1298\", \"type\": \"CumSum\"}, {\"attributes\": {\"end_angle\": {\"expr\": {\"id\": \"1256\", \"type\": \"CumSum\"}, \"units\": \"rad\"}, \"fill_color\": {\"field\": \"ORF1_sub\", \"transform\": {\"id\": \"1009\", \"type\": \"CategoricalColorMapper\"}}, \"line_color\": {\"value\": \"white\"}, \"radius\": {\"units\": \"data\", \"value\": 0.48}, \"start_angle\": {\"expr\": {\"id\": \"1255\", \"type\": \"CumSum\"}, \"units\": \"rad\"}, \"x\": {\"value\": 0}, \"y\": {\"value\": 0}}, \"id\": \"1258\", \"type\": \"Wedge\"}, {\"attributes\": {\"text\": \"Choose country\"}, \"id\": \"1003\", \"type\": \"Div\"}, {\"attributes\": {\"data_source\": {\"id\": \"1266\", \"type\": \"ColumnDataSource\"}, \"glyph\": {\"id\": \"1294\", \"type\": \"Wedge\"}, \"hover_glyph\": null, \"muted_glyph\": null, \"nonselection_glyph\": {\"id\": \"1295\", \"type\": \"Wedge\"}, \"selection_glyph\": null, \"view\": {\"id\": \"1297\", \"type\": \"CDSView\"}}, \"id\": \"1296\", \"type\": \"GlyphRenderer\"}, {\"attributes\": {\"field\": \"angle\"}, \"id\": \"1256\", \"type\": \"CumSum\"}, {\"attributes\": {\"source\": {\"id\": \"1266\", \"type\": \"ColumnDataSource\"}}, \"id\": \"1297\", \"type\": \"CDSView\"}, {\"attributes\": {\"below\": [{\"id\": \"1350\", \"type\": \"LinearAxis\"}], \"center\": [{\"id\": \"1354\", \"type\": \"Grid\"}, {\"id\": \"1359\", \"type\": \"Grid\"}, {\"id\": \"1375\", \"type\": \"Legend\"}], \"left\": [{\"id\": \"1355\", \"type\": \"LinearAxis\"}], \"plot_width\": 260, \"renderers\": [{\"id\": \"1368\", \"type\": \"GlyphRenderer\"}], \"title\": {\"id\": \"1340\", \"type\": \"Title\"}, \"toolbar\": {\"id\": \"1361\", \"type\": \"Toolbar\"}, \"toolbar_location\": null, \"x_range\": {\"id\": \"1342\", \"type\": \"Range1d\"}, \"x_scale\": {\"id\": \"1346\", \"type\": \"LinearScale\"}, \"y_range\": {\"id\": \"1344\", \"type\": \"DataRange1d\"}, \"y_scale\": {\"id\": \"1348\", \"type\": \"LinearScale\"}}, \"id\": \"1339\", \"subtype\": \"Figure\", \"type\": \"Plot\"}, {\"attributes\": {\"angle\": {\"expr\": {\"id\": \"1298\", \"type\": \"CumSum\"}, \"units\": \"rad\"}, \"source\": {\"id\": \"1266\", \"type\": \"ColumnDataSource\"}, \"text\": {\"field\": \"wedge_label_ORF1\"}, \"x\": {\"value\": 0}, \"y\": {\"value\": 0}}, \"id\": \"1299\", \"type\": \"LabelSet\"}, {\"attributes\": {\"end_angle\": {\"expr\": {\"id\": \"1256\", \"type\": \"CumSum\"}, \"units\": \"rad\"}, \"fill_alpha\": {\"value\": 0.1}, \"fill_color\": {\"value\": \"#1f77b4\"}, \"line_alpha\": {\"value\": 0.1}, \"line_color\": {\"value\": \"#1f77b4\"}, \"radius\": {\"units\": \"data\", \"value\": 0.48}, \"start_angle\": {\"expr\": {\"id\": \"1255\", \"type\": \"CumSum\"}, \"units\": \"rad\"}, \"x\": {\"value\": 0}, \"y\": {\"value\": 0}}, \"id\": \"1259\", \"type\": \"Wedge\"}, {\"attributes\": {\"field\": \"angle\", \"include_zero\": true}, \"id\": \"1262\", \"type\": \"CumSum\"}, {\"attributes\": {\"data_source\": {\"id\": \"1230\", \"type\": \"ColumnDataSource\"}, \"glyph\": {\"id\": \"1258\", \"type\": \"Wedge\"}, \"hover_glyph\": null, \"muted_glyph\": null, \"nonselection_glyph\": {\"id\": \"1259\", \"type\": \"Wedge\"}, \"selection_glyph\": null, \"view\": {\"id\": \"1261\", \"type\": \"CDSView\"}}, \"id\": \"1260\", \"type\": \"GlyphRenderer\"}, {\"attributes\": {\"source\": {\"id\": \"1230\", \"type\": \"ColumnDataSource\"}}, \"id\": \"1261\", \"type\": \"CDSView\"}, {\"attributes\": {\"angle\": {\"expr\": {\"id\": \"1262\", \"type\": \"CumSum\"}, \"units\": \"rad\"}, \"source\": {\"id\": \"1230\", \"type\": \"ColumnDataSource\"}, \"text\": {\"field\": \"wedge_label_ORF1\"}, \"x\": {\"value\": 0}, \"y\": {\"value\": 0}}, \"id\": \"1263\", \"type\": \"LabelSet\"}, {\"attributes\": {\"callback\": null, \"tooltips\": \"@ORF1_sub: @ORF1\"}, \"id\": \"1324\", \"type\": \"HoverTool\"}, {\"attributes\": {\"text\": \"Sum: 1\", \"x\": 0.48, \"y\": 0.48}, \"id\": \"1301\", \"type\": \"Label\"}, {\"attributes\": {\"source\": {\"id\": \"1302\", \"type\": \"ColumnDataSource\"}}, \"id\": \"1333\", \"type\": \"CDSView\"}, {\"attributes\": {\"below\": [{\"id\": \"1278\", \"type\": \"LinearAxis\"}], \"center\": [{\"id\": \"1282\", \"type\": \"Grid\"}, {\"id\": \"1287\", \"type\": \"Grid\"}, {\"id\": \"1299\", \"type\": \"LabelSet\"}, {\"id\": \"1301\", \"type\": \"Label\"}], \"left\": [{\"id\": \"1283\", \"type\": \"LinearAxis\"}], \"plot_height\": 270, \"plot_width\": 300, \"renderers\": [{\"id\": \"1296\", \"type\": \"GlyphRenderer\"}], \"title\": {\"id\": \"1268\", \"type\": \"Title\"}, \"toolbar\": {\"id\": \"1289\", \"type\": \"Toolbar\"}, \"toolbar_location\": null, \"x_range\": {\"id\": \"1270\", \"type\": \"Range1d\"}, \"x_scale\": {\"id\": \"1274\", \"type\": \"LinearScale\"}, \"y_range\": {\"id\": \"1272\", \"type\": \"DataRange1d\"}, \"y_scale\": {\"id\": \"1276\", \"type\": \"LinearScale\"}}, \"id\": \"1267\", \"subtype\": \"Figure\", \"type\": \"Plot\"}, {\"attributes\": {\"field\": \"angle\", \"include_zero\": true}, \"id\": \"1327\", \"type\": \"CumSum\"}, {\"attributes\": {\"field\": \"angle\"}, \"id\": \"1328\", \"type\": \"CumSum\"}, {\"attributes\": {\"end_angle\": {\"expr\": {\"id\": \"1328\", \"type\": \"CumSum\"}, \"units\": \"rad\"}, \"fill_alpha\": {\"value\": 0.1}, \"fill_color\": {\"value\": \"#1f77b4\"}, \"line_alpha\": {\"value\": 0.1}, \"line_color\": {\"value\": \"#1f77b4\"}, \"radius\": {\"units\": \"data\", \"value\": 0.48}, \"start_angle\": {\"expr\": {\"id\": \"1327\", \"type\": \"CumSum\"}, \"units\": \"rad\"}, \"x\": {\"value\": 0}, \"y\": {\"value\": 0}}, \"id\": \"1331\", \"type\": \"Wedge\"}, {\"attributes\": {\"children\": [{\"id\": \"1011\", \"type\": \"Row\"}, {\"id\": \"1120\", \"type\": \"Row\"}, {\"id\": \"1229\", \"type\": \"Row\"}]}, \"id\": \"1010\", \"type\": \"Column\"}, {\"attributes\": {\"text\": \"Sum: 3\", \"x\": 0.48, \"y\": 0.48}, \"id\": \"1265\", \"type\": \"Label\"}, {\"attributes\": {\"children\": [{\"id\": \"1010\", \"type\": \"Column\"}, {\"id\": \"1339\", \"subtype\": \"Figure\", \"type\": \"Plot\"}]}, \"id\": \"1377\", \"type\": \"Row\"}, {\"attributes\": {\"callback\": null}, \"id\": \"1308\", \"type\": \"DataRange1d\"}, {\"attributes\": {\"field\": \"angle\", \"include_zero\": true}, \"id\": \"1363\", \"type\": \"CumSum\"}, {\"attributes\": {\"callback\": null, \"data\": {\"ORF1\": [1, 1, 3, 5, 1, 1, 2], \"ORF1_sub\": [\"P1\", \"P2\", \"P3\", \"P4\", \"P6\", \"P9\", \"Pd\"], \"ORF2\": [1, 1, 3, 5, 1, 1, 2], \"ORF2_sub\": [1, 1, 3, 5, 1, 1, 2], \"Sample Date\": [1, 1, 3, 5, 1, 1, 2], \"angle\": {\"__ndarray__\": \"QKG7Ox+53D9Aobs7H7ncP/C4zGzXivU/yERVhbPzAUBAobs7H7ncP0Chuzsfudw/QKG7Ox+57D8=\", \"dtype\": \"float64\", \"shape\": [7]}, \"wedge_label_ORF1\": [\"                 1\", \"                 1\", \"                 3\", \"                 5\", \"                 1\", \"                 1\", \"                 2\"]}, \"selected\": {\"id\": \"1450\", \"type\": \"Selection\"}, \"selection_policy\": {\"id\": \"1449\", \"type\": \"UnionRenderers\"}}, \"id\": \"1302\", \"type\": \"ColumnDataSource\"}, {\"attributes\": {\"callback\": null}, \"id\": \"1272\", \"type\": \"DataRange1d\"}, {\"attributes\": {\"callback\": null, \"start\": -0.5}, \"id\": \"1306\", \"type\": \"Range1d\"}, {\"attributes\": {}, \"id\": \"1274\", \"type\": \"LinearScale\"}, {\"attributes\": {\"axis_label\": null, \"formatter\": {\"id\": \"1431\", \"type\": \"BasicTickFormatter\"}, \"ticker\": {\"id\": \"1320\", \"type\": \"BasicTicker\"}, \"visible\": false}, \"id\": \"1319\", \"type\": \"LinearAxis\"}, {\"attributes\": {\"active_drag\": \"auto\", \"active_inspect\": \"auto\", \"active_multi\": null, \"active_scroll\": \"auto\", \"active_tap\": \"auto\", \"tools\": [{\"id\": \"1324\", \"type\": \"HoverTool\"}]}, \"id\": \"1325\", \"type\": \"Toolbar\"}, {\"attributes\": {\"dimension\": 1, \"grid_line_color\": null, \"ticker\": {\"id\": \"1320\", \"type\": \"BasicTicker\"}}, \"id\": \"1323\", \"type\": \"Grid\"}, {\"attributes\": {\"callback\": null, \"start\": -0.5}, \"id\": \"1270\", \"type\": \"Range1d\"}, {\"attributes\": {}, \"id\": \"1310\", \"type\": \"LinearScale\"}, {\"attributes\": {\"end_angle\": {\"expr\": {\"id\": \"1038\", \"type\": \"CumSum\"}, \"units\": \"rad\"}, \"fill_alpha\": {\"value\": 0.1}, \"fill_color\": {\"value\": \"#1f77b4\"}, \"line_alpha\": {\"value\": 0.1}, \"line_color\": {\"value\": \"#1f77b4\"}, \"radius\": {\"units\": \"data\", \"value\": 0.48}, \"start_angle\": {\"expr\": {\"id\": \"1037\", \"type\": \"CumSum\"}, \"units\": \"rad\"}, \"x\": {\"value\": 0}, \"y\": {\"value\": 0}}, \"id\": \"1041\", \"type\": \"Wedge\"}, {\"attributes\": {\"text\": \"All Countries\"}, \"id\": \"1340\", \"type\": \"Title\"}, {\"attributes\": {\"axis_label\": null, \"formatter\": {\"id\": \"1427\", \"type\": \"BasicTickFormatter\"}, \"ticker\": {\"id\": \"1284\", \"type\": \"BasicTicker\"}, \"visible\": false}, \"id\": \"1283\", \"type\": \"LinearAxis\"}, {\"attributes\": {\"callback\": null, \"start\": -0.5}, \"id\": \"1342\", \"type\": \"Range1d\"}, {\"attributes\": {\"below\": [{\"id\": \"1314\", \"type\": \"LinearAxis\"}], \"center\": [{\"id\": \"1318\", \"type\": \"Grid\"}, {\"id\": \"1323\", \"type\": \"Grid\"}, {\"id\": \"1335\", \"type\": \"LabelSet\"}, {\"id\": \"1337\", \"type\": \"Label\"}], \"left\": [{\"id\": \"1319\", \"type\": \"LinearAxis\"}], \"plot_height\": 270, \"plot_width\": 300, \"renderers\": [{\"id\": \"1332\", \"type\": \"GlyphRenderer\"}], \"title\": {\"id\": \"1304\", \"type\": \"Title\"}, \"toolbar\": {\"id\": \"1325\", \"type\": \"Toolbar\"}, \"toolbar_location\": null, \"x_range\": {\"id\": \"1306\", \"type\": \"Range1d\"}, \"x_scale\": {\"id\": \"1310\", \"type\": \"LinearScale\"}, \"y_range\": {\"id\": \"1308\", \"type\": \"DataRange1d\"}, \"y_scale\": {\"id\": \"1312\", \"type\": \"LinearScale\"}}, \"id\": \"1303\", \"subtype\": \"Figure\", \"type\": \"Plot\"}, {\"attributes\": {\"name\": \"endpoint_pie\", \"text\": \"<h3>https://kooplex-fiek.elte.hu/notebook/wfct0p-rere-wfct0p/report/?&dateslider_values=2018-01-02 00:00:00,2019-12-02 00:00:00</h3>\"}, \"id\": \"1451\", \"type\": \"Div\"}, {\"attributes\": {\"text\": \"HUNGARY\"}, \"id\": \"1268\", \"type\": \"Title\"}, {\"attributes\": {\"text\": \"NEW ZEALAND\"}, \"id\": \"1304\", \"type\": \"Title\"}, {\"attributes\": {}, \"id\": \"1022\", \"type\": \"LinearScale\"}, {\"attributes\": {\"axis_label\": null, \"formatter\": {\"id\": \"1397\", \"type\": \"BasicTickFormatter\"}, \"ticker\": {\"id\": \"1025\", \"type\": \"BasicTicker\"}, \"visible\": false}, \"id\": \"1024\", \"type\": \"LinearAxis\"}, {\"attributes\": {}, \"id\": \"1025\", \"type\": \"BasicTicker\"}, {\"attributes\": {}, \"id\": \"1030\", \"type\": \"BasicTicker\"}, {\"attributes\": {\"grid_line_color\": null, \"ticker\": {\"id\": \"1025\", \"type\": \"BasicTicker\"}}, \"id\": \"1028\", \"type\": \"Grid\"}, {\"attributes\": {\"callback\": null, \"data\": {\"ORF1\": [1, 7, 3, 6, 2, 2], \"ORF1_sub\": [\"P2\", \"P3\", \"P4\", \"P5\", \"Pb\", \"Pd\"], \"ORF2\": [1, 7, 3, 6, 2, 2], \"ORF2_sub\": [1, 7, 3, 6, 2, 2], \"Sample Date\": [1, 7, 3, 6, 2, 2], \"angle\": {\"__ndarray__\": \"KhZ90hQm0z9lcy04UsEAQEChuzsfuew/QKG7Ox+5/D8qFn3SFCbjPyoWfdIUJuM/\", \"dtype\": \"float64\", \"shape\": [6]}, \"wedge_label_ORF1\": [\"                 1\", \"                 7\", \"                 3\", \"                 6\", \"                 2\", \"                 2\"]}, \"selected\": {\"id\": \"1436\", \"type\": \"Selection\"}, \"selection_policy\": {\"id\": \"1435\", \"type\": \"UnionRenderers\"}}, \"id\": \"1048\", \"type\": \"ColumnDataSource\"}, {\"attributes\": {\"dimension\": 1, \"grid_line_color\": null, \"ticker\": {\"id\": \"1030\", \"type\": \"BasicTicker\"}}, \"id\": \"1033\", \"type\": \"Grid\"}, {\"attributes\": {\"active_drag\": \"auto\", \"active_inspect\": \"auto\", \"active_multi\": null, \"active_scroll\": \"auto\", \"active_tap\": \"auto\", \"tools\": [{\"id\": \"1034\", \"type\": \"HoverTool\"}]}, \"id\": \"1035\", \"type\": \"Toolbar\"}, {\"attributes\": {\"text\": \"Sum: 12\", \"x\": 0.48, \"y\": 0.48}, \"id\": \"1047\", \"type\": \"Label\"}, {\"attributes\": {\"callback\": null, \"tooltips\": \"@ORF1_sub: @ORF1\"}, \"id\": \"1034\", \"type\": \"HoverTool\"}, {\"attributes\": {}, \"id\": \"1020\", \"type\": \"LinearScale\"}, {\"attributes\": {\"field\": \"angle\"}, \"id\": \"1038\", \"type\": \"CumSum\"}, {\"attributes\": {\"field\": \"angle\", \"include_zero\": true}, \"id\": \"1044\", \"type\": \"CumSum\"}, {\"attributes\": {\"angle\": {\"expr\": {\"id\": \"1044\", \"type\": \"CumSum\"}, \"units\": \"rad\"}, \"source\": {\"id\": \"1012\", \"type\": \"ColumnDataSource\"}, \"text\": {\"field\": \"wedge_label_ORF1\"}, \"x\": {\"value\": 0}, \"y\": {\"value\": 0}}, \"id\": \"1045\", \"type\": \"LabelSet\"}, {\"attributes\": {\"text\": \"GERMANY\"}, \"id\": \"1050\", \"type\": \"Title\"}, {\"attributes\": {\"callback\": null, \"data\": {\"ORF1\": [1, 1], \"ORF1_sub\": [\"P2\", \"P3\"], \"ORF2\": [1, 1], \"ORF2_sub\": [1, 1], \"Sample Date\": [1, 1], \"angle\": {\"__ndarray__\": \"GC1EVPshCUAYLURU+yEJQA==\", \"dtype\": \"float64\", \"shape\": [2]}, \"wedge_label_ORF1\": [\"                 1\", \"                 1\"]}, \"selected\": {\"id\": \"1442\", \"type\": \"Selection\"}, \"selection_policy\": {\"id\": \"1441\", \"type\": \"UnionRenderers\"}}, \"id\": \"1157\", \"type\": \"ColumnDataSource\"}, {\"attributes\": {\"callback\": null, \"start\": -0.5}, \"id\": \"1052\", \"type\": \"Range1d\"}, {\"attributes\": {\"below\": [{\"id\": \"1133\", \"type\": \"LinearAxis\"}], \"center\": [{\"id\": \"1137\", \"type\": \"Grid\"}, {\"id\": \"1142\", \"type\": \"Grid\"}, {\"id\": \"1154\", \"type\": \"LabelSet\"}, {\"id\": \"1156\", \"type\": \"Label\"}], \"left\": [{\"id\": \"1138\", \"type\": \"LinearAxis\"}], \"plot_height\": 270, \"plot_width\": 300, \"renderers\": [{\"id\": \"1151\", \"type\": \"GlyphRenderer\"}], \"title\": {\"id\": \"1123\", \"type\": \"Title\"}, \"toolbar\": {\"id\": \"1144\", \"type\": \"Toolbar\"}, \"toolbar_location\": null, \"x_range\": {\"id\": \"1125\", \"type\": \"Range1d\"}, \"x_scale\": {\"id\": \"1129\", \"type\": \"LinearScale\"}, \"y_range\": {\"id\": \"1127\", \"type\": \"DataRange1d\"}, \"y_scale\": {\"id\": \"1131\", \"type\": \"LinearScale\"}}, \"id\": \"1122\", \"subtype\": \"Figure\", \"type\": \"Plot\"}, {\"attributes\": {\"axis_label\": null, \"formatter\": {\"id\": \"1403\", \"type\": \"BasicTickFormatter\"}, \"ticker\": {\"id\": \"1066\", \"type\": \"BasicTicker\"}, \"visible\": false}, \"id\": \"1065\", \"type\": \"LinearAxis\"}, {\"attributes\": {\"text\": \"Sum: 140\", \"x\": 0.48, \"y\": 0.48}, \"id\": \"1119\", \"type\": \"Label\"}, {\"attributes\": {\"children\": [{\"id\": \"1002\", \"type\": \"CheckboxGroup\"}]}, \"id\": \"1004\", \"type\": \"Column\"}, {\"attributes\": {\"callback\": null, \"data\": {\"ORF1\": [19, 7, 19, 42, 6, 1, 13, 1, 9, 23], \"ORF1_sub\": [\"P1\", \"P2\", \"P3\", \"P4\", \"P5\", \"P6\", \"P7\", \"Pa\", \"Pb\", \"Pd\"], \"ORF2\": [19, 7, 19, 42, 6, 1, 13, 1, 9, 23], \"ORF2_sub\": [19, 7, 19, 42, 6, 1, 13, 1, 9, 23], \"Sample Date\": [19, 7, 19, 42, 6, 1, 13, 1, 9, 23], \"angle\": {\"__ndarray__\": \"L9mLRXdJ6z/g8Jx2LxvUPy/Zi0V3Ses/UGnrMcco/j/AYD2K3zvRPwCB/GJ/+qY/0ChtgIer4j8Agfxif/qmPx8RXE/P2dk/uHwljwuE8D8=\", \"dtype\": \"float64\", \"shape\": [10]}, \"wedge_label_ORF1\": [\"                19\", \"                 7\", \"                19\", \"                42\", \"                 6\", \"                 1\", \"                13\", \"                 1\", \"                 9\", \"                23\"]}, \"selected\": {\"id\": \"1438\", \"type\": \"Selection\"}, \"selection_policy\": {\"id\": \"1437\", \"type\": \"UnionRenderers\"}}, \"id\": \"1084\", \"type\": \"ColumnDataSource\"}, {\"attributes\": {\"field\": \"angle\", \"include_zero\": true}, \"id\": \"1073\", \"type\": \"CumSum\"}], \"root_ids\": [\"1452\"]}, \"title\": \"\", \"version\": \"1.4.0\"}}\n"
     ]
    }
   ],
   "source": [
    "# GET /country_pie\n",
    "req = json.loads(REQUEST)\n",
    "args = req['args']\n",
    "\n",
    "while len(curdoc().roots)>0:\n",
    "    curdoc().remove_root(curdoc().roots[0])\n",
    "    \n",
    "D = Dash_pie('noronet_all_clean.fr', \"categories_all.json\")\n",
    "D.plot_type = country_pie\n",
    "D.endpoint_name = 'country_pie'\n",
    "D.plot_mode = 'api'\n",
    "D.label = 'cp'\n",
    "D.set_controls()\n",
    "D.init_plot()\n",
    "D.create_api_url()\n",
    "D.set_layout()\n",
    "\n",
    "D.get_state_from_url(field_dict=args)\n",
    "D.on_click_plot('t')\n",
    "\n",
    "curdoc().title = \"Test Pie chart\"\n",
    "print(json.dumps(json_item(curdoc().roots[0], \"myplot\")))"
   ]
  },
  {
   "cell_type": "code",
   "execution_count": null,
   "metadata": {},
   "outputs": [],
   "source": [
    "# GET /outbreak_pie\n",
    "req = json.loads(REQUEST)\n",
    "args = req['args']\n",
    "\n",
    "while len(curdoc().roots)>0:\n",
    "    curdoc().remove_root(curdoc().roots[0])\n",
    "    \n",
    "D = Dash_pie('noronet_all_clean.fr', \"categories_all.json\")\n",
    "D.plot_type = outbreak_setting_pie_chart\n",
    "D.endpoint_name = 'outbreak_setting_pie_chart'\n",
    "D.plot_mode = 'api'\n",
    "D.label = 'op'\n",
    "\n",
    "D.set_controls()\n",
    "D.init_plot()\n",
    "D.create_api_url()\n",
    "D.set_layout()\n",
    "D.set_api_url()\n",
    "\n",
    "curdoc().title = \"Test Outbreak setting Pie chart\"\n",
    "print(json.dumps(json_item(curdoc().roots[0], \"myplot\")))"
   ]
  },
  {
   "cell_type": "code",
   "execution_count": null,
   "metadata": {},
   "outputs": [],
   "source": [
    "# GET /factor_bar\n",
    "req = json.loads(REQUEST)\n",
    "args = req['args']\n",
    "\n",
    "while len(curdoc().roots)>0:\n",
    "    curdoc().remove_root(curdoc().roots[0])\n",
    "    \n",
    "D = Dash_bar('noronet_all_clean.fr', \"categories_all.json\")\n",
    "D.plot_type = factor_bar_chart\n",
    "D.endpoint_name = 'factor_bar_chart'\n",
    "D.plot_mode = 'api'\n",
    "D.label='fb'\n",
    "D.set_controls()\n",
    "D.init_plot()\n",
    "D.create_api_url()\n",
    "D.set_layout()\n",
    "#print(args)\n",
    "D.get_state_from_url(field_dict=args)\n",
    "D.on_click_plot('t')\n",
    "\n",
    "# html={}\n",
    "# html['target_id'] = \"myplot2\"\n",
    "# html['root_id'] = 3245\n",
    "# html['doc'] = doc.to_json()\n",
    "#curdoc().add_root(lay)\n",
    "curdoc().title = \"Test Bar chart\"\n",
    "print(json.dumps(json_item(curdoc().roots[0], \"myplot\")))\n",
    "#print(json.dumps(json_item(lay, \"myplot\" )))"
   ]
  },
  {
   "cell_type": "code",
   "execution_count": null,
   "metadata": {},
   "outputs": [],
   "source": [
    "# GET /factor_bar_rev\n",
    "req = json.loads(REQUEST)\n",
    "args = req['args']\n",
    "\n",
    "while len(curdoc().roots)>0:\n",
    "    curdoc().remove_root(curdoc().roots[0])\n",
    "    \n",
    "D = Dash_bar('noronet_all_clean.fr', \"categories_all.json\")\n",
    "D.plot_type = factor_bar_rev_chart\n",
    "D.endpoint_name = 'factor_bar_rev_chart'\n",
    "D.plot_mode = 'api'\n",
    "D.label='fbr'\n",
    "D.set_controls()\n",
    "D.init_plot()\n",
    "D.create_api_url()\n",
    "D.set_layout()\n",
    "#print(args)\n",
    "D.get_state_from_url(field_dict=args)\n",
    "D.on_click_plot('t')\n",
    "\n",
    "# html={}\n",
    "# html['target_id'] = \"myplot2\"\n",
    "# html['root_id'] = 3245\n",
    "# html['doc'] = doc.to_json()\n",
    "#curdoc().add_root(lay)\n",
    "curdoc().title = \"Test Bar chart\"\n",
    "print(json.dumps(json_item(curdoc().roots[0], \"myplot\")))\n",
    "#print(json.dumps(json_item(lay, \"myplot\" )))"
   ]
  },
  {
   "cell_type": "code",
   "execution_count": null,
   "metadata": {},
   "outputs": [],
   "source": [
    "# GET /orftype_bar\n",
    "req = json.loads(REQUEST)\n",
    "args = req['args']\n",
    "\n",
    "while len(curdoc().roots)>0:\n",
    "    curdoc().remove_root(curdoc().roots[0])\n",
    "    \n",
    "D = Dash_bar('noronet_all_clean.fr', \"categories_all.json\")\n",
    "D.plot_type = orf_subtype_bar_chart\n",
    "D.endpoint_name = 'orf_subtype_bar_chart'\n",
    "D.plot_mode = 'api'\n",
    "D.label='ob'\n",
    "D.set_controls()\n",
    "D.init_plot()\n",
    "D.create_api_url()\n",
    "D.set_layout()\n",
    "#print(args)\n",
    "D.get_state_from_url(field_dict=args)\n",
    "D.on_click_plot('t')\n",
    "\n",
    "# html={}\n",
    "# html['target_id'] = \"myplot2\"\n",
    "# html['root_id'] = 3245\n",
    "# html['doc'] = doc.to_json()\n",
    "#curdoc().add_root(lay)\n",
    "curdoc().title = \"Test Bar chart\"\n",
    "print(json.dumps(json_item(curdoc().roots[0], \"myplot\")))\n",
    "#print(json.dumps(json_item(lay, \"myplot\" )))"
   ]
  },
  {
   "cell_type": "code",
   "execution_count": 1,
   "metadata": {},
   "outputs": [],
   "source": [
    "# GET /regi\n",
    "#req = json.loads(REQUEST)\n",
    "#args = req['args']\n",
    "\n",
    "df, dict_categories = load_data('noronet_clean.fr', \"categories.json\")\n",
    "lay = complete_layout(df, dict_categories)\n",
    "\n",
    "\n",
    "# cc = []\n",
    "# if 'country' in args:\n",
    "#     cc = [c for c in args['country'][0].split(\",\")]\n",
    "\n",
    "\n",
    "# if cc:\n",
    "#     lay = create_country_pie(gi_df[gi_df['Country'].apply(lambda x: True if x in cc else False)], g_type=\"gii\")\n",
    "# else:\n",
    "#     lay = create_country_pie(gi_df, g_type=\"gii\")\n",
    "\n",
    "# html={}\n",
    "# html['target_id'] = \"myplot2\"\n",
    "# html['root_id'] = 3245\n",
    "# html['doc'] = doc.to_json()\n",
    "curdoc().add_root(lay)\n",
    "curdoc().title = \"Test Pie chart\"\n",
    "print(json.dumps(json_item(curdoc().roots[0], \"myplot\")))\n",
    "#print(json.dumps(json_item(lay, \"myplot\" )))"
   ]
  },
  {
   "cell_type": "markdown",
   "metadata": {},
   "source": [
    "### Hierarchic pie chart\n",
    "https://stackoverflow.com/questions/33019879/hierarchic-pie-donut-chart-from-pandas-dataframe-using-bokeh-or-matplotlib\n",
    "\n",
    "<img src=\"http://i.stack.imgur.com/YKbzU.png\" width=\"300\" />"
   ]
  },
  {
   "cell_type": "markdown",
   "metadata": {},
   "source": [
    "### Figure 8 Outbreak settings for GI, GII.2, GII.4, GII.6 and GII.17."
   ]
  },
  {
   "cell_type": "markdown",
   "metadata": {},
   "source": [
    "## How to create easily\n",
    "* choose an ORF1_sub type"
   ]
  },
  {
   "cell_type": "markdown",
   "metadata": {},
   "source": [
    "### Multiple charts\n",
    "* Use Multichoice or multiselect\n",
    "* generate all"
   ]
  },
  {
   "cell_type": "code",
   "execution_count": null,
   "metadata": {},
   "outputs": [],
   "source": [
    "# choices.sort()\n",
    "# checkbox_group1 = CheckboxGroup(labels=[t for t in choices if 'GI-' in t], active=[], inline=True)\n",
    "# checkbox_group2 = CheckboxGroup(labels=[t for t in choices if 'GII-' in t], active=[], inline=True)\n",
    "# d = Div(text=\"\"\"Choose type\"\"\")\n",
    "# div_choose = Column(d, Row(Column(checkbox_group1, checkbox_group2)))\n",
    "# show(div_choose)"
   ]
  },
  {
   "cell_type": "markdown",
   "metadata": {},
   "source": [
    "## Put a button"
   ]
  },
  {
   "cell_type": "code",
   "execution_count": null,
   "metadata": {},
   "outputs": [],
   "source": [
    "# def on_change_plot(new):   \n",
    "#     choosen = checkbox_group1.labels[checkbox_group1.active]\n",
    "#     choosen.extend(checkbox_group2.labels[checkbox_group2.active])\n",
    "#     create_pie_plots(choosen)\n",
    "                \n",
    "# b_choose = Button(label=\"Plot\", button_type=\"success\")#, callback=CustomJS.from_py_func(on_change_save))\n",
    "# b_choose.on_click(on_change_plot)"
   ]
  },
  {
   "cell_type": "code",
   "execution_count": null,
   "metadata": {},
   "outputs": [],
   "source": [
    "# import io\n",
    "# import random\n",
    "\n",
    "# from jinja2 import Template\n",
    "\n",
    "# from bokeh.embed import components\n",
    "# from bokeh.plotting import figure\n",
    "# from bokeh.resources import INLINE\n",
    "# from bokeh.util.browser import view\n",
    "\n",
    "# ########## BUILD FIGURES ################\n",
    "\n",
    "# PLOT_OPTIONS = dict(plot_width=800, plot_height=300)\n",
    "# SCATTER_OPTIONS = dict(size=12, alpha=0.5)\n",
    "\n",
    "# data = lambda: [random.choice([i for i in range(100)]) for r in range(10)]\n",
    "\n",
    "# red = figure(sizing_mode='scale_width', tools='pan', **PLOT_OPTIONS)\n",
    "# red.scatter(data(), data(), color=\"red\", **SCATTER_OPTIONS)\n",
    "\n",
    "# blue = figure(sizing_mode='fixed', tools='pan', **PLOT_OPTIONS)\n",
    "# blue.scatter(data(), data(), color=\"blue\", **SCATTER_OPTIONS)\n",
    "\n",
    "# green = figure(sizing_mode='scale_width', tools='pan', **PLOT_OPTIONS)\n",
    "# green.scatter(data(), data(), color=\"green\", **SCATTER_OPTIONS)\n",
    "\n",
    "# ########## RENDER PLOTS ################\n",
    "\n",
    "# # Define our html template for out plots\n",
    "# template = Template(\"\"\"\\\n",
    "# <!DOCTYPE html>\n",
    "# <html lang=\"en\">\n",
    "#     <head>\n",
    "#         <meta charset=\"utf-8\">\n",
    "#         <title>Responsive plots</title>\n",
    "#         {{ resources }}\n",
    "#     </head>\n",
    "#     <body>\n",
    "#     <h2>Resize the window to see some plots resizing</h2>\n",
    "#     <h3>Red - pan tool, scale_width</h3>\n",
    "#     {{ plot_div.red }}\n",
    "#     <h3>Green - pan tool, scale_width</h3>\n",
    "#     {{ plot_div.green }}\n",
    "#     <h3>Blue - pan tool, fixed/h3>\n",
    "#     {{ plot_div.blue }}\n",
    "\n",
    "#     {{ plot_script }}\n",
    "#     </body>\n",
    "# </html>\n",
    "# \"\"\")\n",
    "\n",
    "# resources = INLINE.render()\n",
    "\n",
    "# script, div = components({'red': red, 'blue': blue, 'green': green})\n",
    "\n",
    "# html = template.render(resources=resources,\n",
    "#                        plot_script=script,\n",
    "#                        plot_div=div)\n",
    "\n",
    "# filename = 'embed_multiple_responsive.html'\n",
    "\n",
    "# with io.open(filename, mode='w', encoding='utf-8') as f:\n",
    "#     f.write(html)\n",
    "\n",
    "# view(filename)\n"
   ]
  }
 ],
 "metadata": {
  "kernelspec": {
   "display_name": "Python 3",
   "language": "python",
   "name": "python3"
  },
  "language_info": {
   "codemirror_mode": {
    "name": "ipython",
    "version": 3
   },
   "file_extension": ".py",
   "mimetype": "text/x-python",
   "name": "python",
   "nbconvert_exporter": "python",
   "pygments_lexer": "ipython3",
   "version": "3.7.3"
  }
 },
 "nbformat": 4,
 "nbformat_minor": 4
}
