{
 "cells": [
  {
   "cell_type": "code",
   "execution_count": 1,
   "metadata": {},
   "outputs": [],
   "source": [
    "from bokeh.resources import CDN\n",
    "from bokeh.embed import file_html, json_item\n",
    "from bokeh.plotting import figure\n",
    "from bokeh.io import curdoc, output_notebook, show \n",
    "from bokeh.models.layouts import Column, Row\n",
    "import json\n",
    "import requests, os\n",
    "\n",
    "output_notebook()\n",
    "\n",
    "def plot_from_url(url):\n",
    "    kw = {\n",
    "        'url': url,\n",
    "        'headers': {\"content-type\": \"application/x-www-form-urlencoded\"},\n",
    "        }\n",
    "\n",
    "    ret = requests.get(**kw)\n",
    "    curdoc().replace_with_json(ret.json()['doc'])\n",
    "    plot = curdoc().roots[0]\n",
    "    curdoc().remove_root(curdoc().roots[0])\n",
    "    return plot"
   ]
  }
 ],
 "metadata": {
  "kernelspec": {
   "display_name": "Python 3",
   "language": "python",
   "name": "python3"
  },
  "language_info": {
   "codemirror_mode": {
    "name": "ipython",
    "version": 3
   },
   "file_extension": ".py",
   "mimetype": "text/x-python",
   "name": "python",
   "nbconvert_exporter": "python",
   "pygments_lexer": "ipython3",
   "version": "3.7.3"
  }
 },
 "nbformat": 4,
 "nbformat_minor": 4
}
