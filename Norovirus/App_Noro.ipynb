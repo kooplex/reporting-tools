{
 "cells": [
  {
   "cell_type": "code",
   "execution_count": null,
   "metadata": {},
   "outputs": [],
   "source": [
    "from ipynb.fs.full.Dash_Noro_tools import *"
   ]
  },
  {
   "cell_type": "code",
   "execution_count": null,
   "metadata": {},
   "outputs": [],
   "source": [
    "import pandas as pd\n",
    "import json\n",
    "from bokeh.resources import CDN\n",
    "from bokeh.embed import file_html, json_item\n",
    "from bokeh.plotting import figure\n",
    "from bokeh.io import curdoc, output_notebook, show \n",
    "from bokeh.document import Document\n",
    "from bokeh.resources import INLINE\n",
    "from bokeh.util.browser import view\n"
   ]
  },
  {
   "cell_type": "code",
   "execution_count": null,
   "metadata": {},
   "outputs": [],
   "source": [
    "# GET /help\n",
    "req = json.loads(REQUEST)\n",
    "args = req['args']\n",
    "\n",
    "help_text = \"\"\"\n",
    "/country_pie\n",
    "\n",
    "/outbreak_setting_pie_chart\n",
    "\n",
    "/factor_bar_chart\n",
    "\n",
    "/factor_bar_rev_chart\n",
    "\n",
    "/orf_genotype_bar_chart\n",
    "\"\"\"\n",
    "\n",
    "print(help_text)"
   ]
  },
  {
   "cell_type": "markdown",
   "metadata": {},
   "source": [
    "### Simple pie chart for all data"
   ]
  },
  {
   "cell_type": "markdown",
   "metadata": {},
   "source": [
    "#### Figure 5. GI polymerase genotypes per country (>10 submitted sequences)"
   ]
  },
  {
   "cell_type": "code",
   "execution_count": null,
   "metadata": {},
   "outputs": [],
   "source": [
    "# GET /country_pie\n",
    "req = json.loads(REQUEST)\n",
    "args = req['args']\n",
    "\n",
    "while len(curdoc().roots)>0:\n",
    "    curdoc().remove_root(curdoc().roots[0])\n",
    "    \n",
    "D = Dash_pie('noronet_all_clean.fr', \"categories_all.json\")\n",
    "D.plot_type = country_pie\n",
    "D.endpoint_name = 'country_pie'\n",
    "D.plot_mode = 'api'\n",
    "D.label = 'cp'\n",
    "D.set_controls()\n",
    "D.init_plot()\n",
    "D.create_api_url()\n",
    "D.set_layout()\n",
    "\n",
    "D.get_state_from_url(field_dict=args)\n",
    "D.on_click_plot('t')\n",
    "\n",
    "curdoc().title = \"Test Pie chart\"\n",
    "print(json.dumps(json_item(curdoc().roots[0], \"myplot\")))"
   ]
  },
  {
   "cell_type": "code",
   "execution_count": null,
   "metadata": {},
   "outputs": [],
   "source": [
    "# GET /outbreak_setting_pie_chart\n",
    "req = json.loads(REQUEST)\n",
    "args = req['args']\n",
    "\n",
    "while len(curdoc().roots)>0:\n",
    "    curdoc().remove_root(curdoc().roots[0])\n",
    "    \n",
    "D = Dash_pie('noronet_all_clean.fr', \"categories_all.json\")\n",
    "D.plot_type = outbreak_setting_pie_chart\n",
    "D.endpoint_name = 'outbreak_setting_pie_chart'\n",
    "D.plot_mode = 'api'\n",
    "D.label = 'op'\n",
    "\n",
    "D.set_controls()\n",
    "D.init_plot()\n",
    "D.create_api_url()\n",
    "D.set_layout()\n",
    "D.set_api_url()\n",
    "\n",
    "curdoc().title = \"Test Outbreak setting Pie chart\"\n",
    "print(json.dumps(json_item(curdoc().roots[0], \"myplot\")))"
   ]
  },
  {
   "cell_type": "code",
   "execution_count": null,
   "metadata": {},
   "outputs": [],
   "source": [
    "# GET /factor_bar_chart\n",
    "req = json.loads(REQUEST)\n",
    "args = req['args']\n",
    "\n",
    "while len(curdoc().roots)>0:\n",
    "    curdoc().remove_root(curdoc().roots[0])\n",
    "    \n",
    "D = Dash_bar('noronet_all_clean.fr', \"categories_all.json\")\n",
    "D.plot_type = factor_bar_chart\n",
    "D.endpoint_name = 'factor_bar_chart'\n",
    "D.plot_mode = 'api'\n",
    "D.label='fb'\n",
    "D.set_controls()\n",
    "D.init_plot()\n",
    "D.create_api_url()\n",
    "D.set_layout()\n",
    "#print(args)\n",
    "D.get_state_from_url(field_dict=args)\n",
    "D.on_click_plot('t')\n",
    "\n",
    "# html={}\n",
    "# html['target_id'] = \"myplot2\"\n",
    "# html['root_id'] = 3245\n",
    "# html['doc'] = doc.to_json()\n",
    "#curdoc().add_root(lay)\n",
    "curdoc().title = \"Test Bar chart\"\n",
    "print(json.dumps(json_item(curdoc().roots[0], \"myplot\")))\n",
    "#print(json.dumps(json_item(lay, \"myplot\" )))"
   ]
  },
  {
   "cell_type": "code",
   "execution_count": null,
   "metadata": {},
   "outputs": [],
   "source": [
    "# GET /factor_bar_rev_chart\n",
    "req = json.loads(REQUEST)\n",
    "args = req['args']\n",
    "\n",
    "while len(curdoc().roots)>0:\n",
    "    curdoc().remove_root(curdoc().roots[0])\n",
    "    \n",
    "D = Dash_bar('noronet_all_clean.fr', \"categories_all.json\")\n",
    "D.plot_type = factor_bar_rev_chart\n",
    "D.endpoint_name = 'factor_bar_rev_chart'\n",
    "D.plot_mode = 'api'\n",
    "D.label='fbr'\n",
    "D.set_controls()\n",
    "D.init_plot()\n",
    "D.create_api_url()\n",
    "D.set_layout()\n",
    "#print(args)\n",
    "D.get_state_from_url(field_dict=args)\n",
    "D.on_click_plot('t')\n",
    "\n",
    "# html={}\n",
    "# html['target_id'] = \"myplot2\"\n",
    "# html['root_id'] = 3245\n",
    "# html['doc'] = doc.to_json()\n",
    "#curdoc().add_root(lay)\n",
    "curdoc().title = \"Test Bar chart\"\n",
    "print(json.dumps(json_item(curdoc().roots[0], \"myplot\")))\n",
    "#print(json.dumps(json_item(lay, \"myplot\" )))"
   ]
  },
  {
   "cell_type": "code",
   "execution_count": null,
   "metadata": {},
   "outputs": [],
   "source": [
    "# GET /orf_genotype_bar_chart\n",
    "req = json.loads(REQUEST)\n",
    "args = req['args']\n",
    "\n",
    "while len(curdoc().roots)>0:\n",
    "    curdoc().remove_root(curdoc().roots[0])\n",
    "    \n",
    "D = Dash_bar('noronet_all_clean.fr', \"categories_all.json\")\n",
    "D.plot_type = orf_genotype_bar_chart\n",
    "D.endpoint_name = 'orf_subtype_bar_chart'\n",
    "D.plot_mode = 'api'\n",
    "D.label='ob'\n",
    "D.set_controls()\n",
    "D.init_plot()\n",
    "D.create_api_url()\n",
    "D.set_layout()\n",
    "#print(args)\n",
    "D.get_state_from_url(field_dict=args)\n",
    "D.on_click_plot('t')\n",
    "\n",
    "# html={}\n",
    "# html['target_id'] = \"myplot2\"\n",
    "# html['root_id'] = 3245\n",
    "# html['doc'] = doc.to_json()\n",
    "#curdoc().add_root(lay)\n",
    "curdoc().title = \"Test Bar chart\"\n",
    "print(json.dumps(json_item(curdoc().roots[0], \"myplot\")))\n",
    "#print(json.dumps(json_item(lay, \"myplot\" )))"
   ]
  },
  {
   "cell_type": "code",
   "execution_count": null,
   "metadata": {},
   "outputs": [],
   "source": [
    "# GET /regi\n",
    "#req = json.loads(REQUEST)\n",
    "#args = req['args']\n",
    "\n",
    "df, dict_categories = load_data('noronet_clean.fr', \"categories.json\")\n",
    "lay = complete_layout(df, dict_categories)\n",
    "\n",
    "\n",
    "# cc = []\n",
    "# if 'country' in args:\n",
    "#     cc = [c for c in args['country'][0].split(\",\")]\n",
    "\n",
    "\n",
    "# if cc:\n",
    "#     lay = create_country_pie(gi_df[gi_df['Country'].apply(lambda x: True if x in cc else False)], g_type=\"gii\")\n",
    "# else:\n",
    "#     lay = create_country_pie(gi_df, g_type=\"gii\")\n",
    "\n",
    "# html={}\n",
    "# html['target_id'] = \"myplot2\"\n",
    "# html['root_id'] = 3245\n",
    "# html['doc'] = doc.to_json()\n",
    "curdoc().add_root(lay)\n",
    "curdoc().title = \"Test Pie chart\"\n",
    "print(json.dumps(json_item(curdoc().roots[0], \"myplot\")))\n",
    "#print(json.dumps(json_item(lay, \"myplot\" )))"
   ]
  },
  {
   "cell_type": "markdown",
   "metadata": {},
   "source": [
    "### Hierarchic pie chart\n",
    "https://stackoverflow.com/questions/33019879/hierarchic-pie-donut-chart-from-pandas-dataframe-using-bokeh-or-matplotlib\n",
    "\n",
    "<img src=\"http://i.stack.imgur.com/YKbzU.png\" width=\"300\" />"
   ]
  },
  {
   "cell_type": "markdown",
   "metadata": {},
   "source": [
    "### Figure 8 Outbreak settings for GI, GII.2, GII.4, GII.6 and GII.17."
   ]
  },
  {
   "cell_type": "markdown",
   "metadata": {},
   "source": [
    "## How to create easily\n",
    "* choose an ORF1_sub type"
   ]
  },
  {
   "cell_type": "markdown",
   "metadata": {},
   "source": [
    "### Multiple charts\n",
    "* Use Multichoice or multiselect\n",
    "* generate all"
   ]
  },
  {
   "cell_type": "code",
   "execution_count": null,
   "metadata": {},
   "outputs": [],
   "source": [
    "# choices.sort()\n",
    "# checkbox_group1 = CheckboxGroup(labels=[t for t in choices if 'GI-' in t], active=[], inline=True)\n",
    "# checkbox_group2 = CheckboxGroup(labels=[t for t in choices if 'GII-' in t], active=[], inline=True)\n",
    "# d = Div(text=\"\"\"Choose type\"\"\")\n",
    "# div_choose = Column(d, Row(Column(checkbox_group1, checkbox_group2)))\n",
    "# show(div_choose)"
   ]
  },
  {
   "cell_type": "markdown",
   "metadata": {},
   "source": [
    "## Put a button"
   ]
  },
  {
   "cell_type": "code",
   "execution_count": null,
   "metadata": {},
   "outputs": [],
   "source": [
    "# def on_change_plot(new):   \n",
    "#     choosen = checkbox_group1.labels[checkbox_group1.active]\n",
    "#     choosen.extend(checkbox_group2.labels[checkbox_group2.active])\n",
    "#     create_pie_plots(choosen)\n",
    "                \n",
    "# b_choose = Button(label=\"Plot\", button_type=\"success\")#, callback=CustomJS.from_py_func(on_change_save))\n",
    "# b_choose.on_click(on_change_plot)"
   ]
  },
  {
   "cell_type": "code",
   "execution_count": null,
   "metadata": {},
   "outputs": [],
   "source": [
    "# import io\n",
    "# import random\n",
    "\n",
    "# from jinja2 import Template\n",
    "\n",
    "# from bokeh.embed import components\n",
    "# from bokeh.plotting import figure\n",
    "# from bokeh.resources import INLINE\n",
    "# from bokeh.util.browser import view\n",
    "\n",
    "# ########## BUILD FIGURES ################\n",
    "\n",
    "# PLOT_OPTIONS = dict(plot_width=800, plot_height=300)\n",
    "# SCATTER_OPTIONS = dict(size=12, alpha=0.5)\n",
    "\n",
    "# data = lambda: [random.choice([i for i in range(100)]) for r in range(10)]\n",
    "\n",
    "# red = figure(sizing_mode='scale_width', tools='pan', **PLOT_OPTIONS)\n",
    "# red.scatter(data(), data(), color=\"red\", **SCATTER_OPTIONS)\n",
    "\n",
    "# blue = figure(sizing_mode='fixed', tools='pan', **PLOT_OPTIONS)\n",
    "# blue.scatter(data(), data(), color=\"blue\", **SCATTER_OPTIONS)\n",
    "\n",
    "# green = figure(sizing_mode='scale_width', tools='pan', **PLOT_OPTIONS)\n",
    "# green.scatter(data(), data(), color=\"green\", **SCATTER_OPTIONS)\n",
    "\n",
    "# ########## RENDER PLOTS ################\n",
    "\n",
    "# # Define our html template for out plots\n",
    "# template = Template(\"\"\"\\\n",
    "# <!DOCTYPE html>\n",
    "# <html lang=\"en\">\n",
    "#     <head>\n",
    "#         <meta charset=\"utf-8\">\n",
    "#         <title>Responsive plots</title>\n",
    "#         {{ resources }}\n",
    "#     </head>\n",
    "#     <body>\n",
    "#     <h2>Resize the window to see some plots resizing</h2>\n",
    "#     <h3>Red - pan tool, scale_width</h3>\n",
    "#     {{ plot_div.red }}\n",
    "#     <h3>Green - pan tool, scale_width</h3>\n",
    "#     {{ plot_div.green }}\n",
    "#     <h3>Blue - pan tool, fixed/h3>\n",
    "#     {{ plot_div.blue }}\n",
    "\n",
    "#     {{ plot_script }}\n",
    "#     </body>\n",
    "# </html>\n",
    "# \"\"\")\n",
    "\n",
    "# resources = INLINE.render()\n",
    "\n",
    "# script, div = components({'red': red, 'blue': blue, 'green': green})\n",
    "\n",
    "# html = template.render(resources=resources,\n",
    "#                        plot_script=script,\n",
    "#                        plot_div=div)\n",
    "\n",
    "# filename = 'embed_multiple_responsive.html'\n",
    "\n",
    "# with io.open(filename, mode='w', encoding='utf-8') as f:\n",
    "#     f.write(html)\n",
    "\n",
    "# view(filename)\n"
   ]
  }
 ],
 "metadata": {
  "kernelspec": {
   "display_name": "Python 3",
   "language": "python",
   "name": "python3"
  },
  "language_info": {
   "codemirror_mode": {
    "name": "ipython",
    "version": 3
   },
   "file_extension": ".py",
   "mimetype": "text/x-python",
   "name": "python",
   "nbconvert_exporter": "python",
   "pygments_lexer": "ipython3",
   "version": "3.7.3"
  }
 },
 "nbformat": 4,
 "nbformat_minor": 4
}
