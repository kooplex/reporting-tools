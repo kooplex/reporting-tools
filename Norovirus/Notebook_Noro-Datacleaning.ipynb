{
 "cells": [
  {
   "cell_type": "code",
   "execution_count": 85,
   "metadata": {},
   "outputs": [],
   "source": [
    "import pandas as pd\n",
    "import numpy as np\n",
    "import datetime\n",
    "import json\n",
    "import pivottablejs\n",
    "from IPython.display import HTML\n",
    "import IPython.core.display as di\n",
    "from IPython.display import display\n",
    "from IPython.display import Markdown as md"
   ]
  },
  {
   "cell_type": "code",
   "execution_count": 114,
   "metadata": {},
   "outputs": [
    {
     "name": "stdout",
     "output_type": "stream",
     "text": [
      "Collecting pyarrow\n",
      "\u001b[?25l  Downloading https://files.pythonhosted.org/packages/ca/54/9c7fba608248634f753f43859685448fe678d489ac0063cafe13243640c0/pyarrow-0.17.0-cp37-cp37m-manylinux2010_x86_64.whl (64.2MB)\n",
      "\u001b[K     |████████████████████████████████| 64.2MB 27.8MB/s eta 0:00:01     |███████████████████████████▉    | 55.9MB 27.8MB/s eta 0:00:01\n",
      "\u001b[?25hRequirement already satisfied: numpy>=1.14 in /home/wfct0p/.local/lib/python3.7/site-packages (from pyarrow) (1.18.3)\n",
      "Installing collected packages: pyarrow\n",
      "\u001b[33m  WARNING: The script plasma_store is installed in '/home/wfct0p/.local/bin' which is not on PATH.\n",
      "  Consider adding this directory to PATH or, if you prefer to suppress this warning, use --no-warn-script-location.\u001b[0m\n",
      "Successfully installed pyarrow-0.17.0\n"
     ]
    }
   ],
   "source": [
    "#!pip install --user pyarrow"
   ]
  },
  {
   "cell_type": "code",
   "execution_count": 86,
   "metadata": {},
   "outputs": [],
   "source": [
    "df = pd.read_csv('metadata/Results-20180101.csv', low_memory=False, sep=',')"
   ]
  },
  {
   "cell_type": "markdown",
   "metadata": {},
   "source": [
    "We should group sequences based on their Genogroups, and there are 4 columns for this info"
   ]
  },
  {
   "cell_type": "code",
   "execution_count": 87,
   "metadata": {},
   "outputs": [
    {
     "data": {
      "text/plain": [
       "{'Caliciviridae Norovirus GI',\n",
       " 'Caliciviridae Norovirus GII',\n",
       " 'Caliciviridae Norovirus GIII',\n",
       " 'Caliciviridae Norovirus GIV',\n",
       " 'Caliciviridae Norovirus GVII',\n",
       " 'Unassigned',\n",
       " nan}"
      ]
     },
     "execution_count": 87,
     "metadata": {},
     "output_type": "execute_result"
    }
   ],
   "source": [
    "s = set()\n",
    "for i in range(1,5):\n",
    "    s = s.union(set(df['seq %d: Genus / Genogroup'%i].unique()))\n",
    "s"
   ]
  },
  {
   "cell_type": "code",
   "execution_count": 88,
   "metadata": {},
   "outputs": [
    {
     "data": {
      "text/plain": [
       "['Caliciviridae Norovirus GVII',\n",
       " 'Caliciviridae Norovirus GIV',\n",
       " 'Caliciviridae Norovirus GIII',\n",
       " 'Caliciviridae Norovirus GII',\n",
       " 'Caliciviridae Norovirus GI']"
      ]
     },
     "execution_count": 88,
     "metadata": {},
     "output_type": "execute_result"
    }
   ],
   "source": [
    "available_genogroups = list(s)\n",
    "available_genogroups.remove(np.nan)\n",
    "available_genogroups.remove('Unassigned')\n",
    "available_genogroups"
   ]
  },
  {
   "cell_type": "code",
   "execution_count": 89,
   "metadata": {},
   "outputs": [
    {
     "name": "stderr",
     "output_type": "stream",
     "text": [
      "/opt/conda/lib/python3.7/site-packages/ipykernel_launcher.py:4: SettingWithCopyWarning: \n",
      "A value is trying to be set on a copy of a slice from a DataFrame.\n",
      "Try using .loc[row_indexer,col_indexer] = value instead\n",
      "\n",
      "See the caveats in the documentation: https://pandas.pydata.org/pandas-docs/stable/user_guide/indexing.html#returning-a-view-versus-a-copy\n",
      "  after removing the cwd from sys.path.\n"
     ]
    }
   ],
   "source": [
    "for i in range(1,5):\n",
    "    gengroup = 'seq %d: Genus / Genogroup'%i\n",
    "    #print(df[gengroup].fillna().sum())\n",
    "    df[df[gengroup].isna()][gengroup] = 'Unassigned'"
   ]
  },
  {
   "cell_type": "markdown",
   "metadata": {},
   "source": [
    "#### We will create a new DataFrame, but each seqX will be in a separate row\n",
    "For that we need to determine, which columns/metadata will be copied along"
   ]
  },
  {
   "cell_type": "code",
   "execution_count": 90,
   "metadata": {},
   "outputs": [],
   "source": [
    "#df.columns"
   ]
  },
  {
   "cell_type": "code",
   "execution_count": 91,
   "metadata": {},
   "outputs": [],
   "source": [
    "#First get rid of the columns that contain a summary of other columns\n",
    "drop_cols = ['ORF1', 'ORF1 variant', 'ORF2', 'ORF2 variant', 'Genus / Genogroup' ]\n",
    "df = df.drop(drop_cols, axis=1)"
   ]
  },
  {
   "cell_type": "code",
   "execution_count": 92,
   "metadata": {},
   "outputs": [],
   "source": [
    "copycols = list(df.columns)\n",
    "#print(copycols)\n",
    "copycols = ['User', 'Institute', 'Database ID', 'Country', 'Submission Date','Last Update', 'Outbreak Nr', 'Sample Date', 'Dutch lab Y/N', 'Nosocomial infection Y/N (sampledate > 2days after date of hospitalization)', 'Outbreak or sporadic case O/S',\n",
    " 'Source of the sample', 'Specify source', 'Specify animal', 'Suspected country of infection', 'Date of first disease', 'Geo-coded location', 'Suspected mode of transmission',\n",
    " 'Specify other mode of transmission', 'Food item', 'Specify food item', 'Setting of the outbreak', 'Specify setting', 'Point source transmission Y/N', 'Date of point source transmission',\n",
    " 'Nr of persons affected', 'Nr of persons at risk', 'Nr of cases deceased', 'Nr of cases hospitalized due to infection', 'Nr of cases of ages 0 to 4', 'Nr of cases of ages 5 to 14',\n",
    " 'Nr of cases of ages 15 to 64', 'Nr of cases of age 65 or older', 'Nr of cases with vomiting', 'Nr of cases with diarrhea', 'Nr of cases with vomiting AND diarrhea',\n",
    " 'Mixed infection Y/N', 'Specify other pathogen(s)', 'Nr of samples tested', 'Nr of PCR positive samples', 'Nr of PCR negative samples', 'Included in II.4 P2 capsid surveillance',\n",
    " 'fasta_id', 'reference_id', 'fragment_begin', 'Genus-Genogroup', 'ORF1', 'ORF1_variant', 'ORF2', 'ORF2_variant', 'Reference_sequence_for_positions', 'Cluster']"
   ]
  },
  {
   "cell_type": "code",
   "execution_count": 179,
   "metadata": {},
   "outputs": [],
   "source": [
    "tdfs = []\n",
    "for si in range(1,5):\n",
    "    rename_dict = {'seq %d: fasta id'%(si): 'fasta_id',\n",
    "                   'seq %d: reference id'%(si): 'reference_id',\n",
    "                   'seq %d: fragment begin'%(si): 'fragment_begin',\n",
    "                   'seq %d: fragment end'%(si): 'fragment_end',\n",
    "                   'seq %d: Genus / Genogroup'%(si): 'Genus-Genogroup',\n",
    "                   'seq %d: ORF1'%(si): 'ORF1',\n",
    "                   'seq %d: ORF1 variant'%(si): 'ORF1_variant',\n",
    "                   'seq %d: ORF2'%(si): 'ORF2',\n",
    "                   'seq %d: ORF2 variant'%(si): 'ORF2_variant',\n",
    "                   'seq %d: Reference sequence for positions'%(si): 'Reference_sequence_for_positions',\n",
    "                   'seq %d: Cluster'%(si): 'Cluster'}\n",
    "    tdfs.append(df.rename(rename_dict, axis=1)[copycols])\n",
    "#     for ir, r in tdf.iterrows():\n",
    "#         gengroup = 'Genus-Genogroup'\n",
    "#         if r[gengroup] in available_genogroups:\n",
    "#             ndf.append(r, ignore_index=True)\n",
    "\n",
    "ndf = pd.concat(tdfs)"
   ]
  },
  {
   "cell_type": "code",
   "execution_count": 180,
   "metadata": {},
   "outputs": [
    {
     "name": "stdout",
     "output_type": "stream",
     "text": [
      "(8772, 52)\n",
      "(3140, 52)\n",
      "(27, 52)\n"
     ]
    }
   ],
   "source": [
    "print(ndf.shape)\n",
    "ndf = ndf[ndf['Genus-Genogroup'].notna()]\n",
    "ndf = ndf.reset_index(level=0, drop=True)\n",
    "print(ndf.shape)\n",
    "print(ndf[ndf['Genus-Genogroup']=='Unassigned'].shape)"
   ]
  },
  {
   "cell_type": "markdown",
   "metadata": {},
   "source": [
    "## Data cleaning\n",
    "drop columns with irrelevant data"
   ]
  },
  {
   "cell_type": "markdown",
   "metadata": {},
   "source": [
    "Get rid of columns with no value"
   ]
  },
  {
   "cell_type": "code",
   "execution_count": 181,
   "metadata": {},
   "outputs": [
    {
     "name": "stdout",
     "output_type": "stream",
     "text": [
      "Dropping column: Nosocomial infection Y/N (sampledate > 2days after date of hospitalization)\n",
      "Dropping column: Specify animal\n"
     ]
    }
   ],
   "source": [
    "for c in ndf.columns:\n",
    "    if ndf[c].notna().sum()==0:\n",
    "        print(\"Dropping column: %s\"%c)\n",
    "        ndf.drop(c, axis=1, inplace=True)\n",
    "    "
   ]
  },
  {
   "cell_type": "code",
   "execution_count": 182,
   "metadata": {},
   "outputs": [],
   "source": [
    "drop_irrelevant_cols = ['Dutch lab Y/N',  'Nr of cases with vomiting AND diarrhea']\n",
    "ndf.drop(drop_irrelevant_cols, axis=1, inplace=True)"
   ]
  },
  {
   "cell_type": "code",
   "execution_count": 183,
   "metadata": {},
   "outputs": [
    {
     "name": "stderr",
     "output_type": "stream",
     "text": [
      "/opt/conda/lib/python3.7/site-packages/ipykernel_launcher.py:3: SettingWithCopyWarning: \n",
      "A value is trying to be set on a copy of a slice from a DataFrame.\n",
      "Try using .loc[row_indexer,col_indexer] = value instead\n",
      "\n",
      "See the caveats in the documentation: https://pandas.pydata.org/pandas-docs/stable/user_guide/indexing.html#returning-a-view-versus-a-copy\n",
      "  This is separate from the ipykernel package so we can avoid doing imports until\n"
     ]
    }
   ],
   "source": [
    "# Looks better this way\n",
    "colname = 'Suspected country of infection'\n",
    "ndf[ndf[colname]=='Same as reporting country'][colname] = ndf[ndf[colname]=='Same as reporting country']['Country']"
   ]
  },
  {
   "cell_type": "markdown",
   "metadata": {},
   "source": [
    "#### split ORFs into main and subtype"
   ]
  },
  {
   "cell_type": "code",
   "execution_count": 192,
   "metadata": {},
   "outputs": [
    {
     "data": {
      "text/plain": [
       "array(['GII.P16', nan, 'GII.P4', 'GII.P17', 'GII.Pe', 'GII.P21', 'GI.P2',\n",
       "       'GI.Pb', 'GI.P4', 'GI.P3', 'GII.P7', 'Unknown', 'GII.P2', 'GII.Pc',\n",
       "       'GI.P1', 'GII.P8', 'GI.P7', 'GII.P12', 'GI.P5', 'GI.P6', 'GI.Pd',\n",
       "       'GI.Pa', 'GII.Pq', 'GII.Pg', 'GII.P11', 'GII.P22', 'GII.P20',\n",
       "       'GII.P30 (GII.Pc)', 'GI.P13 (GI.Pd)', 'GII.P31 (GII.Pe)', 'GI.P9'],\n",
       "      dtype=object)"
      ]
     },
     "execution_count": 192,
     "metadata": {},
     "output_type": "execute_result"
    }
   ],
   "source": [
    "ndf['ORF1'].unique()"
   ]
  },
  {
   "cell_type": "code",
   "execution_count": 191,
   "metadata": {},
   "outputs": [],
   "source": [
    "ndf.loc[ndf['ORF1']=='Could not assign', 'ORF1'] = 'Unknown'\n",
    "ndf.loc[ndf['ORF2']=='Could not assign', 'ORF2'] = 'Unknown'"
   ]
  },
  {
   "cell_type": "code",
   "execution_count": 193,
   "metadata": {},
   "outputs": [],
   "source": [
    "ndf['ORF1_sub'] = ndf['ORF1'].apply(lambda x: x.split(\".\")[-1] if type(x) != np.float else 'Unknown')\n",
    "ndf['ORF1'] = ndf['ORF1'].apply(lambda x: x.split(\".\")[0] if type(x) != np.float else 'Unknown')\n",
    "ndf['ORF2_sub'] = ndf['ORF2'].apply(lambda x: x.split(\".\")[-1] if type(x) != np.float else 'Unknown')\n",
    "ndf['ORF2'] = ndf['ORF2'].apply(lambda x: x.split(\".\")[0] if type(x) != np.float else 'Unknown')"
   ]
  },
  {
   "cell_type": "code",
   "execution_count": 221,
   "metadata": {},
   "outputs": [],
   "source": [
    "# Correct Typos\n",
    "ndf.loc[ndf['ORF1_sub']=='Pd)', 'ORF1_sub'] = 'Pd'\n",
    "ndf.loc[ndf['ORF1_sub']=='Pc)', 'ORF1_sub'] = 'Pc'\n",
    "ndf.loc[ndf['ORF1_sub']=='Pe)', 'ORF1_sub'] = 'Pe'"
   ]
  },
  {
   "cell_type": "markdown",
   "metadata": {},
   "source": [
    "### Sort out columns depending on their type of data\n",
    "* with boolean (e.g. yes/no)\n",
    "* with only strings\n",
    "* with few integers\n",
    "* with a range of numbers\n",
    "* with datetime data\n",
    "\n",
    "Then we could put columns with fewer unique values in the columns of the pivottable"
   ]
  },
  {
   "cell_type": "code",
   "execution_count": 223,
   "metadata": {},
   "outputs": [],
   "source": [
    "booleans = ['Outbreak or sporadic case O/S', 'Point source transmission Y/N', 'Mixed infection Y/N', 'Included in II.4 P2 capsid surveillance']\n",
    "numbers = [ 'Nr of persons affected', 'Nr of persons at risk', 'Nr of cases deceased', 'Nr of cases hospitalized due to infection', 'Nr of cases of ages 0 to 4',\n",
    "           'Nr of cases of ages 5 to 14', 'Nr of cases of ages 15 to 64', 'Nr of cases of age 65 or older', 'Nr of cases with vomiting', 'Nr of cases with diarrhea',\n",
    "            'Nr of samples tested', 'Nr of PCR positive samples', 'Nr of PCR negative samples']\n",
    "geo = [ 'Institute', 'Country', 'Suspected country of infection']\n",
    "dates = ['Submission Date', 'Last Update', 'Sample Date','Date of first disease','Date of point source transmission',]\n",
    "ids = ['User', 'Database ID', 'Outbreak Nr']\n",
    "pathological = ['Source of the sample', 'Specify source', 'Suspected mode of transmission', 'Specify other mode of transmission', 'Food item', 'Specify food item',\n",
    " 'Setting of the outbreak', 'Specify setting', 'Specify other pathogen(s)']\n",
    "seq_data =['fasta_id', 'reference_id', 'fragment_begin', 'Genus-Genogroup', 'ORF1', 'ORF1_sub', 'ORF1_variant', 'ORF2', 'ORF2_sub', 'ORF2_variant', 'Reference_sequence_for_positions', 'Cluster']\n",
    "etc = ['Geo-coded location']"
   ]
  },
  {
   "cell_type": "markdown",
   "metadata": {},
   "source": [
    "### Saving data"
   ]
  },
  {
   "cell_type": "code",
   "execution_count": 224,
   "metadata": {},
   "outputs": [],
   "source": [
    "# dataframe\n",
    "ndf.to_json(\"noronet_clean.json\")\n",
    "ndf.to_feather(\"noronet_clean.fr\")\n",
    "# categories\n",
    "dict_categories = {'geo':geo,\n",
    "                  'booleans':booleans,\n",
    "                  'numbers': numbers,\n",
    "                  'dates': dates,\n",
    "                   'ids': ids,\n",
    "                   'pathological': pathological,\n",
    "                   'seq_data': seq_data,\n",
    "                   'etc': etc\n",
    "                  }\n",
    "\n",
    "with open(\"categories.json\", 'w') as f:\n",
    "    f.write(json.dumps(dict_categories))\n"
   ]
  },
  {
   "cell_type": "markdown",
   "metadata": {},
   "source": [
    "### convert date to datetime"
   ]
  },
  {
   "cell_type": "code",
   "execution_count": 211,
   "metadata": {},
   "outputs": [],
   "source": [
    "for i in range(len(dates)):\n",
    "    ndf.loc[:, dates[i]] = pd.to_datetime(ndf[dates[i]])"
   ]
  },
  {
   "cell_type": "code",
   "execution_count": 212,
   "metadata": {},
   "outputs": [
    {
     "data": {
      "text/html": [
       "<div>\n",
       "<style scoped>\n",
       "    .dataframe tbody tr th:only-of-type {\n",
       "        vertical-align: middle;\n",
       "    }\n",
       "\n",
       "    .dataframe tbody tr th {\n",
       "        vertical-align: top;\n",
       "    }\n",
       "\n",
       "    .dataframe thead th {\n",
       "        text-align: right;\n",
       "    }\n",
       "</style>\n",
       "<table border=\"1\" class=\"dataframe\">\n",
       "  <thead>\n",
       "    <tr style=\"text-align: right;\">\n",
       "      <th></th>\n",
       "      <th>Submission Date</th>\n",
       "      <th>Last Update</th>\n",
       "      <th>Sample Date</th>\n",
       "      <th>Date of first disease</th>\n",
       "      <th>Date of point source transmission</th>\n",
       "    </tr>\n",
       "  </thead>\n",
       "  <tbody>\n",
       "    <tr>\n",
       "      <th>0</th>\n",
       "      <td>2018-04-01</td>\n",
       "      <td>2018-01-04 11:44:22</td>\n",
       "      <td>2016-12-20</td>\n",
       "      <td>2016-12-20</td>\n",
       "      <td>NaT</td>\n",
       "    </tr>\n",
       "    <tr>\n",
       "      <th>1</th>\n",
       "      <td>2018-04-01</td>\n",
       "      <td>2018-01-04 11:46:45</td>\n",
       "      <td>2016-12-27</td>\n",
       "      <td>2016-12-23</td>\n",
       "      <td>NaT</td>\n",
       "    </tr>\n",
       "    <tr>\n",
       "      <th>2</th>\n",
       "      <td>2018-04-01</td>\n",
       "      <td>2018-01-04 11:48:48</td>\n",
       "      <td>2016-12-21</td>\n",
       "      <td>2016-12-18</td>\n",
       "      <td>NaT</td>\n",
       "    </tr>\n",
       "    <tr>\n",
       "      <th>3</th>\n",
       "      <td>2018-04-01</td>\n",
       "      <td>2018-01-04 11:51:12</td>\n",
       "      <td>2016-12-20</td>\n",
       "      <td>2016-12-17</td>\n",
       "      <td>NaT</td>\n",
       "    </tr>\n",
       "    <tr>\n",
       "      <th>4</th>\n",
       "      <td>2018-04-01</td>\n",
       "      <td>2018-01-04 11:53:13</td>\n",
       "      <td>2016-12-12</td>\n",
       "      <td>2016-09-12</td>\n",
       "      <td>NaT</td>\n",
       "    </tr>\n",
       "  </tbody>\n",
       "</table>\n",
       "</div>"
      ],
      "text/plain": [
       "  Submission Date         Last Update Sample Date Date of first disease  \\\n",
       "0      2018-04-01 2018-01-04 11:44:22  2016-12-20            2016-12-20   \n",
       "1      2018-04-01 2018-01-04 11:46:45  2016-12-27            2016-12-23   \n",
       "2      2018-04-01 2018-01-04 11:48:48  2016-12-21            2016-12-18   \n",
       "3      2018-04-01 2018-01-04 11:51:12  2016-12-20            2016-12-17   \n",
       "4      2018-04-01 2018-01-04 11:53:13  2016-12-12            2016-09-12   \n",
       "\n",
       "  Date of point source transmission  \n",
       "0                               NaT  \n",
       "1                               NaT  \n",
       "2                               NaT  \n",
       "3                               NaT  \n",
       "4                               NaT  "
      ]
     },
     "execution_count": 212,
     "metadata": {},
     "output_type": "execute_result"
    }
   ],
   "source": [
    "ndf[dates].head()"
   ]
  },
  {
   "cell_type": "markdown",
   "metadata": {},
   "source": [
    "### Lets see each categories in detail, and check if we didn't miss any detail"
   ]
  },
  {
   "cell_type": "code",
   "execution_count": 213,
   "metadata": {},
   "outputs": [
    {
     "name": "stdout",
     "output_type": "stream",
     "text": [
      "['O' 'S' nan]\n",
      "['No' nan 'Yes']\n",
      "['No' 'Yes' nan]\n",
      "['No' 'Yes' nan]\n",
      "<class 'pandas.core.frame.DataFrame'>\n",
      "RangeIndex: 3140 entries, 0 to 3139\n",
      "Data columns (total 4 columns):\n",
      " #   Column                                   Non-Null Count  Dtype \n",
      "---  ------                                   --------------  ----- \n",
      " 0   Outbreak or sporadic case O/S            2166 non-null   object\n",
      " 1   Point source transmission Y/N            1727 non-null   object\n",
      " 2   Mixed infection Y/N                      1747 non-null   object\n",
      " 3   Included in II.4 P2 capsid surveillance  1785 non-null   object\n",
      "dtypes: object(4)\n",
      "memory usage: 98.2+ KB\n"
     ]
    }
   ],
   "source": [
    "#booleans\n",
    "for c in booleans:\n",
    "    print(ndf[c].unique())\n",
    "ndf[booleans].info()"
   ]
  },
  {
   "cell_type": "code",
   "execution_count": 214,
   "metadata": {},
   "outputs": [
    {
     "name": "stdout",
     "output_type": "stream",
     "text": [
      "Number of unique values for each column\n",
      "Nr of persons affected \t 76\n",
      "Nr of persons at risk \t 118\n",
      "Nr of cases deceased \t 4\n",
      "Nr of cases hospitalized due to infection \t 24\n",
      "Nr of cases of ages 0 to 4 \t 17\n",
      "Nr of cases of ages 5 to 14 \t 30\n",
      "Nr of cases of ages 15 to 64 \t 39\n",
      "Nr of cases of age 65 or older \t 52\n",
      "Nr of cases with vomiting \t 36\n",
      "Nr of cases with diarrhea \t 38\n",
      "Nr of samples tested \t 32\n",
      "Nr of PCR positive samples \t 26\n",
      "Nr of PCR negative samples \t 21\n",
      "\n",
      "Informations about the numbers category\n",
      "<class 'pandas.core.frame.DataFrame'>\n",
      "RangeIndex: 3140 entries, 0 to 3139\n",
      "Data columns (total 13 columns):\n",
      " #   Column                                     Non-Null Count  Dtype  \n",
      "---  ------                                     --------------  -----  \n",
      " 0   Nr of persons affected                     1300 non-null   float64\n",
      " 1   Nr of persons at risk                      412 non-null    float64\n",
      " 2   Nr of cases deceased                       565 non-null    float64\n",
      " 3   Nr of cases hospitalized due to infection  771 non-null    float64\n",
      " 4   Nr of cases of ages 0 to 4                 317 non-null    float64\n",
      " 5   Nr of cases of ages 5 to 14                317 non-null    float64\n",
      " 6   Nr of cases of ages 15 to 64               572 non-null    float64\n",
      " 7   Nr of cases of age 65 or older             492 non-null    float64\n",
      " 8   Nr of cases with vomiting                  491 non-null    float64\n",
      " 9   Nr of cases with diarrhea                  526 non-null    float64\n",
      " 10  Nr of samples tested                       1302 non-null   float64\n",
      " 11  Nr of PCR positive samples                 1292 non-null   float64\n",
      " 12  Nr of PCR negative samples                 1058 non-null   float64\n",
      "dtypes: float64(13)\n",
      "memory usage: 319.0 KB\n"
     ]
    }
   ],
   "source": [
    "#numbers\n",
    "dict_numbers_unique_values = { c: len(ndf[c].unique()) for c in numbers}\n",
    "print(\"Number of unique values for each column\")\n",
    "for k in dict_numbers_unique_values.keys():\n",
    "    print(k, \"\\t\",dict_numbers_unique_values[k])\n",
    "\n",
    "print(\"\\nInformations about the numbers category\")\n",
    "ndf[numbers].info()"
   ]
  },
  {
   "cell_type": "code",
   "execution_count": 215,
   "metadata": {},
   "outputs": [
    {
     "name": "stdout",
     "output_type": "stream",
     "text": [
      "Number of unique values for each column\n",
      "Institute \t 19\n",
      "Country \t 14\n",
      "Suspected country of infection \t 6\n",
      "\n",
      "Informations about the geo data\n",
      "<class 'pandas.core.frame.DataFrame'>\n",
      "RangeIndex: 3140 entries, 0 to 3139\n",
      "Data columns (total 3 columns):\n",
      " #   Column                          Non-Null Count  Dtype \n",
      "---  ------                          --------------  ----- \n",
      " 0   Institute                       3140 non-null   object\n",
      " 1   Country                         3140 non-null   object\n",
      " 2   Suspected country of infection  2512 non-null   object\n",
      "dtypes: object(3)\n",
      "memory usage: 73.7+ KB\n"
     ]
    }
   ],
   "source": [
    "#geo\n",
    "dict_unique_values = { c: len(ndf[c].unique()) for c in geo}\n",
    "print(\"Number of unique values for each column\")\n",
    "for k in dict_unique_values.keys():\n",
    "    print(k, \"\\t\",dict_unique_values[k])\n",
    "\n",
    "print(\"\\nInformations about the geo data\")\n",
    "ndf[geo].info()"
   ]
  },
  {
   "cell_type": "code",
   "execution_count": 216,
   "metadata": {},
   "outputs": [
    {
     "name": "stdout",
     "output_type": "stream",
     "text": [
      "Number of unique values for each column\n",
      "Submission Date \t 150\n",
      "Last Update \t 2178\n",
      "Sample Date \t 830\n",
      "Date of first disease \t 506\n",
      "Date of point source transmission \t 2\n",
      "\n",
      "Informations about the numbers category\n",
      "<class 'pandas.core.frame.DataFrame'>\n",
      "RangeIndex: 3140 entries, 0 to 3139\n",
      "Data columns (total 5 columns):\n",
      " #   Column                             Non-Null Count  Dtype         \n",
      "---  ------                             --------------  -----         \n",
      " 0   Submission Date                    3140 non-null   datetime64[ns]\n",
      " 1   Last Update                        3140 non-null   datetime64[ns]\n",
      " 2   Sample Date                        3140 non-null   datetime64[ns]\n",
      " 3   Date of first disease              1577 non-null   datetime64[ns]\n",
      " 4   Date of point source transmission  8 non-null      datetime64[ns]\n",
      "dtypes: datetime64[ns](5)\n",
      "memory usage: 122.8 KB\n"
     ]
    }
   ],
   "source": [
    "#dates\n",
    "dict_unique_values = { c: len(ndf[c].unique()) for c in dates}\n",
    "print(\"Number of unique values for each column\")\n",
    "for k in dict_unique_values.keys():\n",
    "    print(k, \"\\t\",dict_unique_values[k])\n",
    "\n",
    "print(\"\\nInformations about the numbers category\")\n",
    "ndf[dates].info()"
   ]
  },
  {
   "cell_type": "code",
   "execution_count": 217,
   "metadata": {},
   "outputs": [
    {
     "name": "stdout",
     "output_type": "stream",
     "text": [
      "Number of unique values for each column\n",
      "Source of the sample \t 4\n",
      "Specify source \t 4\n",
      "Suspected mode of transmission \t 7\n",
      "Specify other mode of transmission \t 12\n",
      "Food item \t 10\n",
      "Specify food item \t 29\n",
      "Setting of the outbreak \t 12\n",
      "Specify setting \t 63\n",
      "Specify other pathogen(s) \t 35\n",
      "\n",
      "Informations about the pathological category\n",
      "<class 'pandas.core.frame.DataFrame'>\n",
      "RangeIndex: 3140 entries, 0 to 3139\n",
      "Data columns (total 9 columns):\n",
      " #   Column                              Non-Null Count  Dtype \n",
      "---  ------                              --------------  ----- \n",
      " 0   Source of the sample                3140 non-null   object\n",
      " 1   Specify source                      65 non-null     object\n",
      " 2   Suspected mode of transmission      963 non-null    object\n",
      " 3   Specify other mode of transmission  31 non-null     object\n",
      " 4   Food item                           208 non-null    object\n",
      " 5   Specify food item                   98 non-null     object\n",
      " 6   Setting of the outbreak             1873 non-null   object\n",
      " 7   Specify setting                     184 non-null    object\n",
      " 8   Specify other pathogen(s)           111 non-null    object\n",
      "dtypes: object(9)\n",
      "memory usage: 220.9+ KB\n"
     ]
    }
   ],
   "source": [
    "#pathological\n",
    "dict_unique_values = { c: len(ndf[c].unique()) for c in pathological}\n",
    "print(\"Number of unique values for each column\")\n",
    "for k in dict_unique_values.keys():\n",
    "    print(k, \"\\t\",dict_unique_values[k])\n",
    "\n",
    "print(\"\\nInformations about the pathological category\")\n",
    "ndf[pathological].info()"
   ]
  },
  {
   "cell_type": "code",
   "execution_count": 218,
   "metadata": {},
   "outputs": [
    {
     "name": "stdout",
     "output_type": "stream",
     "text": [
      "\n",
      "Informations about the the sequences\n",
      "<class 'pandas.core.frame.DataFrame'>\n",
      "RangeIndex: 3140 entries, 0 to 3139\n",
      "Data columns (total 12 columns):\n",
      " #   Column                            Non-Null Count  Dtype  \n",
      "---  ------                            --------------  -----  \n",
      " 0   fasta_id                          3140 non-null   object \n",
      " 1   reference_id                      3098 non-null   object \n",
      " 2   fragment_begin                    3098 non-null   float64\n",
      " 3   Genus-Genogroup                   3140 non-null   object \n",
      " 4   ORF1                              3140 non-null   object \n",
      " 5   ORF1_sub                          3140 non-null   object \n",
      " 6   ORF1_variant                      154 non-null    object \n",
      " 7   ORF2                              3140 non-null   object \n",
      " 8   ORF2_sub                          3140 non-null   object \n",
      " 9   ORF2_variant                      940 non-null    object \n",
      " 10  Reference_sequence_for_positions  3098 non-null   object \n",
      " 11  Cluster                           1867 non-null   object \n",
      "dtypes: float64(1), object(11)\n",
      "memory usage: 294.5+ KB\n"
     ]
    }
   ],
   "source": [
    "#seq\n",
    "print(\"\\nInformations about the the sequences\")\n",
    "ndf[seq_data].info()"
   ]
  },
  {
   "cell_type": "code",
   "execution_count": null,
   "metadata": {},
   "outputs": [],
   "source": []
  }
 ],
 "metadata": {
  "kernelspec": {
   "display_name": "Python 3",
   "language": "python",
   "name": "python3"
  },
  "language_info": {
   "codemirror_mode": {
    "name": "ipython",
    "version": 3
   },
   "file_extension": ".py",
   "mimetype": "text/x-python",
   "name": "python",
   "nbconvert_exporter": "python",
   "pygments_lexer": "ipython3",
   "version": "3.7.6"
  }
 },
 "nbformat": 4,
 "nbformat_minor": 4
}
